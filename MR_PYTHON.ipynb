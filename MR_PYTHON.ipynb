{
  "cells": [
    {
      "cell_type": "markdown",
      "metadata": {
        "id": "view-in-github",
        "colab_type": "text"
      },
      "source": [
        "<a href=\"https://colab.research.google.com/github/Rashed-2004/My_Python-Note-book/blob/main/MR_PYTHON.ipynb\" target=\"_parent\"><img src=\"https://colab.research.google.com/assets/colab-badge.svg\" alt=\"Open In Colab\"/></a>"
      ]
    },
    {
      "cell_type": "markdown",
      "metadata": {
        "id": "SfVAERX4lfc6"
      },
      "source": [
        "#Module1_PYTHON-29/04/2005\n"
      ]
    },
    {
      "cell_type": "code",
      "execution_count": null,
      "metadata": {
        "id": "dQe3mONjkS8i"
      },
      "outputs": [],
      "source": [
        "# what is pyhton ?\n",
        "\"\"\"1.Python is most emerging,general purposing programming language\n",
        "   2. Python is high level programming language\n",
        "   3.Python is a dynamcally typed programming language\n",
        "   4.Python is object oriented programming language\n",
        "   5.Python is interpreted programming language \"\"\"\n",
        "#what is comment?\n",
        "#for better understanding of the code we use comments\n",
        "#comments are 2 types\n",
        "#1.Single line comment\n",
        "#2.multiline comment-->double triple quotes(\"\"\" \"\"\")"
      ]
    },
    {
      "cell_type": "code",
      "execution_count": null,
      "metadata": {
        "colab": {
          "base_uri": "https://localhost:8080/"
        },
        "id": "iYycTpnhm8hk",
        "outputId": "e50920c5-a7dc-4359-da25-45b3c979db4a"
      },
      "outputs": [
        {
          "name": "stdout",
          "output_type": "stream",
          "text": [
            "Hello world\n"
          ]
        }
      ],
      "source": [
        "# print \"Hello world\" in python?\n",
        "print(\"Hello world\")\n",
        "#print()--> it is ainbuilt function used to execute and display the result"
      ]
    },
    {
      "cell_type": "markdown",
      "metadata": {
        "id": "0vRjQUNNoD4n"
      },
      "source": [
        "Numerical Data type\n"
      ]
    },
    {
      "cell_type": "code",
      "execution_count": null,
      "metadata": {
        "colab": {
          "base_uri": "https://localhost:8080/"
        },
        "id": "NK_1ClZ7sLlQ",
        "outputId": "f4db4812-7062-4dac-8c9e-8783aedd960d"
      },
      "outputs": [
        {
          "name": "stdout",
          "output_type": "stream",
          "text": [
            "20\n",
            "5\n",
            "<class 'int'>\n",
            "<class 'int'>\n"
          ]
        }
      ],
      "source": [
        "#How many types of Numerical data types/\n",
        "#there are 3 types\n",
        "#1.Integer--->int-->a whole number eithe +ve or -ve without decimal point is known as integer\n",
        "print(20)\n",
        "print(5)\n",
        "#find the type for above elements\n",
        "#type()--- is an inbuilt function used to print the data type of the object\n",
        "print(type(10))\n",
        "print(type(5))"
      ]
    },
    {
      "cell_type": "code",
      "execution_count": null,
      "metadata": {
        "colab": {
          "base_uri": "https://localhost:8080/"
        },
        "id": "HiHdZslYsdaM",
        "outputId": "a8550c09-67e6-46bc-a32e-b4f5673c678f"
      },
      "outputs": [
        {
          "name": "stdout",
          "output_type": "stream",
          "text": [
            "10.5\n",
            "-5.5\n",
            "<class 'float'>\n",
            "<class 'float'>\n"
          ]
        }
      ],
      "source": [
        "#float----> #float---> A whole number either +ve or -ve with decimal point is known as float\n",
        "print(10.5)\n",
        "print(-5.5)\n",
        "#find the type for above elements\n",
        "print(type(10.5))\n",
        "print(type(-5.5))"
      ]
    },
    {
      "cell_type": "code",
      "execution_count": null,
      "metadata": {
        "colab": {
          "base_uri": "https://localhost:8080/"
        },
        "id": "RoABSCUAsj4w",
        "outputId": "d297f0ab-1f6f-4363-cd30-8dff0f443ba0"
      },
      "outputs": [
        {
          "name": "stdout",
          "output_type": "stream",
          "text": [
            "(2+5j)\n",
            "(3+6j)\n",
            "<class 'complex'>\n",
            "<class 'complex'>\n"
          ]
        }
      ],
      "source": [
        "#3.Complex numbers----->complex----> A REAL NUMBER withits imaginary part is known as complex number\n",
        "#imaginary is denoted with letter 'i'---->is known as iota\n",
        "print(2+5j)\n",
        "print(6j+3)\n",
        "print(type(2+5j))\n",
        "print(type(6j+3))"
      ]
    },
    {
      "cell_type": "markdown",
      "metadata": {
        "id": "y_BlbsovstT3"
      },
      "source": [
        "Arthemetic Operators"
      ]
    },
    {
      "cell_type": "code",
      "execution_count": null,
      "metadata": {
        "colab": {
          "base_uri": "https://localhost:8080/"
        },
        "id": "QsaIHRxssyYv",
        "outputId": "f13cb4b9-296f-434c-9f1b-58c9088c03c6"
      },
      "outputs": [
        {
          "name": "stdout",
          "output_type": "stream",
          "text": [
            "15\n",
            "<class 'int'>\n"
          ]
        }
      ],
      "source": [
        "#How many types of arthimetic operators do we have in Python?\n",
        "#There are 7 types of arithemetic operators\n",
        "#1.Addition----->\n",
        "print(10+5)\n",
        "print(type(10+5))"
      ]
    },
    {
      "cell_type": "code",
      "execution_count": null,
      "metadata": {
        "colab": {
          "base_uri": "https://localhost:8080/"
        },
        "id": "rsnP3cc9tEVx",
        "outputId": "bad8305c-85d8-4cd6-b7c6-e831a8041bc5"
      },
      "outputs": [
        {
          "name": "stdout",
          "output_type": "stream",
          "text": [
            "5\n",
            "<class 'int'>\n"
          ]
        }
      ],
      "source": [
        "#2.Substraction------>\n",
        "print(10-5)\n",
        "print(type(10-5))"
      ]
    },
    {
      "cell_type": "code",
      "execution_count": null,
      "metadata": {
        "colab": {
          "base_uri": "https://localhost:8080/"
        },
        "id": "4lP989IVtGZl",
        "outputId": "4489a263-b222-4f55-db9e-f528eb452013"
      },
      "outputs": [
        {
          "name": "stdout",
          "output_type": "stream",
          "text": [
            "6\n",
            "<class 'int'>\n"
          ]
        }
      ],
      "source": [
        "#3.Multiplication ------>\n",
        "print(2*3)\n",
        "print(type(2*3))"
      ]
    },
    {
      "cell_type": "code",
      "execution_count": null,
      "metadata": {
        "colab": {
          "base_uri": "https://localhost:8080/"
        },
        "id": "i2lEg7IetGWI",
        "outputId": "c805a672-5b1e-4b6a-e533-522887d49698"
      },
      "outputs": [
        {
          "name": "stdout",
          "output_type": "stream",
          "text": [
            "2.0\n",
            "<class 'float'>\n"
          ]
        }
      ],
      "source": [
        "#4.Division------>\n",
        "print(10/5)\n",
        "print(type(10/5))\n",
        "#what is default data type for the division--->why\n",
        "#some times in divison we may get decimal number in quotient or integers also.So the founder\n",
        "#(Gudeo Van Rossum) to get the proper quotient data type for division is float"
      ]
    },
    {
      "cell_type": "code",
      "execution_count": null,
      "metadata": {
        "colab": {
          "base_uri": "https://localhost:8080/"
        },
        "id": "vxkvhSU0tGRg",
        "outputId": "50143b8e-1646-4eeb-ee65-440890e85a68"
      },
      "outputs": [
        {
          "name": "stdout",
          "output_type": "stream",
          "text": [
            "0\n",
            "<class 'int'>\n"
          ]
        }
      ],
      "source": [
        "#5.Modulus--->%----> remainder of the division\n",
        "print(10%5)\n",
        "print(type(10%5))"
      ]
    },
    {
      "cell_type": "code",
      "execution_count": null,
      "metadata": {
        "colab": {
          "base_uri": "https://localhost:8080/"
        },
        "id": "qE4sstUJtaLU",
        "outputId": "5596a4cc-598c-4aef-d349-716fd6a457aa"
      },
      "outputs": [
        {
          "name": "stdout",
          "output_type": "stream",
          "text": [
            "8\n",
            "<class 'int'>\n"
          ]
        }
      ],
      "source": [
        "#6.Exponential---->**---> to the power off\n",
        "print(2**3)\n",
        "print(type(2**3))"
      ]
    },
    {
      "cell_type": "code",
      "execution_count": null,
      "metadata": {
        "colab": {
          "base_uri": "https://localhost:8080/"
        },
        "id": "ImGHyxwBtZ_n",
        "outputId": "06ac3942-ba95-4fa1-f161-86fddaad83e5"
      },
      "outputs": [
        {
          "name": "stdout",
          "output_type": "stream",
          "text": [
            "3.3333333333333335\n",
            "3\n"
          ]
        }
      ],
      "source": [
        "#7.Floor Division---->//---->also known as integer division\n",
        "#it ignores the values after the decimal point for a quotient\n",
        "print(10/3)\n",
        "print(10//3)"
      ]
    },
    {
      "cell_type": "code",
      "execution_count": null,
      "metadata": {
        "id": "Qv1HOXCxtrLu"
      },
      "outputs": [],
      "source": [
        "#what is floor value?\n",
        "#The values before the decimal point is known as floor value\n",
        "#what is ceil value?\n",
        "#the next upcoming value for a decimal number where the decimal point is more than 0.5"
      ]
    },
    {
      "cell_type": "markdown",
      "metadata": {
        "id": "YK5APADXuAgn"
      },
      "source": [
        "round()\n"
      ]
    },
    {
      "cell_type": "code",
      "execution_count": null,
      "metadata": {
        "colab": {
          "base_uri": "https://localhost:8080/"
        },
        "id": "FgcMoC6hB5rt",
        "outputId": "caf35f2e-5900-4714-80e7-fb284bad2825"
      },
      "outputs": [
        {
          "name": "stdout",
          "output_type": "stream",
          "text": [
            "9\n",
            "6\n",
            "5\n",
            "1234\n",
            "568\n"
          ]
        }
      ],
      "source": [
        "#1.round() works only for the decimal numbers\n",
        "#2.if the decimal point more than 0.5 round() print the next upcoming value--->ceil value\n",
        "#3.if the decimal point less than 0.5 round() print the floor value\n",
        "print(round(9))\n",
        "print(round(5.5))\n",
        "print(round(5.48))\n",
        "print(round(1234.46789))\n",
        "print(round(567.987))\n",
        "#round() is used print number with specific ndigits\n",
        "#round(number,ndigits)"
      ]
    },
    {
      "cell_type": "code",
      "execution_count": null,
      "metadata": {
        "colab": {
          "base_uri": "https://localhost:8080/"
        },
        "id": "8g-hAVOsx8kz",
        "outputId": "e30b2cd0-a7c6-4903-9ec2-8888447a47f7"
      },
      "outputs": [
        {
          "name": "stdout",
          "output_type": "stream",
          "text": [
            "231538\n",
            "426.328\n"
          ]
        }
      ],
      "source": [
        "print(round(231537.8378844540))\n",
        "print(round(426.3284747,3))"
      ]
    },
    {
      "cell_type": "code",
      "execution_count": null,
      "metadata": {
        "colab": {
          "base_uri": "https://localhost:8080/"
        },
        "id": "HuZHK6fLCwbN",
        "outputId": "8a3f6b52-dd59-4ca2-c210-7558034a35d7"
      },
      "outputs": [
        {
          "name": "stdout",
          "output_type": "stream",
          "text": [
            "785.0\n",
            "6589.32948\n",
            "12.5943\n"
          ]
        }
      ],
      "source": [
        "print(round(785.42563,0))\n",
        "print(round(6589.32947890,5))\n",
        "print(round(12.59426,4))"
      ]
    },
    {
      "cell_type": "code",
      "execution_count": null,
      "metadata": {
        "id": "uDtsTipmDhaM"
      },
      "outputs": [],
      "source": [
        "#round(-ve digit)\n",
        "#variables\n",
        "#types of errors\n",
        "#industrial rules to create the variables\n",
        "#what is dynamically typed programming language\n",
        "#why python is interpreted programming\n",
        "#prove python is a case sensitive programming language\n",
        "#smart ways of writing variables\n",
        "#input()"
      ]
    },
    {
      "cell_type": "markdown",
      "metadata": {
        "id": "yMmxPZONuEXe"
      },
      "source": [
        "30-04-2025\n"
      ]
    },
    {
      "cell_type": "code",
      "execution_count": null,
      "metadata": {
        "colab": {
          "base_uri": "https://localhost:8080/"
        },
        "id": "MxUNvhMmubQh",
        "outputId": "2ecbda65-3a09-45b0-f40f-5ebaac06cb08"
      },
      "outputs": [
        {
          "name": "stdout",
          "output_type": "stream",
          "text": [
            "3754.2366325\n",
            "3754.24\n"
          ]
        }
      ],
      "source": [
        "print(3754.2366325)\n",
        "print(round(3754.2366325,2))\n"
      ]
    },
    {
      "cell_type": "code",
      "execution_count": null,
      "metadata": {
        "colab": {
          "base_uri": "https://localhost:8080/"
        },
        "id": "W5_PTId2vH6t",
        "outputId": "9ede50ff-0e2f-40f4-ded1-d44be96fd3c4"
      },
      "outputs": [
        {
          "name": "stdout",
          "output_type": "stream",
          "text": [
            "3754.2366325\n",
            "3800.0\n"
          ]
        }
      ],
      "source": [
        "print(3754.2366325)\n",
        "print(round(3754.2366325,-2))\n",
        "#after decimal point the number become zero"
      ]
    },
    {
      "cell_type": "code",
      "execution_count": null,
      "metadata": {
        "colab": {
          "base_uri": "https://localhost:8080/"
        },
        "id": "UTgJFJa7vaCE",
        "outputId": "31874ffa-cee1-4e08-b3e3-7a8e11cdb940"
      },
      "outputs": [
        {
          "name": "stdout",
          "output_type": "stream",
          "text": [
            "3754.2366325\n",
            "4000.0\n"
          ]
        }
      ],
      "source": [
        "print(3754.2366325)\n",
        "print(round(3754.2366325,-3))"
      ]
    },
    {
      "cell_type": "code",
      "execution_count": null,
      "metadata": {
        "colab": {
          "base_uri": "https://localhost:8080/"
        },
        "id": "rpgX-zjVDn2E",
        "outputId": "694a532e-776a-4234-dd2b-c4f3ac765d88"
      },
      "outputs": [
        {
          "name": "stdout",
          "output_type": "stream",
          "text": [
            "3754.2366325\n",
            "0.0\n"
          ]
        }
      ],
      "source": [
        "print(3754.2366325)\n",
        "print(round(3754.2366325,-4))"
      ]
    },
    {
      "cell_type": "code",
      "execution_count": null,
      "metadata": {
        "colab": {
          "base_uri": "https://localhost:8080/"
        },
        "id": "aSsgReKCDnu0",
        "outputId": "7de6b4d2-7d1a-4487-9986-086a8748f87e"
      },
      "outputs": [
        {
          "name": "stdout",
          "output_type": "stream",
          "text": [
            "827000.0\n"
          ]
        }
      ],
      "source": [
        "print(round(827256.723456,-3))"
      ]
    },
    {
      "cell_type": "code",
      "execution_count": null,
      "metadata": {
        "colab": {
          "base_uri": "https://localhost:8080/"
        },
        "id": "7SZYR0bXDnk0",
        "outputId": "974c6b58-8b1a-4e3e-9ce5-386d640d81d6"
      },
      "outputs": [
        {
          "name": "stdout",
          "output_type": "stream",
          "text": [
            "830000.0\n"
          ]
        }
      ],
      "source": [
        "print(round(827256.723456,-4))"
      ]
    },
    {
      "cell_type": "code",
      "execution_count": null,
      "metadata": {
        "colab": {
          "base_uri": "https://localhost:8080/"
        },
        "id": "8aIawWV6ErTE",
        "outputId": "1ec410f2-f9c1-4394-f4d8-29bf85e5ed4b"
      },
      "outputs": [
        {
          "name": "stdout",
          "output_type": "stream",
          "text": [
            "-12000.0\n"
          ]
        }
      ],
      "source": [
        "print(round(-12345.4567,-3))"
      ]
    },
    {
      "cell_type": "code",
      "execution_count": null,
      "metadata": {
        "colab": {
          "base_uri": "https://localhost:8080/"
        },
        "id": "RX4H_WG7E3A1",
        "outputId": "223def5c-b532-42fb-fff9-5643d8c4baf7"
      },
      "outputs": [
        {
          "name": "stdout",
          "output_type": "stream",
          "text": [
            "100000.0\n"
          ]
        }
      ],
      "source": [
        "print(round(73424.3452,-5))"
      ]
    },
    {
      "cell_type": "code",
      "execution_count": null,
      "metadata": {
        "colab": {
          "base_uri": "https://localhost:8080/"
        },
        "id": "kKMC_yqxE62F",
        "outputId": "a6d457ac-3383-4a4a-b394-0a855f09bce1"
      },
      "outputs": [
        {
          "name": "stdout",
          "output_type": "stream",
          "text": [
            "100000.0\n"
          ]
        }
      ],
      "source": [
        "print(round(73424.3452,-5))"
      ]
    },
    {
      "cell_type": "code",
      "execution_count": null,
      "metadata": {
        "colab": {
          "base_uri": "https://localhost:8080/"
        },
        "id": "PltsiaUlmXlx",
        "outputId": "864d94f5-9af0-4634-9df9-43f7a4cf7ac9"
      },
      "outputs": [
        {
          "name": "stdout",
          "output_type": "stream",
          "text": [
            "2.0\n"
          ]
        }
      ],
      "source": [
        "print(round(2.4999,0))"
      ]
    },
    {
      "cell_type": "markdown",
      "metadata": {
        "id": "UmNN_4SvFLeU"
      },
      "source": [
        "Variables\n"
      ]
    },
    {
      "cell_type": "code",
      "execution_count": null,
      "metadata": {
        "colab": {
          "base_uri": "https://localhost:8080/"
        },
        "id": "om0HwmySFYAs",
        "outputId": "7837893d-aaaf-48a4-c8a4-d4efec13a7b7"
      },
      "outputs": [
        {
          "name": "stdout",
          "output_type": "stream",
          "text": [
            "Hello world!\n",
            "<class 'str'>\n"
          ]
        }
      ],
      "source": [
        "#what is a variable?\n",
        "#variables are containers where we can store our valuable information/data to reuse it\n",
        "#How can we create a variable and how can we access the data from variables?\n",
        "a = \"Hello world!\"\n",
        "print(a)\n",
        "print(type(a))"
      ]
    },
    {
      "cell_type": "code",
      "execution_count": null,
      "metadata": {
        "colab": {
          "base_uri": "https://localhost:8080/"
        },
        "id": "Kw6O3WI9FdMV",
        "outputId": "1d727d51-e183-4855-ff56-a1c7baad0b3a"
      },
      "outputs": [
        {
          "name": "stdout",
          "output_type": "stream",
          "text": [
            "Hello world!\n",
            "<class 'str'>\n"
          ]
        }
      ],
      "source": [
        "#what is a variable?\n",
        "#variables are containers where we can store our valuable information/data to reuse it\n",
        "#How can we create a variable and how can we access the data from variables?\n",
        "a = \"Hello world!\"\n",
        "print(a)\n",
        "print(type(a))"
      ]
    },
    {
      "cell_type": "markdown",
      "metadata": {
        "id": "pU-1ysS3F_11"
      },
      "source": [
        "Types of errors"
      ]
    },
    {
      "cell_type": "code",
      "execution_count": null,
      "metadata": {
        "id": "4fuu6n1Az5pP"
      },
      "outputs": [],
      "source": [
        "#How many types of errors do we have in Python?\n",
        "#there are 2 types of errors\n",
        "#1.Syntax Error:-when you break rules of a programming language it can rise syntax error\n",
        "'''hello I am using\n",
        "multiline comment when we use single triple quotes\n",
        "we need to enclose with single quotes\"\"\"\n",
        "#2.logical Error:-except syntax error all the errors comes under logical errors\n",
        "print(10* *5)\n",
        "#ex:- indentation errors,Name error, Type error, attribute error, recurssive error....etc\n"
      ]
    },
    {
      "cell_type": "markdown",
      "metadata": {
        "id": "wa-o7J2RGZON"
      },
      "source": [
        "# Rules to create variables"
      ]
    },
    {
      "cell_type": "code",
      "execution_count": null,
      "metadata": {
        "colab": {
          "base_uri": "https://localhost:8080/"
        },
        "id": "f4J4Qg8WGnh1",
        "outputId": "c2f94a86-b79c-48ab-e0b3-a0c382d577a6"
      },
      "outputs": [
        {
          "name": "stdout",
          "output_type": "stream",
          "text": [
            "20\n"
          ]
        }
      ],
      "source": [
        "#1.start creating the variables by using alphabets\n",
        "son = 20\n",
        "print(son)"
      ]
    },
    {
      "cell_type": "code",
      "execution_count": null,
      "metadata": {
        "id": "PuE-jc1hG28F"
      },
      "outputs": [],
      "source": [
        "#2.dont start creating the variable by using numbers\n",
        "2 = \"hello\"\n",
        "print(2)"
      ]
    },
    {
      "cell_type": "code",
      "execution_count": null,
      "metadata": {
        "colab": {
          "base_uri": "https://localhost:8080/"
        },
        "id": "naKtwdQIIfKF",
        "outputId": "4ec5de50-4d9d-491a-fbb0-cef9936fd264"
      },
      "outputs": [
        {
          "name": "stdout",
          "output_type": "stream",
          "text": [
            "20\n"
          ]
        }
      ],
      "source": [
        "#3.If you follow rlue1 and rule 2 start with alphabets in between us numbers\n",
        "son2age = 20\n",
        "print(son2age)"
      ]
    },
    {
      "cell_type": "code",
      "execution_count": null,
      "metadata": {
        "id": "Mst2bwBEHLk9"
      },
      "outputs": [],
      "source": [
        "#4.dont use special characters in the variable name--->!,@,#,$,%,^,&,*,?,white space\n",
        "son@age = 20\n",
        "print(son@age)"
      ]
    },
    {
      "cell_type": "code",
      "execution_count": null,
      "metadata": {
        "colab": {
          "base_uri": "https://localhost:8080/"
        },
        "id": "GGxuCGH0HU5l",
        "outputId": "357763bd-b266-482d-de45-7a1915c9af2a"
      },
      "outputs": [
        {
          "name": "stdout",
          "output_type": "stream",
          "text": [
            "10\n"
          ]
        }
      ],
      "source": [
        "#5.start creating the variable by using under score __\n",
        "_ = 10\n",
        "print(_)"
      ]
    },
    {
      "cell_type": "code",
      "execution_count": null,
      "metadata": {
        "colab": {
          "base_uri": "https://localhost:8080/"
        },
        "id": "y7pv-xTNHbN1",
        "outputId": "e92c4cc7-0827-4675-ca80-c540cd50ea33"
      },
      "outputs": [
        {
          "name": "stdout",
          "output_type": "stream",
          "text": [
            "20\n"
          ]
        }
      ],
      "source": [
        "#instead of space use the underscore\n",
        "son_age = 20\n",
        "print(son_age)"
      ]
    },
    {
      "cell_type": "code",
      "execution_count": null,
      "metadata": {
        "colab": {
          "base_uri": "https://localhost:8080/"
        },
        "id": "dJDvLxeRHj51",
        "outputId": "a25f8d02-8dd9-47d0-aad3-4791ec2b28e5"
      },
      "outputs": [
        {
          "name": "stdout",
          "output_type": "stream",
          "text": [
            "['False', 'None', 'True', 'and', 'as', 'assert', 'async', 'await', 'break', 'class', 'continue', 'def', 'del', 'elif', 'else', 'except', 'finally', 'for', 'from', 'global', 'if', 'import', 'in', 'is', 'lambda', 'nonlocal', 'not', 'or', 'pass', 'raise', 'return', 'try', 'while', 'with', 'yield']\n"
          ]
        }
      ],
      "source": [
        "#6.Dont use the inbuilt keywords in the variable name\n",
        "import keyword\n",
        "print(keyword.kwlist)"
      ]
    },
    {
      "cell_type": "code",
      "execution_count": null,
      "metadata": {
        "colab": {
          "base_uri": "https://localhost:8080/"
        },
        "id": "pZbx4U9rHx9d",
        "outputId": "bffb3643-2f28-47ff-83a8-87209749d549"
      },
      "outputs": [
        {
          "name": "stdout",
          "output_type": "stream",
          "text": [
            "30\n"
          ]
        }
      ],
      "source": [
        "#7.we cannot encourage to write a variable name in uppercase letters\n",
        "SONAGE = 30\n",
        "print(SONAGE)"
      ]
    },
    {
      "cell_type": "code",
      "execution_count": null,
      "metadata": {
        "id": "hKlGbENMBe2w"
      },
      "outputs": [],
      "source": [
        "# object oriented programming means each LOC(LINE OF CODE) having own identity own properties own interaction based on three ways the object is belongs to certain category of class"
      ]
    },
    {
      "cell_type": "markdown",
      "metadata": {
        "id": "SiWZ131OLON_"
      },
      "source": [
        "Python is a dynamically typed programming language"
      ]
    },
    {
      "cell_type": "code",
      "execution_count": null,
      "metadata": {
        "colab": {
          "base_uri": "https://localhost:8080/"
        },
        "id": "Py4y3jrxLTPf",
        "outputId": "e3c0068a-c144-4c67-9442-6fd3b0831a97"
      },
      "outputs": [
        {
          "name": "stdout",
          "output_type": "stream",
          "text": [
            "<class 'int'>\n",
            "<class 'str'>\n"
          ]
        }
      ],
      "source": [
        "#we no need to define the datatypes to the variables in the python\n",
        "#python can read the data automatically by itself\n",
        "a = 10\n",
        "print(type(a))\n",
        "b = \"How\"\n",
        "print(type(b))"
      ]
    },
    {
      "cell_type": "markdown",
      "metadata": {
        "id": "9Pr_qXl9LoF-"
      },
      "source": [
        "Python is a interpreted programming language"
      ]
    },
    {
      "cell_type": "code",
      "execution_count": null,
      "metadata": {
        "colab": {
          "base_uri": "https://localhost:8080/"
        },
        "id": "ECGtSTHwLs4G",
        "outputId": "e13fcba4-5480-4d27-f465-09ce2b6062d8"
      },
      "outputs": [
        {
          "name": "stdout",
          "output_type": "stream",
          "text": [
            "35\n"
          ]
        }
      ],
      "source": [
        "#python execute the code step by step and last line of values can be taken into consideration\n",
        "a = 20\n",
        "b = 40\n",
        "a = 15\n",
        "b = 20\n",
        "print(a+b)"
      ]
    },
    {
      "cell_type": "markdown",
      "metadata": {
        "id": "XjJhgHF_DNN9"
      },
      "source": [
        "Python is a case sensitive programming language"
      ]
    },
    {
      "cell_type": "code",
      "execution_count": null,
      "metadata": {
        "id": "IALuy_3xMq-u"
      },
      "outputs": [],
      "source": [
        "c = 10\n",
        "print(C)"
      ]
    },
    {
      "cell_type": "markdown",
      "metadata": {
        "id": "jMW9kE17M9mG"
      },
      "source": [
        "Smart ways of writing variables"
      ]
    },
    {
      "cell_type": "code",
      "execution_count": null,
      "metadata": {
        "colab": {
          "base_uri": "https://localhost:8080/"
        },
        "id": "JXrbtJoSNELm",
        "outputId": "0c1d0a5b-a2b4-4f9f-e51d-1808f7a7dde2"
      },
      "outputs": [
        {
          "name": "stdout",
          "output_type": "stream",
          "text": [
            "10 20 30\n"
          ]
        }
      ],
      "source": [
        "#1.assign multiple value to multiple variables and printing separate line?\n",
        "# hint:take three variables and assign values\n",
        "a = 10\n",
        "b = 20\n",
        "c = 30\n",
        "print(a,b,c)"
      ]
    },
    {
      "cell_type": "code",
      "execution_count": null,
      "metadata": {
        "colab": {
          "base_uri": "https://localhost:8080/"
        },
        "id": "4wvtKmRIPC-Y",
        "outputId": "cece5274-b583-4c13-c4f3-4b00f08258c5"
      },
      "outputs": [
        {
          "name": "stdout",
          "output_type": "stream",
          "text": [
            "10\n",
            "20\n",
            "30\n"
          ]
        }
      ],
      "source": [
        "a,b,c = 10,20,30\n",
        "print(a,b,c, sep='\\n') # if you to print separate line use sep='\\n' operater"
      ]
    },
    {
      "cell_type": "code",
      "execution_count": null,
      "metadata": {
        "colab": {
          "base_uri": "https://localhost:8080/"
        },
        "id": "4aB7FGrBPjuY",
        "outputId": "ace4557f-e0b5-4e4a-8a22-3af93d9247b3"
      },
      "outputs": [
        {
          "name": "stdout",
          "output_type": "stream",
          "text": [
            "10,10,10\n"
          ]
        }
      ],
      "source": [
        "#Assign the same value to the variables and print in sep line\n",
        "a = b = c = 10\n",
        "print(a,b,c, sep=',')"
      ]
    },
    {
      "cell_type": "code",
      "execution_count": null,
      "metadata": {
        "colab": {
          "base_uri": "https://localhost:8080/"
        },
        "id": "_VCB3I6nPo13",
        "outputId": "84c45efa-f888-401d-878f-65d9fbc9fbde"
      },
      "outputs": [
        {
          "name": "stdout",
          "output_type": "stream",
          "text": [
            "10 10 10\n"
          ]
        }
      ],
      "source": [
        "a = b = c = 10\n",
        "print(a,b,c)"
      ]
    },
    {
      "cell_type": "markdown",
      "metadata": {
        "id": "qHRRvpRK9UeP"
      },
      "source": [
        "01-05-2025\n"
      ]
    },
    {
      "cell_type": "markdown",
      "metadata": {
        "id": "A7IkE9NV9dj8"
      },
      "source": [
        "input()\n"
      ]
    },
    {
      "cell_type": "code",
      "execution_count": null,
      "metadata": {
        "id": "p23ylaIK9cjE"
      },
      "outputs": [],
      "source": [
        "#what is input?\n",
        "#input() is a inbuilt function where it can intakes any kind of information or value and store it\n",
        "#How can we create the input()?\n",
        "#by assigning to a variable\n",
        "a = input('Enter your Name: ')\n",
        "#HOow can we access the information from input()?\n",
        "print(a)"
      ]
    },
    {
      "cell_type": "code",
      "execution_count": null,
      "metadata": {
        "colab": {
          "base_uri": "https://localhost:8080/"
        },
        "id": "Dj77WYJ2P5KP",
        "outputId": "a50e0d0a-206a-4717-bb78-10ea34b69be9"
      },
      "outputs": [
        {
          "name": "stdout",
          "output_type": "stream",
          "text": [
            "enter num1: 245\n",
            "enter num2: 204\n",
            "245204\n"
          ]
        }
      ],
      "source": [
        "#take 2 input functions and apply addition on it\n",
        "a = input('enter num1: ')\n",
        "b = input('enter num2: ')\n",
        "print(a+b)\n",
        "#Note:- The default data type for input() is strings\n",
        "#adding of two strings is known as concatenation"
      ]
    },
    {
      "cell_type": "code",
      "execution_count": null,
      "metadata": {
        "colab": {
          "base_uri": "https://localhost:8080/"
        },
        "id": "R5vW5v8KQG8n",
        "outputId": "0a72fece-086e-4502-9682-f1ff89d7d22d"
      },
      "outputs": [
        {
          "name": "stdout",
          "output_type": "stream",
          "text": [
            "enter num1: 258\n",
            "enter num2: 96\n",
            "354\n"
          ]
        }
      ],
      "source": [
        "#How can we deal with numerical data when we use input()?\n",
        "#before the input() we need specify the particular numerical data type, int or float\n",
        "a = int(input('enter num1: '))\n",
        "b = int(input('enter num2: '))\n",
        "print(a+b)"
      ]
    },
    {
      "cell_type": "code",
      "execution_count": null,
      "metadata": {
        "colab": {
          "base_uri": "https://localhost:8080/"
        },
        "id": "OnFLmwvQQQOg",
        "outputId": "07a2c842-2ca9-42a0-c30e-20bc7f645d5f"
      },
      "outputs": [
        {
          "name": "stdout",
          "output_type": "stream",
          "text": [
            "enter num1: 32.1\n",
            "enter num2: 74.2\n",
            "106.30000000000001\n"
          ]
        }
      ],
      "source": [
        "a = float(input('enter num1: '))\n",
        "b = float(input('enter num2: '))\n",
        "print(a+b)"
      ]
    },
    {
      "cell_type": "markdown",
      "metadata": {
        "id": "iW8XPS48QizJ"
      },
      "source": [
        "Strings"
      ]
    },
    {
      "cell_type": "code",
      "execution_count": null,
      "metadata": {
        "colab": {
          "base_uri": "https://localhost:8080/"
        },
        "id": "v4hG5XZsYTd6",
        "outputId": "084cbd3f-8def-4264-8c87-f3be4ede5e64"
      },
      "outputs": [
        {
          "name": "stdout",
          "output_type": "stream",
          "text": [
            "Yna PYnat tiv PYnati PYnati\n"
          ]
        }
      ],
      "source": [
        "str1 = (\"PYnativ\")\n",
        "print(str1[1:4], str1[:5], str1[4:], str1[0:-1], str1[:-1])"
      ]
    },
    {
      "cell_type": "code",
      "execution_count": null,
      "metadata": {
        "colab": {
          "base_uri": "https://localhost:8080/"
        },
        "id": "xm1LBF3YYqDx",
        "outputId": "a5e7a1bc-2548-4f02-a05e-bcf903e085ab"
      },
      "outputs": [
        {
          "name": "stdout",
          "output_type": "stream",
          "text": [
            "True\n",
            "True\n"
          ]
        }
      ],
      "source": [
        "strOne = str(\"pynative\")\n",
        "strTwo = \"pynative\"\n",
        "print(strOne == strTwo)\n",
        "print(strOne is strTwo)"
      ]
    },
    {
      "cell_type": "code",
      "execution_count": null,
      "metadata": {
        "colab": {
          "base_uri": "https://localhost:8080/"
        },
        "id": "eH4PH-EOY1tB",
        "outputId": "c9829a69-0679-420d-9595-dec1b280ec83"
      },
      "outputs": [
        {
          "name": "stdout",
          "output_type": "stream",
          "text": [
            "True\n",
            "True\n"
          ]
        }
      ],
      "source": [
        "myString = \"pynative\"\n",
        "stringList = [\"abc\", \"pynative\", \"xyz\"]\n",
        "\n",
        "print(stringList[1] == myString)\n",
        "print(stringList[1] is myString)"
      ]
    },
    {
      "cell_type": "code",
      "execution_count": null,
      "metadata": {
        "id": "5aCKTCUHQoJ_"
      },
      "outputs": [],
      "source": [
        "    #what is Strings?\n",
        "#string is collection of multiple characters where each characters can be accessible\n",
        "#How can we declare string?\n",
        "#a string declared by using(\" \") or (' ')\n",
        "#How many types of strings do we have?\n",
        "#There are 2 types\n",
        "#1.single line string--->\" \" or ' '\n",
        "#2.multiline string---->\"\"\"double triple quotes \"\"\" or '''single triple quotes'''\n"
      ]
    },
    {
      "cell_type": "code",
      "execution_count": null,
      "metadata": {
        "colab": {
          "base_uri": "https://localhost:8080/"
        },
        "id": "zhSzy5OKRB4w",
        "outputId": "273bb312-c0ba-469f-9177-0fd392b4be4a"
      },
      "outputs": [
        {
          "name": "stdout",
          "output_type": "stream",
          "text": [
            "Hello world!\n",
            "Hi\n",
            "       Good day!\n",
            "       Today session is about strings\n"
          ]
        }
      ],
      "source": [
        "print(\"Hello world!\")\n",
        "a = \"\"\"Hi\n",
        "       Good day!\n",
        "       Today session is about strings\"\"\"\n",
        "print(a)"
      ]
    },
    {
      "cell_type": "code",
      "execution_count": null,
      "metadata": {
        "id": "l-j-V9AyRHBA"
      },
      "outputs": [],
      "source": [
        "#How can we access the characters from the string\n",
        "#by using indexing and slicing operator---->[]\n",
        "#what is indexing?\n",
        "#positional number character in the string\n",
        "#the indexing can be starts from zero\n",
        "#The process of accessing a range of characters from string is known as slicing\n",
        "#The range of characters from the main string is known as sub-string"
      ]
    },
    {
      "cell_type": "code",
      "execution_count": null,
      "metadata": {
        "colab": {
          "base_uri": "https://localhost:8080/"
        },
        "id": "ZDbkzy9qRMsg",
        "outputId": "303f2a17-9298-432c-c3e6-1a79543f1f9c"
      },
      "outputs": [
        {
          "name": "stdout",
          "output_type": "stream",
          "text": [
            "w\n",
            "d\n"
          ]
        }
      ],
      "source": [
        "a = \"Hello world!\"\n",
        "#from the above string print letter 'w'\n",
        "#syntax:- [index number]\n",
        "print(a[6])\n",
        "#print letter 'd'\n",
        "print(a[10])"
      ]
    },
    {
      "cell_type": "code",
      "execution_count": null,
      "metadata": {
        "colab": {
          "base_uri": "https://localhost:8080/"
        },
        "id": "LgPHGVHKRTWX",
        "outputId": "4594f33e-3eca-44d4-ba31-d443b676f1fc"
      },
      "outputs": [
        {
          "name": "stdout",
          "output_type": "stream",
          "text": [
            "Hell\n"
          ]
        }
      ],
      "source": [
        "#access the range of characters from above string print only \"hello\"\n",
        "#syntax :- [start:end_index] ----> always give the end_index can be ---->n+1\n",
        "print(a[0:4])\n",
        "#"
      ]
    },
    {
      "cell_type": "code",
      "execution_count": null,
      "metadata": {
        "colab": {
          "base_uri": "https://localhost:8080/"
        },
        "id": "eKIxjLeSRa8G",
        "outputId": "5767c7c8-6407-4daa-b25e-54711c552a6c"
      },
      "outputs": [
        {
          "name": "stdout",
          "output_type": "stream",
          "text": [
            "world!\n"
          ]
        }
      ],
      "source": [
        "b = \"Hello world!\"\n",
        "print(b[6:12])"
      ]
    },
    {
      "cell_type": "code",
      "execution_count": null,
      "metadata": {
        "colab": {
          "base_uri": "https://localhost:8080/"
        },
        "id": "R__QDe78RuAB",
        "outputId": "02015408-8218-41f7-bdad-945e6b236277"
      },
      "outputs": [
        {
          "name": "stdout",
          "output_type": "stream",
          "text": [
            "good\n"
          ]
        }
      ],
      "source": [
        "c = \"hello good evening!\"\n",
        "#print \"good\"\n",
        "print(c[6:10])"
      ]
    },
    {
      "cell_type": "code",
      "execution_count": null,
      "metadata": {
        "colab": {
          "base_uri": "https://localhost:8080/"
        },
        "id": "fO4Y8JC3R1rP",
        "outputId": "d99741ce-9c3a-47c5-8cda-e5ee5582e2fc"
      },
      "outputs": [
        {
          "name": "stdout",
          "output_type": "stream",
          "text": [
            "Hlowrd\n",
            "el ol!\n",
            "!\n"
          ]
        }
      ],
      "source": [
        "d = \"Hello world!\"\n",
        "#from above string print the characters at the even inde position number\n",
        "#syntax---->[start:end:step]\n",
        "print(d[0:12:2])\n",
        "#from above string print the odd index position characters.\n",
        "print(d[1:12:2])\n",
        "#print the last character of the string\n",
        "print(d[11])"
      ]
    },
    {
      "cell_type": "code",
      "execution_count": null,
      "metadata": {
        "colab": {
          "base_uri": "https://localhost:8080/"
        },
        "id": "JL8Z3N2VR50_",
        "outputId": "c54dc431-4913-4a1f-b7d6-7d303cfacf9b"
      },
      "outputs": [
        {
          "name": "stdout",
          "output_type": "stream",
          "text": [
            "n\n"
          ]
        }
      ],
      "source": [
        "#what is negative indexing?\n",
        "#accessing the range of characters in reverse direction by using -ve indexing\n",
        "#negative indexing starts with -1\n",
        "a = \"Hello guys accessing the range of characters in reverse direction\"\n",
        "#syntax:- [-ve_index]\n",
        "print(a[-1])"
      ]
    },
    {
      "cell_type": "code",
      "execution_count": null,
      "metadata": {
        "colab": {
          "base_uri": "https://localhost:8080/"
        },
        "id": "s2E_u5cvR8Ug",
        "outputId": "3cd15035-368e-49d3-b01a-4ca22ed43d3a"
      },
      "outputs": [
        {
          "name": "stdout",
          "output_type": "stream",
          "text": [
            "!dlrow\n",
            "world!\n"
          ]
        }
      ],
      "source": [
        "#access the range of characters in reverse direction--- for ex access 'world!'\n",
        "#expect_output:- !dlrow\n",
        "#syntax:- [start-ve index:end-ve index]\n",
        "a = \"Hello world!\"\n",
        "print(a[-1:-7:-1])\n",
        "print(a[6:12])\n",
        "#Because the default slicing direction is from left to right\n",
        "#if you want to reverse a string we need define the step_index as -1"
      ]
    },
    {
      "cell_type": "code",
      "execution_count": null,
      "metadata": {
        "colab": {
          "base_uri": "https://localhost:8080/"
        },
        "id": "hF9jmGOVSBXA",
        "outputId": "18fbec4e-3bf1-4deb-8fca-80c6dc99e653"
      },
      "outputs": [
        {
          "name": "stdout",
          "output_type": "stream",
          "text": [
            "12\n"
          ]
        }
      ],
      "source": [
        "#find the length of the below string?\n",
        "d = \"Hello world!\"\n",
        "print(len(d))\n",
        "#len starts from 1"
      ]
    },
    {
      "cell_type": "markdown",
      "metadata": {
        "id": "0FovA73hdiqA"
      },
      "source": [
        "Default indexing"
      ]
    },
    {
      "cell_type": "code",
      "execution_count": null,
      "metadata": {
        "colab": {
          "base_uri": "https://localhost:8080/"
        },
        "id": "vGZNgJ6xdkDe",
        "outputId": "5a3c9516-0179-4fca-eb31-783ba5ead65d"
      },
      "outputs": [
        {
          "name": "stdout",
          "output_type": "stream",
          "text": [
            "Hello World!\n",
            "Hello World!\n",
            "HloWrd\n",
            "el ol!\n"
          ]
        }
      ],
      "source": [
        "a = \"Hello World!\"\n",
        "print(a[:])\n",
        "print(a[0:len(a)])\n",
        "print(a[::2])\n",
        "print(a[1::2])"
      ]
    },
    {
      "cell_type": "code",
      "execution_count": null,
      "metadata": {
        "colab": {
          "base_uri": "https://localhost:8080/"
        },
        "id": "68KqYO0vduIl",
        "outputId": "0041d28b-891e-49c1-ad18-cd404261c558"
      },
      "outputs": [
        {
          "name": "stdout",
          "output_type": "stream",
          "text": [
            "enter the string : mohammed \n",
            " demmahom \n"
          ]
        }
      ],
      "source": [
        "#check the string whether it is palindrome or not\n",
        "b = input(\"enter the string :\")\n",
        "print(b[::-1])"
      ]
    },
    {
      "cell_type": "markdown",
      "metadata": {
        "id": "639PJNN5BRs-"
      },
      "source": [
        "02-05-2025\n",
        "\n"
      ]
    },
    {
      "cell_type": "markdown",
      "metadata": {
        "id": "8-kCrz4QDKvh"
      },
      "source": [
        "String Methods"
      ]
    },
    {
      "cell_type": "code",
      "execution_count": null,
      "metadata": {
        "colab": {
          "base_uri": "https://localhost:8080/"
        },
        "id": "0FotlLedDQaF",
        "outputId": "b1a90766-2dcb-4a3d-fafb-9e38d472146e"
      },
      "outputs": [
        {
          "name": "stdout",
          "output_type": "stream",
          "text": [
            "<class 'str'>\n",
            "['__add__', '__class__', '__contains__', '__delattr__', '__dir__', '__doc__', '__eq__', '__format__', '__ge__', '__getattribute__', '__getitem__', '__getnewargs__', '__getstate__', '__gt__', '__hash__', '__init__', '__init_subclass__', '__iter__', '__le__', '__len__', '__lt__', '__mod__', '__mul__', '__ne__', '__new__', '__reduce__', '__reduce_ex__', '__repr__', '__rmod__', '__rmul__', '__setattr__', '__sizeof__', '__str__', '__subclasshook__', 'capitalize', 'casefold', 'center', 'count', 'encode', 'endswith', 'expandtabs', 'find', 'format', 'format_map', 'index', 'isalnum', 'isalpha', 'isascii', 'isdecimal', 'isdigit', 'isidentifier', 'islower', 'isnumeric', 'isprintable', 'isspace', 'istitle', 'isupper', 'join', 'ljust', 'lower', 'lstrip', 'maketrans', 'partition', 'removeprefix', 'removesuffix', 'replace', 'rfind', 'rindex', 'rjust', 'rpartition', 'rsplit', 'rstrip', 'split', 'splitlines', 'startswith', 'strip', 'swapcase', 'title', 'translate', 'upper', 'zfill']\n"
          ]
        }
      ],
      "source": [
        "#what is string method/ waht are all methods we can apply on string?\n",
        "# The methods applied on string is known as string methods\n",
        "# if i want to use all methods of a string use -->dir() directory function\n",
        "a = \"Hello world\"\n",
        "print(type(a))\n",
        "print(dir(a))\n",
        "#<class 'str'>\n",
        "'__add__', '__class__', '__contains__', '__delattr__', '__dir__', '__doc__', '__eq__', '__format__', '__ge__', '__getattribute__',\n",
        " '__getitem__', '__getnewargs__', '__getstate__', '__gt__', '__hash__', '__init__', '__init_subclass__', '__iter__', '__le__', '__len__', '__lt__', '__mod__',\n",
        "'__mul__', '__ne__', '__new__', '__reduce__', '__reduce_ex__', '__repr__', '__rmod__', '__rmul__', '__setattr__', '__sizeof__', '__str__', '__subclasshook__',\n",
        "  'capitalize', 'casefold', 'center', 'count', 'encode', 'endswith', 'expandtabs', 'find', 'format', 'format_map', 'index', 'isalnum', 'isalpha', 'isascii', 'isdecimal',\n",
        "   'isdigit', 'isidentifier', 'islower', 'isnumeric', 'isprintable', 'isspace', 'istitle', 'isupper', 'join', 'ljust', 'lower', 'lstrip', 'maketrans', 'partition', 'removeprefix',\n",
        " 'removesuffix', 'replace', 'rfind', 'rindex', 'rjust', 'rpartition', 'rsplit', 'rstrip', 'split', 'splitlines', 'startswith', 'strip', 'swapcase', 'title', 'translate', 'upper', 'zfill'"
      ]
    },
    {
      "cell_type": "code",
      "execution_count": null,
      "metadata": {
        "id": "ZKHCdxI6EML_"
      },
      "outputs": [],
      "source": [
        "# Tell me a 10 improtant string methods ?\n",
        "print()\n",
        "type()\n",
        "int()\n",
        "float()\n",
        "complex()\n",
        "input()\n",
        "dir()"
      ]
    },
    {
      "cell_type": "code",
      "execution_count": null,
      "metadata": {
        "colab": {
          "base_uri": "https://localhost:8080/"
        },
        "id": "J-jqJmdYM9Ub",
        "outputId": "0d576438-1b21-4e0b-839b-fffad8f3b475"
      },
      "outputs": [
        {
          "name": "stdout",
          "output_type": "stream",
          "text": [
            "Hello world!\n"
          ]
        }
      ],
      "source": [
        "a = \"hello World!\"\n",
        "#capitalize():- it coverts 1st letter capital\n",
        "print(a.capitalize())\n"
      ]
    },
    {
      "cell_type": "code",
      "execution_count": null,
      "metadata": {
        "colab": {
          "base_uri": "https://localhost:8080/"
        },
        "id": "-DwBssqXFYoj",
        "outputId": "7426ba96-6620-4b09-9884-046c4632dc43"
      },
      "outputs": [
        {
          "name": "stdout",
          "output_type": "stream",
          "text": [
            "HELLO WORLD\n"
          ]
        }
      ],
      "source": [
        "# 2.upper():- convert the whole string in uppercase\n",
        "a =\"Hello World\"\n",
        "print(a.upper())"
      ]
    },
    {
      "cell_type": "code",
      "execution_count": null,
      "metadata": {
        "colab": {
          "base_uri": "https://localhost:8080/"
        },
        "id": "xfBkuJyyJ4ng",
        "outputId": "b5d5c68b-9c59-4e58-8430-cc00e94d823b"
      },
      "outputs": [
        {
          "name": "stdout",
          "output_type": "stream",
          "text": [
            "hello world!\n"
          ]
        }
      ],
      "source": [
        "#3.lower():- it converts the string into lower case\n",
        "print(a.lower())"
      ]
    },
    {
      "cell_type": "code",
      "execution_count": null,
      "metadata": {
        "colab": {
          "base_uri": "https://localhost:8080/"
        },
        "id": "89pV2foKJ4Pf",
        "outputId": "1335c787-42d3-4a61-92e6-e2fe035b20fd"
      },
      "outputs": [
        {
          "name": "stdout",
          "output_type": "stream",
          "text": [
            "Hello World!\n"
          ]
        }
      ],
      "source": [
        "#4.title():- converts 1st letter of string into capital letter after every white space\n",
        "print(a.title())"
      ]
    },
    {
      "cell_type": "code",
      "execution_count": null,
      "metadata": {
        "colab": {
          "base_uri": "https://localhost:8080/"
        },
        "id": "WDGZk5dHJ38U",
        "outputId": "44c70d65-b24e-47ae-a33f-326cecb64dca"
      },
      "outputs": [
        {
          "name": "stdout",
          "output_type": "stream",
          "text": [
            "Hello universe!\n"
          ]
        }
      ],
      "source": [
        "#5.replace(old,new):- replace the old string with new string\n",
        "# replace the \"world\" to universe and print \"hello Universe\"\n",
        "b =\"Hello world\"\n",
        "print(b.replace('world','universe!'))"
      ]
    },
    {
      "cell_type": "code",
      "execution_count": null,
      "metadata": {
        "colab": {
          "base_uri": "https://localhost:8080/"
        },
        "id": "olOjZWL2K1it",
        "outputId": "94c0d443-8370-4c87-fe60-b734dae9042c"
      },
      "outputs": [
        {
          "name": "stdout",
          "output_type": "stream",
          "text": [
            "     Hello World!\n",
            "Hello World!\n"
          ]
        }
      ],
      "source": [
        "#6.strip:-removes the unwanted spaces from leading and trailing side of a string\n",
        "c = \"     Hello World!\"\n",
        "print(c)\n",
        "print(c.strip())"
      ]
    },
    {
      "cell_type": "code",
      "execution_count": null,
      "metadata": {
        "colab": {
          "base_uri": "https://localhost:8080/"
        },
        "id": "KvmGZAcJNjb_",
        "outputId": "c6c22cd8-cf7a-47e5-f9a0-f65b925f4f96"
      },
      "outputs": [
        {
          "name": "stdout",
          "output_type": "stream",
          "text": [
            "Hello World!\n",
            "     Hello World!\n"
          ]
        }
      ],
      "source": [
        "#7 lstrip():-removes the space from the left side of the string\n",
        "print(c.lstrip())\n",
        "\n",
        "#8.rstrip():-removes the spaces from right side\n",
        "print(c.rstrip())"
      ]
    },
    {
      "cell_type": "code",
      "execution_count": null,
      "metadata": {
        "id": "gffWzaR8Nj4T"
      },
      "outputs": [],
      "source": [
        "#9 find():-finds the index number of character in the string\n",
        "d = \"Medha edu-Tech\""
      ]
    },
    {
      "cell_type": "code",
      "execution_count": null,
      "metadata": {
        "colab": {
          "base_uri": "https://localhost:8080/"
        },
        "id": "DuVbJQBpNmnz",
        "outputId": "7d06a099-7bc9-4aa2-fddd-bca15cbc31ae"
      },
      "outputs": [
        {
          "name": "stdout",
          "output_type": "stream",
          "text": [
            "12\n",
            "-1\n"
          ]
        }
      ],
      "source": [
        "#10 .index():- finds the index number of character in the string\n",
        "print(d.index('c'))\n",
        "print(d.find('z'))\n",
        "#Q) what is the difference between index() vs find()?\n",
        "# in find() method if the character is not present means it return -1\n",
        "#where as in index() if the character is not present means it rise an error"
      ]
    },
    {
      "cell_type": "code",
      "execution_count": null,
      "metadata": {
        "colab": {
          "base_uri": "https://localhost:8080/"
        },
        "id": "wbXNzy-CQVAx",
        "outputId": "f1e06c1f-4867-4d1c-da0c-6a2bb6e44d02"
      },
      "outputs": [
        {
          "name": "stdout",
          "output_type": "stream",
          "text": [
            "2\n"
          ]
        }
      ],
      "source": [
        "a = \"Hello World!\"\n",
        "print(a.find('l'))\n",
        "# how get the index position of all the characters in string"
      ]
    },
    {
      "cell_type": "code",
      "execution_count": null,
      "metadata": {
        "colab": {
          "base_uri": "https://localhost:8080/"
        },
        "id": "IW4MYhaTQwCP",
        "outputId": "58836ba7-9255-4ea9-f7a2-e35f2c7526dc"
      },
      "outputs": [
        {
          "name": "stdout",
          "output_type": "stream",
          "text": [
            "mEDHA eDU-tECH\n"
          ]
        }
      ],
      "source": [
        "#swapcase():- converts the upper into lower and lowerinto upper\n",
        "b = 'Medha Edu-Tech'\n",
        "print(b.swapcase())"
      ]
    },
    {
      "cell_type": "code",
      "execution_count": null,
      "metadata": {
        "colab": {
          "base_uri": "https://localhost:8080/"
        },
        "id": "igmqg4HhO2Gn",
        "outputId": "ea6e81ad-daff-4ebe-8341-62b9ad34e618"
      },
      "outputs": [
        {
          "name": "stdout",
          "output_type": "stream",
          "text": [
            "000000Medha Edu-Tech\n"
          ]
        }
      ],
      "source": [
        "#11.zfill():- fill the zeroes infront of the string to match the length of argument\n",
        "print(b.zfill(20))"
      ]
    },
    {
      "cell_type": "markdown",
      "metadata": {
        "id": "GDjkP49eO5pl"
      },
      "source": [
        "String Format methods"
      ]
    },
    {
      "cell_type": "code",
      "execution_count": null,
      "metadata": {
        "colab": {
          "base_uri": "https://localhost:8080/"
        },
        "id": "Pjv3r5grO7s7",
        "outputId": "89b447bc-c6ca-4c05-f26e-4732fcb6c221"
      },
      "outputs": [
        {
          "name": "stdout",
          "output_type": "stream",
          "text": [
            "my age is 10 years old\n"
          ]
        }
      ],
      "source": [
        "#f'string {format} method:-\n",
        "#it takes  an argument and place it over the place holder\n",
        "age = 10\n",
        "text = f'my age is {age} years old'\n",
        "print(text)"
      ]
    },
    {
      "cell_type": "code",
      "execution_count": null,
      "metadata": {
        "colab": {
          "base_uri": "https://localhost:8080/"
        },
        "id": "VQNW3_0FO8uT",
        "outputId": "5d0ab4d2-63f1-451f-9495-aaeb519e5846"
      },
      "outputs": [
        {
          "name": "stdout",
          "output_type": "stream",
          "text": [
            "Enter your item name: Mutton Biryani\n",
            "enter quantity: 7\n",
            "enter price of each: 150\n",
            "Your order for Mutton Biryani is confirmed with an quantity of 7 and Total price is 1050.0\n"
          ]
        }
      ],
      "source": [
        "item = input(\"Enter your item name: \")\n",
        "quantity = int(input(\"enter quantity: \"))\n",
        "price_each = float(input(\"enter price of each: \"))\n",
        "notify = f\"\"\"Your order for {item} is confirmed with an quantity of {quantity} and Total price is {price_each*quantity}\"\"\"\n",
        "print(notify)"
      ]
    },
    {
      "cell_type": "markdown",
      "metadata": {
        "id": "kECnqiHYebzE"
      },
      "source": [
        "sub-slicing\n"
      ]
    },
    {
      "cell_type": "code",
      "execution_count": null,
      "metadata": {
        "colab": {
          "base_uri": "https://localhost:8080/"
        },
        "id": "DZuZIfH3k22x",
        "outputId": "fef578a9-c627-4e26-c08c-65894e4d4698"
      },
      "outputs": [
        {
          "name": "stdout",
          "output_type": "stream",
          "text": [
            "120.0\n"
          ]
        }
      ],
      "source": [
        " print(round(123.456,-1))"
      ]
    },
    {
      "cell_type": "code",
      "execution_count": null,
      "metadata": {
        "colab": {
          "base_uri": "https://localhost:8080/"
        },
        "id": "59gK9Bijliun",
        "outputId": "38073da5-ef2f-4958-aef6-5d6403f4455a"
      },
      "outputs": [
        {
          "name": "stdout",
          "output_type": "stream",
          "text": [
            "Inp\n"
          ]
        }
      ],
      "source": [
        "s = 'OpenAI'\n",
        "print(s[1:6][-1 ::-2])"
      ]
    },
    {
      "cell_type": "markdown",
      "metadata": {
        "id": "ZZzOvTvzkPIj"
      },
      "source": [
        "05-05-2025"
      ]
    },
    {
      "cell_type": "code",
      "execution_count": null,
      "metadata": {
        "colab": {
          "base_uri": "https://localhost:8080/"
        },
        "id": "F5AyyyyNkSyp",
        "outputId": "4075faf5-8d51-42cf-888e-01e22227884c"
      },
      "outputs": [
        {
          "name": "stdout",
          "output_type": "stream",
          "text": [
            "enter your marks 80\n",
            "congratulation\n",
            "you have pass\n"
          ]
        }
      ],
      "source": [
        " # what is condition?\n",
        " # if --> elif-->else\n",
        " # having more than two condition we use elif\n",
        " user_marks = int(input(\"enter your marks \"))\n",
        " if user_marks >=45:\n",
        "  print(\"congratulation\")\n",
        "  print(\"you have pass\")\n",
        " else :\n",
        "    print(\"Better luck next time \")\n"
      ]
    },
    {
      "cell_type": "code",
      "execution_count": null,
      "metadata": {
        "colab": {
          "base_uri": "https://localhost:8080/"
        },
        "id": "lGEyZz4RpqmW",
        "outputId": "b2ac665d-96aa-481f-a585-123e48bb26ef"
      },
      "outputs": [
        {
          "name": "stdout",
          "output_type": "stream",
          "text": [
            "Enter number: -252\n",
            "Negative -ve \n"
          ]
        }
      ],
      "source": [
        "#write a program if the num is >0 print +ve result else print -ve. if the num is equal to zero point neutral\n",
        "#if---elif---else\n",
        "num = int(input(\"Enter number: \"))\n",
        "if num>0:\n",
        "  print(\"Positive +ve \")\n",
        "elif num==0:\n",
        "  print(\"Neutral\")\n",
        "else:\n",
        "  print(\"Negative -ve \")"
      ]
    },
    {
      "cell_type": "code",
      "execution_count": null,
      "metadata": {
        "id": "TwtBKrPO0SoP"
      },
      "outputs": [],
      "source": [
        "#how can we check the condition?\n",
        "#comparison operators or relational operators\n",
        "#1.equlal's too---> \"=\"\n",
        "#2.not equal too--->\"!=\"\n",
        "#3.greater than---> >\n",
        "#4. less than ---> <\n",
        "#5. greater than or equal too ---> >=\n",
        "#6. less than or equal too--> <=\n"
      ]
    },
    {
      "cell_type": "code",
      "execution_count": null,
      "metadata": {
        "colab": {
          "base_uri": "https://localhost:8080/"
        },
        "id": "9voq7Nfr0SdH",
        "outputId": "35b8f825-0f98-4e5d-9ec2-4f764e1ba59c"
      },
      "outputs": [
        {
          "name": "stdout",
          "output_type": "stream",
          "text": [
            "True\n",
            "False\n",
            "False\n",
            "False\n"
          ]
        }
      ],
      "source": [
        "#logical operators ---> 3 types\n",
        "#And- if all the conditions are true than only execute the program\n",
        "#logical operators ---> 3 types\n",
        "#And- if all the conditions are true than only execute the program\n",
        "#or- if any one condition is true execute program\n",
        "#not: it reverse your actual output\n",
        "print(10==10)\n",
        "print(10==25)\n",
        "print('H'=='h')\n",
        "print(not(10==10))\n"
      ]
    },
    {
      "cell_type": "code",
      "execution_count": null,
      "metadata": {
        "colab": {
          "base_uri": "https://localhost:8080/"
        },
        "id": "3dEaKyaF0eP3",
        "outputId": "bb0fd972-261e-437f-a362-38ab851b280f"
      },
      "outputs": [
        {
          "name": "stdout",
          "output_type": "stream",
          "text": [
            "all the statements are true\n"
          ]
        }
      ],
      "source": [
        "a = 25\n",
        "b = 10\n",
        "c = 15\n",
        "d = 60\n",
        "#check a>c and d>b and c<b\n",
        "if a>c or d>b or c>b:\n",
        "  print(\"all the statements are true\")\n",
        "else:\n",
        "  print(\"any one statement is wrong\")"
      ]
    },
    {
      "cell_type": "markdown",
      "metadata": {
        "id": "loBAONKjKYAI"
      },
      "source": [
        "08-05-2025"
      ]
    },
    {
      "cell_type": "markdown",
      "metadata": {
        "id": "zJvdJqS8KnYH"
      },
      "source": [
        "Conditional statements"
      ]
    },
    {
      "cell_type": "code",
      "execution_count": null,
      "metadata": {
        "id": "wxSctKMUKo7x"
      },
      "outputs": [],
      "source": [
        "#conditional statements: is used to check specific condition is ssatisfied or not"
      ]
    },
    {
      "cell_type": "code",
      "execution_count": null,
      "metadata": {
        "id": "zoh_q-PHKs8X"
      },
      "outputs": [],
      "source": [
        "#To build decision making codes  we use conditional statements\n",
        "#How can we check a condition?\n",
        "#to check the condition we need to use comparison operators\n",
        "#There are 6 comparison operators\n",
        "#1.equlal's too---> ==\n",
        "#2.not equal too---> !=\n",
        "#3.greater than---> >\n",
        "#4. less than ---> <\n",
        "#5. greater than or equal too ---> >=\n",
        "#6. less than or equal too--> <=\n"
      ]
    },
    {
      "cell_type": "code",
      "execution_count": null,
      "metadata": {
        "id": "zoUF6qe7Kxmw"
      },
      "outputs": [],
      "source": [
        "#How many conditional statements do we have?\n",
        "#3 conditional statement\n",
        "#if--->elif---->else\n",
        "#what is if?\n",
        "#if i want to check a single true condition will use 'if'\n",
        "#what is else?\n",
        "#other than if condition or if the"
      ]
    },
    {
      "cell_type": "code",
      "execution_count": null,
      "metadata": {
        "colab": {
          "base_uri": "https://localhost:8080/"
        },
        "id": "KdwpNs2DK3e3",
        "outputId": "a7196565-b647-41e2-a5b5-9bac4bf7e4c3"
      },
      "outputs": [
        {
          "name": "stdout",
          "output_type": "stream",
          "text": [
            "True\n"
          ]
        }
      ],
      "source": [
        "#check the 10 is greater than 5 or not\n",
        "a = 10\n",
        "if a>5:\n",
        "  print(\"True\")\n",
        "else:\n",
        "  print(\"False\")"
      ]
    },
    {
      "cell_type": "code",
      "execution_count": null,
      "metadata": {
        "colab": {
          "base_uri": "https://localhost:8080/"
        },
        "id": "CHYlTtz-LFP_",
        "outputId": "a6131c41-bb42-44b3-fa19-2c7c61663a0e"
      },
      "outputs": [
        {
          "name": "stdout",
          "output_type": "stream",
          "text": [
            "True\n",
            "False\n"
          ]
        }
      ],
      "source": [
        "#check a string is palindrome or not irrespective of letter case\n",
        "print('hello' == 'hello')\n",
        "print('Hello' == 'hello')"
      ]
    },
    {
      "cell_type": "markdown",
      "metadata": {
        "id": "1OmV8dd2LQOY"
      },
      "source": [
        "Nested conditions"
      ]
    },
    {
      "cell_type": "code",
      "execution_count": null,
      "metadata": {
        "id": "P0TXHTOdLROX"
      },
      "outputs": [],
      "source": [
        "#1.why we require nested condition? or what is the purpose of nested condition?\n",
        "#A Block of code can be executed if the previous condition is true\n",
        "#nested conditions give the series of output\n",
        "# writting a condition inside the another condition is knowns as nested condition\n",
        "# if we want a series of output we use nested condition"
      ]
    },
    {
      "cell_type": "code",
      "execution_count": null,
      "metadata": {
        "colab": {
          "base_uri": "https://localhost:8080/"
        },
        "id": "gyYBWrEDLX_X",
        "outputId": "1f2f3339-2eb8-407d-ed5e-0f9344c70e75"
      },
      "outputs": [
        {
          "name": "stdout",
          "output_type": "stream",
          "text": [
            "a is greater than 10\n",
            "a is less than 20\n"
          ]
        }
      ],
      "source": [
        "a = 35\n",
        "#check this num is greater than 10,20,30,40 and 50\n",
        "#iff the a>10---> 35 is greater than 10\n",
        "#iff the a>20---> 35 is greater than 20\n",
        "#iff the a>30---> 35 is greater than 30\n",
        "#iff the a>40---> 35 is greater than 40\n",
        "#iff the a>50---> 35 is greater than 50\n",
        "if a>10:\n",
        "  print('a is greater than 10')\n",
        "  if a>20:\n",
        "    print('a is greater than 20')\n",
        "    if a>30:\n",
        "      print('a is greater than 30')\n",
        "      if a>40:\n",
        "        print('a is greater than 40')\n",
        "        if a>50: #removed extra indentation here\n",
        "          print('a is greater than 50')\n",
        "        else:\n",
        "          print('a is less than 50')\n",
        "      else:\n",
        "        print('a is less than 40')\n",
        "    else:\n",
        "      print('a is greater than 30') #this line also has logic error and should be 'a is less than 30'\n",
        "  else:\n",
        "    print('a is less than 20')\n",
        "else:\n",
        "  print('a is less than 10')"
      ]
    },
    {
      "cell_type": "code",
      "execution_count": null,
      "metadata": {
        "id": "tpmWXhETLtqo"
      },
      "outputs": [],
      "source": [
        "#conditional statements ---> if-->elif--->else\n",
        "#comparison operators is also known as relational operators--->6 types, ==,!=.>,<,>=,<=\n"
      ]
    },
    {
      "cell_type": "markdown",
      "metadata": {
        "id": "7BgweXsrLwxx"
      },
      "source": [
        "Ternary Operator"
      ]
    },
    {
      "cell_type": "code",
      "execution_count": null,
      "metadata": {
        "colab": {
          "base_uri": "https://localhost:8080/"
        },
        "id": "jtzt-Z7sLtII",
        "outputId": "c8204e67-2bff-4a04-89f0-53cb070bcef4"
      },
      "outputs": [
        {
          "name": "stdout",
          "output_type": "stream",
          "text": [
            "odd\n"
          ]
        }
      ],
      "source": [
        "x = 5\n",
        "result = \"even\" if x%2==0 else \"odd\"\n",
        "print(result)"
      ]
    },
    {
      "cell_type": "code",
      "execution_count": null,
      "metadata": {
        "id": "fF7GEwoXMCBB"
      },
      "outputs": [],
      "source": [
        "a = \"Hello good morning\"\n",
        "#check \"good\" is present in above string\n",
        "if \"good\""
      ]
    },
    {
      "cell_type": "code",
      "execution_count": null,
      "metadata": {
        "id": "_1F_RfLrMMIP"
      },
      "outputs": [],
      "source": [
        "#write a program to check eligible for vote or not\n",
        "#greater than or equal to 18years"
      ]
    },
    {
      "cell_type": "code",
      "execution_count": null,
      "metadata": {
        "id": "PzqmurutMhs_"
      },
      "outputs": [],
      "source": [
        "#write a program to check the grades of the students based on the received marks\n",
        "#if the student is having marks from 40 to 60---> print \"D\" grade along with marks\n",
        "#if the student is having marks from 61 to 70---> print \"c\" grade along with marks\n",
        "#if the student is having marks from 71 to 80---> print \"B\" grade along with marks\n",
        "#if the student is having marks from 81 to 90---> print \"A\" grade along with marks\n",
        "#if the student is having marks from 91 to 100---> print \"A+\" grade along with marks\n",
        "#if the sudent is having marks than 100 print \"Dont be smart\"\n",
        "#if the student is having marks less than 40 print \"Better luck next time\"\n",
        "#Use tha nested if condition along with elif."
      ]
    },
    {
      "cell_type": "code",
      "execution_count": null,
      "metadata": {
        "colab": {
          "base_uri": "https://localhost:8080/"
        },
        "id": "FYPGflssKsiq",
        "outputId": "4d1d730a-8381-42cf-f69d-c70e9eda505b"
      },
      "outputs": [
        {
          "name": "stdout",
          "output_type": "stream",
          "text": [
            "512\n"
          ]
        }
      ],
      "source": [
        "a= 2**(3**2)\n",
        "print(a)"
      ]
    },
    {
      "cell_type": "code",
      "execution_count": null,
      "metadata": {
        "colab": {
          "base_uri": "https://localhost:8080/"
        },
        "id": "Y2zSuoibLaJg",
        "outputId": "c34828ef-4158-482c-e7ab-4fee76cbd33c"
      },
      "outputs": [
        {
          "name": "stdout",
          "output_type": "stream",
          "text": [
            "512\n"
          ]
        }
      ],
      "source": [
        "a= 2**3**2\n",
        "print(a)"
      ]
    },
    {
      "cell_type": "code",
      "execution_count": null,
      "metadata": {
        "colab": {
          "base_uri": "https://localhost:8080/"
        },
        "id": "fRi264L6MNZS",
        "outputId": "d9a73def-e9f7-47ab-9104-45bfb1edc77d"
      },
      "outputs": [
        {
          "name": "stdout",
          "output_type": "stream",
          "text": [
            "64\n"
          ]
        }
      ],
      "source": [
        "a= (2**3)**2\n",
        "\n",
        "print(a)"
      ]
    },
    {
      "cell_type": "markdown",
      "metadata": {
        "id": "fpVxu8TdvKOa"
      },
      "source": [
        "#12-05-2025\n"
      ]
    },
    {
      "cell_type": "markdown",
      "metadata": {
        "id": "Fjr1OwwBvoZJ"
      },
      "source": [
        "LOOPS\n"
      ]
    },
    {
      "cell_type": "code",
      "execution_count": null,
      "metadata": {
        "id": "T0K6kp1avrUG"
      },
      "outputs": [],
      "source": [
        "#loop: set of instructions or rules\n",
        "#1.while loop:runs a set of instructions until the condition remains true\n",
        "#2.For loop:"
      ]
    },
    {
      "cell_type": "code",
      "execution_count": null,
      "metadata": {
        "colab": {
          "base_uri": "https://localhost:8080/"
        },
        "id": "9fKgHixivvCW",
        "outputId": "dda55a63-6a5f-47a0-8590-91538c6d9d32"
      },
      "outputs": [
        {
          "name": "stdout",
          "output_type": "stream",
          "text": [
            "5\n",
            "go up\n",
            "go down\n",
            "======rep completed====== 0\n",
            "go up\n",
            "go down\n",
            "======rep completed====== 1\n",
            "go up\n",
            "go down\n",
            "======rep completed====== 2\n",
            "go up\n",
            "go down\n",
            "======rep completed====== 3\n",
            "go up\n",
            "go down\n",
            "======rep completed====== 4\n",
            "go up\n",
            "go down\n",
            "======rep completed====== 5\n"
          ]
        }
      ],
      "source": [
        "#write a program to count down the pushups\n",
        "target = int(input())\n",
        "initial = 0\n",
        "while initial <= target:\n",
        "  print(\"go up\")\n",
        "  print(\"go down\")\n",
        "  print(\"======rep completed======\",initial)\n",
        "  initial = initial + 1"
      ]
    },
    {
      "cell_type": "code",
      "execution_count": null,
      "metadata": {
        "colab": {
          "base_uri": "https://localhost:8080/"
        },
        "id": "CtA2iWTbwAIK",
        "outputId": "2658d1d2-f192-49fd-a1be-c6aaaca9b736"
      },
      "outputs": [
        {
          "name": "stdout",
          "output_type": "stream",
          "text": [
            "Enter your floor: 10\n",
            "you are at floor 0\n",
            "you are at floor 1\n",
            "you are at floor 2\n",
            "you are at floor 3\n",
            "you are at floor 4\n",
            "you are at floor 5\n",
            "you are at floor 6\n",
            "you are at floor 7\n",
            "you are at floor 8\n",
            "you are at floor 9\n",
            "you are at floor 10\n"
          ]
        }
      ],
      "source": [
        "#write a simple program to run a lift?\n",
        "user = int(input(\"Enter your floor: \"))\n",
        "initial = 0\n",
        "while initial <= user:\n",
        "  print(\"you are at floor\",initial)\n",
        "  initial = initial + 1"
      ]
    },
    {
      "cell_type": "code",
      "execution_count": null,
      "metadata": {
        "id": "nGjZYMu-wGUy"
      },
      "outputs": [],
      "source": [
        "#what are the control structures of while loop\n",
        "#break: break will stop the iteration irrespective of code\n",
        "#continue:\n",
        "#pass:- null operator when exdecutes nothing will happen"
      ]
    },
    {
      "cell_type": "code",
      "execution_count": null,
      "metadata": {
        "colab": {
          "base_uri": "https://localhost:8080/"
        },
        "id": "oRNSZXc7wMXl",
        "outputId": "6665821d-a60b-4777-c81a-858e2db8f396"
      },
      "outputs": [
        {
          "name": "stdout",
          "output_type": "stream",
          "text": [
            "Enter your floor: 7\n",
            "you are at floor 0\n",
            "you are at floor 1\n",
            "you are at floor 2\n",
            "you are at floor 3\n",
            "you are at floor 4\n",
            "you are at floor 5\n"
          ]
        }
      ],
      "source": [
        "user = int(input(\"Enter your floor: \"))\n",
        "initial = 0\n",
        "while initial <= user:\n",
        "  print(\"you are at floor\",initial)\n",
        "  if initial ==5:\n",
        "    break\n",
        "  initial = initial + 1"
      ]
    },
    {
      "cell_type": "code",
      "execution_count": null,
      "metadata": {
        "colab": {
          "base_uri": "https://localhost:8080/"
        },
        "id": "AzZygrsEwaYs",
        "outputId": "02c89f63-fb76-4b52-89c0-4c35072f0bd8"
      },
      "outputs": [
        {
          "name": "stdout",
          "output_type": "stream",
          "text": [
            "Enter your floor: 07\n",
            "you are at floor 1\n",
            "you are at floor 2\n",
            "you are at floor 5\n",
            "you are at floor 6\n",
            "you are at floor 8\n"
          ]
        }
      ],
      "source": [
        "user = int(input(\"Enter your floor: \"))\n",
        "initial = 0\n",
        "while initial <= user:\n",
        "  initial = initial + 1\n",
        "  if initial ==3 or initial ==4 or initial ==7:\n",
        "    continue\n",
        "  print(\"you are at floor\",initial)"
      ]
    },
    {
      "cell_type": "code",
      "execution_count": null,
      "metadata": {
        "colab": {
          "base_uri": "https://localhost:8080/"
        },
        "id": "r5HGfTR5wiUe",
        "outputId": "5bce1cd5-f318-4184-938e-c82d73dfd9ff"
      },
      "outputs": [
        {
          "name": "stdout",
          "output_type": "stream",
          "text": [
            "1 2 3 4 5 6 7 8 9 10 "
          ]
        }
      ],
      "source": [
        "# print a range of 1 to 10 numbers by  using while ?\n",
        "initial = 1\n",
        "while initial <= 10:\n",
        "  print(initial, end=\" \")\n",
        "  initial += 1"
      ]
    },
    {
      "cell_type": "code",
      "execution_count": null,
      "metadata": {
        "colab": {
          "base_uri": "https://localhost:8080/"
        },
        "id": "rt_VbArFyOmP",
        "outputId": "a4ec4b9f-4dfa-405e-a5c4-c60e469a1858"
      },
      "outputs": [
        {
          "output_type": "stream",
          "name": "stdout",
          "text": [
            "10 9 8 7 6 5 4 3 2 1 "
          ]
        }
      ],
      "source": [
        "# print a range of 1 to 10 numbers by  using while ?\n",
        "initial = 10\n",
        "while initial >= 1:\n",
        "  print(initial, end=\" \")\n",
        "  initial -= 1"
      ]
    },
    {
      "cell_type": "code",
      "execution_count": null,
      "metadata": {
        "colab": {
          "base_uri": "https://localhost:8080/"
        },
        "id": "Sq5Q2BY5xpK9",
        "outputId": "5173c870-5e30-4c1a-df44-08bf9b28ef53"
      },
      "outputs": [
        {
          "name": "stdout",
          "output_type": "stream",
          "text": [
            "Hello World\n",
            "Hello World\n",
            "Hello World\n",
            "Hello World\n",
            "Hello World\n",
            "Hello World\n",
            "Hello World\n",
            "Hello World\n",
            "Hello World\n",
            "Hello World\n"
          ]
        }
      ],
      "source": [
        "# print a range of 1 to 10 numbers by  using while ?\n",
        "initial = 0\n",
        "while initial < 10:\n",
        "  print(\"Hello World\")\n",
        "  initial += 1"
      ]
    },
    {
      "cell_type": "markdown",
      "source": [
        "#13-05-2025\n",
        "\n",
        "\n"
      ],
      "metadata": {
        "id": "GmrIttGXpU2p"
      }
    },
    {
      "cell_type": "markdown",
      "source": [
        "*** For Loop ***"
      ],
      "metadata": {
        "id": "6eqTODx4qUQZ"
      }
    },
    {
      "cell_type": "code",
      "source": [
        "# what is for loop ?\n",
        "# i want to run a set of instruction in my itereable ( collections)--> [list, tuple, set dict, array]\n",
        "# wher this rule can be applicable for each and every element"
      ],
      "metadata": {
        "id": "260LdXqXqbHI"
      },
      "execution_count": null,
      "outputs": []
    },
    {
      "cell_type": "code",
      "source": [
        "l=[1,2,3,4,5,6,7,8,9]\n",
        "for i in l:\n",
        "  if i%2==0:\n",
        "    print(i)"
      ],
      "metadata": {
        "colab": {
          "base_uri": "https://localhost:8080/"
        },
        "id": "B6sj0ZfzspUN",
        "outputId": "990d17a0-b9a7-4f9a-c791-8f92a80eb7c2"
      },
      "execution_count": null,
      "outputs": [
        {
          "output_type": "stream",
          "name": "stdout",
          "text": [
            "2\n",
            "4\n",
            "6\n",
            "8\n"
          ]
        }
      ]
    },
    {
      "cell_type": "code",
      "source": [
        "l=[1,2,3,4,5,6,7,8,9]\n",
        "for i in l:\n",
        "  if i%2==1:\n",
        "    print(i)"
      ],
      "metadata": {
        "colab": {
          "base_uri": "https://localhost:8080/"
        },
        "id": "Pmhpo1K9zYXh",
        "outputId": "7b89299f-2b6a-4770-e8a6-c2931dce3e1a"
      },
      "execution_count": null,
      "outputs": [
        {
          "output_type": "stream",
          "name": "stdout",
          "text": [
            "1\n",
            "3\n",
            "5\n",
            "7\n",
            "9\n"
          ]
        }
      ]
    },
    {
      "cell_type": "code",
      "source": [
        "l=[1,2,3,4,5,6,7,8,9]\n",
        "for i in l:\n",
        "  if i%2==0:\n",
        "    print(i, end = \" \")"
      ],
      "metadata": {
        "colab": {
          "base_uri": "https://localhost:8080/"
        },
        "id": "ood-a-ryuFUd",
        "outputId": "0e8bf2c0-964f-48c0-d732-4f7c44b94323"
      },
      "execution_count": null,
      "outputs": [
        {
          "output_type": "stream",
          "name": "stdout",
          "text": [
            "2 4 6 8 "
          ]
        }
      ]
    },
    {
      "cell_type": "code",
      "source": [
        "# how the iteator has built\n",
        "# with 2 protocols\n",
        "# _iter__ and __next__"
      ],
      "metadata": {
        "id": "vHK6QYtNuvd6"
      },
      "execution_count": null,
      "outputs": []
    },
    {
      "cell_type": "code",
      "source": [
        "a = [1,2,3,4,5,6]\n",
        "#print the multiples of 2 from above list\n",
        "for i in a:\n",
        "  print(i*2,end=\" \")"
      ],
      "metadata": {
        "colab": {
          "base_uri": "https://localhost:8080/"
        },
        "id": "ni5DBM-PvUD3",
        "outputId": "e400e937-1dff-44e2-f066-74cb1f3dfc08"
      },
      "execution_count": null,
      "outputs": [
        {
          "output_type": "stream",
          "name": "stdout",
          "text": [
            "2 4 6 8 10 12 "
          ]
        }
      ]
    },
    {
      "cell_type": "code",
      "source": [
        "b =['Apple','Banana', 'orange', 'papaya', 'mango ']\n",
        "for i in b:\n",
        "  if 'g'in i:\n",
        "    print(i, end =\" \")\n"
      ],
      "metadata": {
        "colab": {
          "base_uri": "https://localhost:8080/"
        },
        "id": "-xK6uvomwGFS",
        "outputId": "079cffd4-c24a-43ba-c9c5-305358eac2a5"
      },
      "execution_count": null,
      "outputs": [
        {
          "output_type": "stream",
          "name": "stdout",
          "text": [
            "orange mango  "
          ]
        }
      ]
    },
    {
      "cell_type": "markdown",
      "source": [
        "Control structures of for loop"
      ],
      "metadata": {
        "id": "wITPkpdnxFjs"
      }
    },
    {
      "cell_type": "code",
      "source": [
        "# break, continue, pass\n",
        "#break: it stops the iterations irrespective of items in the collections"
      ],
      "metadata": {
        "id": "MM1YrkyQxJ3c"
      },
      "execution_count": null,
      "outputs": []
    },
    {
      "cell_type": "code",
      "source": [
        "a = [1,2,3,4,5,6,7,8,9]\n",
        "#break the loop when it reaches '4'\n",
        "for j in  a:\n",
        "  if j==4:\n",
        "    break\n",
        "  print(j)\n"
      ],
      "metadata": {
        "colab": {
          "base_uri": "https://localhost:8080/"
        },
        "id": "yVGIwUTHxPEe",
        "outputId": "32177dcb-5089-44f0-ff60-7818847c403f"
      },
      "execution_count": null,
      "outputs": [
        {
          "output_type": "stream",
          "name": "stdout",
          "text": [
            "1\n",
            "2\n",
            "3\n"
          ]
        }
      ]
    },
    {
      "cell_type": "code",
      "source": [
        "#continue: it skips the current iteration and moves to next iteration\n",
        "# i don't want to print 2,6,8, from above list\n",
        "for j in a:\n",
        "  if j ==2 or j ==6 or j ==8:\n",
        "    continue\n",
        "  print(j,end=\" \")"
      ],
      "metadata": {
        "colab": {
          "base_uri": "https://localhost:8080/"
        },
        "id": "r_n5qefXyQvg",
        "outputId": "b7624ae6-dc23-4898-b17a-1f5c3f5999cb"
      },
      "execution_count": null,
      "outputs": [
        {
          "output_type": "stream",
          "name": "stdout",
          "text": [
            "1 3 4 5 7 9 "
          ]
        }
      ]
    },
    {
      "cell_type": "code",
      "source": [
        "#pass: if the code is incompl\n",
        "for j in a:\n",
        "  if j ==2 or j ==6 or j ==8:\n",
        "    pass"
      ],
      "metadata": {
        "id": "PThMewlhz7rG"
      },
      "execution_count": null,
      "outputs": []
    },
    {
      "cell_type": "code",
      "source": [
        "i = 0\n",
        "while i <=10:\n",
        "  print(i, end =\" \")\n",
        "  i = i +1"
      ],
      "metadata": {
        "colab": {
          "base_uri": "https://localhost:8080/"
        },
        "id": "3dRK7FYZ0Y3m",
        "outputId": "803e204a-61f4-4b69-c4eb-c1a766f44fc8"
      },
      "execution_count": null,
      "outputs": [
        {
          "output_type": "stream",
          "name": "stdout",
          "text": [
            "012345678910"
          ]
        }
      ]
    },
    {
      "cell_type": "code",
      "source": [
        "for i in range(10):\n",
        "  print(i , end= \" \")\n"
      ],
      "metadata": {
        "colab": {
          "base_uri": "https://localhost:8080/"
        },
        "id": "d5ksBGsY0JnK",
        "outputId": "8c9c344c-4a93-4165-f5e1-08d7544123c9"
      },
      "execution_count": null,
      "outputs": [
        {
          "output_type": "stream",
          "name": "stdout",
          "text": [
            "0 1 2 3 4 5 6 7 8 9 "
          ]
        }
      ]
    },
    {
      "cell_type": "code",
      "source": [
        "for i in range(20,41):\n",
        "  print(i,end=\" \")"
      ],
      "metadata": {
        "colab": {
          "base_uri": "https://localhost:8080/"
        },
        "id": "yrdWaVtL1C8t",
        "outputId": "8ec1f0d9-75a3-42be-e976-a2381176816d"
      },
      "execution_count": null,
      "outputs": [
        {
          "output_type": "stream",
          "name": "stdout",
          "text": [
            "20 21 22 23 24 25 26 27 28 29 30 31 32 33 34 35 36 37 38 39 40 "
          ]
        }
      ]
    },
    {
      "cell_type": "code",
      "source": [
        "#print a range of even numbers upto 100?\n",
        "#syntax:- (start)\n",
        "for i in range(0,101,2):\n",
        "  print(i, end=\" \")"
      ],
      "metadata": {
        "colab": {
          "base_uri": "https://localhost:8080/"
        },
        "id": "6ZYSTBCT1jbk",
        "outputId": "65a39156-d7fe-4a26-90ee-5bd40da5683c"
      },
      "execution_count": null,
      "outputs": [
        {
          "output_type": "stream",
          "name": "stdout",
          "text": [
            "0 2 4 6 8 10 12 14 16 18 20 22 24 26 28 30 32 34 36 38 40 42 44 46 48 50 52 54 56 58 60 62 64 66 68 70 72 74 76 78 80 82 84 86 88 90 92 94 96 98 100 "
          ]
        }
      ]
    },
    {
      "cell_type": "code",
      "source": [
        "#print a range of even numbers upto 100?\n",
        "for i in range(1,101,2):\n",
        "  print(i, end=\" \")"
      ],
      "metadata": {
        "colab": {
          "base_uri": "https://localhost:8080/"
        },
        "id": "MbtEVIK81n36",
        "outputId": "024fb703-8f4a-4d01-d49b-65cc9d1b6318"
      },
      "execution_count": null,
      "outputs": [
        {
          "output_type": "stream",
          "name": "stdout",
          "text": [
            "1 3 5 7 9 11 13 15 17 19 21 23 25 27 29 31 33 35 37 39 41 43 45 47 49 51 53 55 57 59 61 63 65 67 69 71 73 75 77 79 81 83 85 87 89 91 93 95 97 99 "
          ]
        }
      ]
    },
    {
      "cell_type": "code",
      "source": [
        "# calculate the sum of number from 1 to 10 using for loop?\n",
        "sum = 0\n",
        "for i in range (1,11):\n",
        "  sum = sum + i\n",
        "print(sum)\n"
      ],
      "metadata": {
        "colab": {
          "base_uri": "https://localhost:8080/"
        },
        "id": "xgODwJP916CS",
        "outputId": "98a08d23-b90b-4d73-e09a-7daf4e1499f1"
      },
      "execution_count": null,
      "outputs": [
        {
          "output_type": "stream",
          "name": "stdout",
          "text": [
            "55\n"
          ]
        }
      ]
    },
    {
      "cell_type": "code",
      "source": [
        " a =[20,30,40,45,63,23,90]\n",
        " product = 1\n",
        " for i in a :\n",
        "  product = product*i\n",
        "  print(product, end=\" \")"
      ],
      "metadata": {
        "colab": {
          "base_uri": "https://localhost:8080/"
        },
        "id": "vNMAH6US3B9v",
        "outputId": "257657b3-9a82-4f1d-8403-22f8e1e0598b"
      },
      "execution_count": null,
      "outputs": [
        {
          "output_type": "stream",
          "name": "stdout",
          "text": [
            "20 600 24000 1080000 68040000 1564920000 140842800000 "
          ]
        }
      ]
    },
    {
      "cell_type": "code",
      "source": [
        "# print the number in reverse from 10 to 1\n",
        "for i in range (10,0,-1):\n",
        "  print(i, end=\" \")"
      ],
      "metadata": {
        "colab": {
          "base_uri": "https://localhost:8080/"
        },
        "id": "O_x7iXh84BKz",
        "outputId": "809627a3-1af2-4626-9550-90277d647a61"
      },
      "execution_count": null,
      "outputs": [
        {
          "output_type": "stream",
          "name": "stdout",
          "text": [
            "10 9 8 7 6 5 4 3 2 1 "
          ]
        }
      ]
    },
    {
      "cell_type": "code",
      "source": [
        "a = [1,2,45,63,54,76,92,50,60]\n",
        "large = a[0]\n",
        "for i in a:\n",
        "  if i>large:\n",
        "    large = i\n",
        "  print(large)"
      ],
      "metadata": {
        "colab": {
          "base_uri": "https://localhost:8080/"
        },
        "id": "T4eOYbNO4cHS",
        "outputId": "e82eb18e-f5aa-4e7c-e402-62fd4c3ec2df"
      },
      "execution_count": null,
      "outputs": [
        {
          "output_type": "stream",
          "name": "stdout",
          "text": [
            "1\n",
            "2\n",
            "45\n",
            "63\n",
            "63\n",
            "76\n",
            "92\n",
            "92\n",
            "92\n"
          ]
        }
      ]
    },
    {
      "cell_type": "markdown",
      "source": [
        "14-05-2025"
      ],
      "metadata": {
        "id": "PSgsACQNx5pj"
      }
    },
    {
      "cell_type": "markdown",
      "source": [
        "Collection or Iterables"
      ],
      "metadata": {
        "id": "7LoidD2Wx97y"
      }
    },
    {
      "cell_type": "code",
      "source": [
        "# what is collection?\n",
        "# collection is having 2 types of data Homogenous data and Heterogenous data\n",
        "#what is Homogenous data?\n",
        "# collection is having same data type\n",
        "#ex:- list having integers\n",
        "# Heterogenous data :- collection is multiple data inside it\n",
        "# how many type of collection do we have?\n",
        "# There 4 type\n",
        "#1.List\n",
        "#2.Tuple\n",
        "#3.set\n",
        "#4.Dictionary\n"
      ],
      "metadata": {
        "id": "xuEHPdIZz-zV"
      },
      "execution_count": null,
      "outputs": []
    },
    {
      "cell_type": "markdown",
      "source": [
        "List\n"
      ],
      "metadata": {
        "id": "KXVg02J70zTA"
      }
    },
    {
      "cell_type": "code",
      "source": [
        "# what is list ? or define a list or how can we declare a list?\n",
        "# list-->[]\n",
        "#list can defines as orderd, mutable, nad it allows the duplicate data"
      ],
      "metadata": {
        "id": "6Mwb4_pp02rN"
      },
      "execution_count": null,
      "outputs": []
    },
    {
      "cell_type": "markdown",
      "source": [
        " list allows the duplicate data"
      ],
      "metadata": {
        "id": "Tw9K_X1d1l6t"
      }
    },
    {
      "cell_type": "code",
      "source": [
        "l1 = ['Apple','Banana', 'orange', 'papaya', 'mango']\n",
        "print(len(l1))\n",
        "print(type(l1))\n",
        "print(l1)\n"
      ],
      "metadata": {
        "colab": {
          "base_uri": "https://localhost:8080/"
        },
        "id": "wH9qwKrr1d-s",
        "outputId": "5c00e04e-0902-40bf-db9d-3d720576ac53"
      },
      "execution_count": null,
      "outputs": [
        {
          "output_type": "stream",
          "name": "stdout",
          "text": [
            "5\n",
            "<class 'list'>\n",
            "['Apple', 'Banana', 'orange', 'papaya', 'mango']\n"
          ]
        }
      ]
    },
    {
      "cell_type": "markdown",
      "source": [
        "List is Ordered"
      ],
      "metadata": {
        "id": "ap1-JkJb2o5j"
      }
    },
    {
      "cell_type": "code",
      "source": [
        "#what is ordered means?\n",
        "#each character in the list is having sequence of index position numbers\n",
        "#from list l1 print kiwi\n",
        "#syntax[index]\n",
        "print(l1[3])"
      ],
      "metadata": {
        "id": "_AMuNrn12QWN",
        "colab": {
          "base_uri": "https://localhost:8080/"
        },
        "outputId": "a0c30e55-ed52-468b-cced-069a890c4192"
      },
      "execution_count": null,
      "outputs": [
        {
          "output_type": "stream",
          "name": "stdout",
          "text": [
            "papaya\n"
          ]
        }
      ]
    },
    {
      "cell_type": "code",
      "source": [
        "#print a range of characters 'pineapple', 'kiwi', 'orange' from l1\n",
        "#[start:end index]\n",
        "print(l1[2:5])   #slicing will stops always before one index position number"
      ],
      "metadata": {
        "colab": {
          "base_uri": "https://localhost:8080/"
        },
        "id": "qmPP8QbfDVGk",
        "outputId": "27099da9-4c8d-45fd-88cd-f7f744bad4a6"
      },
      "execution_count": null,
      "outputs": [
        {
          "output_type": "stream",
          "name": "stdout",
          "text": [
            "['orange', 'papaya', 'mango']\n"
          ]
        }
      ]
    },
    {
      "cell_type": "code",
      "source": [
        "#print the even elements from the list l1?\n",
        "print(l1[0:9:2])\n",
        "#print the odd index position character?\n",
        "print(l1[1:9:2])"
      ],
      "metadata": {
        "colab": {
          "base_uri": "https://localhost:8080/"
        },
        "id": "t-stEHuRDd__",
        "outputId": "81458c51-2441-4519-9fd6-c5a4939088be"
      },
      "execution_count": null,
      "outputs": [
        {
          "output_type": "stream",
          "name": "stdout",
          "text": [
            "['Apple', 'orange', 'mango']\n",
            "['Banana', 'papaya']\n"
          ]
        }
      ]
    },
    {
      "cell_type": "markdown",
      "source": [
        "Default indexing"
      ],
      "metadata": {
        "id": "6tRLZ23ADkI2"
      }
    },
    {
      "cell_type": "code",
      "source": [
        "#what is default indexing?\n",
        "#by deafuly start is 0, end is length of collection and step is 1\n",
        "l2 = ['apple','banana','pineapple','kiwi','orange','apple','banana','apple']\n",
        "#print 5 from above list\n",
        "# print(l2[8])\n",
        "# print(l2[:])\n",
        "# print(l2[::])\n",
        "print(l2[::2]) #o/p--> all the even elements\n",
        "print(l2[1::2]) #o/p all the odd elements"
      ],
      "metadata": {
        "colab": {
          "base_uri": "https://localhost:8080/"
        },
        "id": "cKrGGHqTDlS3",
        "outputId": "7cec5d92-b33a-43a2-d9c5-b385394ba1b8"
      },
      "execution_count": null,
      "outputs": [
        {
          "output_type": "stream",
          "name": "stdout",
          "text": [
            "['apple', 'pineapple', 'orange', 'banana']\n",
            "['banana', 'kiwi', 'apple', 'apple']\n"
          ]
        }
      ]
    },
    {
      "cell_type": "code",
      "source": [
        "#reverse the above list l2\n",
        "print(l2[::-1])"
      ],
      "metadata": {
        "colab": {
          "base_uri": "https://localhost:8080/"
        },
        "id": "VjDqQoHkDv-l",
        "outputId": "dd994cc8-6fcd-49b4-f1ca-5979eea43e31"
      },
      "execution_count": null,
      "outputs": [
        {
          "output_type": "stream",
          "name": "stdout",
          "text": [
            "['apple', 'banana', 'apple', 'orange', 'kiwi', 'pineapple', 'banana', 'apple']\n"
          ]
        }
      ]
    },
    {
      "cell_type": "markdown",
      "source": [
        "list mutable\n",
        "\n",
        "when we suppose to say a collection is mutable?\n",
        "\n",
        "--> if the collection is following 3 properties then it is mutable\n",
        "\n",
        "1.replace or swap the items\n",
        "\n",
        "2.add the new item to existing list\n",
        "\n",
        "3.remove the items from existing list"
      ],
      "metadata": {
        "id": "eR00H2k5D7bC"
      }
    },
    {
      "cell_type": "markdown",
      "source": [
        "Replace or swap the items from list"
      ],
      "metadata": {
        "id": "jG7aoBK8EKdY"
      }
    },
    {
      "cell_type": "code",
      "source": [
        "#How can we replace the items from list?\n",
        "#By using the index position numbers\n",
        "l3 = ['java','JS','R','Python','c','c++']\n",
        "#replace the js with java script\n",
        "l3[1]='javascript'\n",
        "print(l3)"
      ],
      "metadata": {
        "colab": {
          "base_uri": "https://localhost:8080/"
        },
        "id": "Wr97otMlEDNr",
        "outputId": "48b03786-c7dc-4445-a8e0-f40488dad2ce"
      },
      "execution_count": null,
      "outputs": [
        {
          "output_type": "stream",
          "name": "stdout",
          "text": [
            "['java', 'javascript', 'R', 'Python', 'c', 'c++']\n"
          ]
        }
      ]
    },
    {
      "cell_type": "code",
      "source": [
        "l3[1:3] = '.net', 'seasharp,' 'nodejs'\n",
        "print(l3)"
      ],
      "metadata": {
        "colab": {
          "base_uri": "https://localhost:8080/"
        },
        "id": "OtFlvryRESy6",
        "outputId": "200f089c-46bb-49a7-ba2c-c6af2bfb73c6"
      },
      "execution_count": null,
      "outputs": [
        {
          "output_type": "stream",
          "name": "stdout",
          "text": [
            "['java', '.net', 'seasharp,nodejs', 'Python', 'c', 'c++']\n"
          ]
        }
      ]
    },
    {
      "cell_type": "markdown",
      "source": [
        "Add the new items to the list\n",
        "\n"
      ],
      "metadata": {
        "id": "KadqZpZMWsoJ"
      }
    },
    {
      "cell_type": "code",
      "source": [
        "l4 = ['java','.ner', 'seasharp', 'nodejs', 'Python','c','c++']\n",
        "#we are some methods to add items to the list\n",
        "print(dir(l4))\n",
        "'append', 'clear', 'copy', 'count', 'extend',\n",
        "'index', 'insert', 'pop', 'remove', 'reverse', 'sort'\n"
      ],
      "metadata": {
        "colab": {
          "base_uri": "https://localhost:8080/"
        },
        "id": "xzAZuXeLW0p3",
        "outputId": "ac00945a-9fe1-4020-ba8f-2942aded7a1b"
      },
      "execution_count": null,
      "outputs": [
        {
          "output_type": "stream",
          "name": "stdout",
          "text": [
            "['__add__', '__class__', '__class_getitem__', '__contains__', '__delattr__', '__delitem__', '__dir__', '__doc__', '__eq__', '__format__', '__ge__', '__getattribute__', '__getitem__', '__getstate__', '__gt__', '__hash__', '__iadd__', '__imul__', '__init__', '__init_subclass__', '__iter__', '__le__', '__len__', '__lt__', '__mul__', '__ne__', '__new__', '__reduce__', '__reduce_ex__', '__repr__', '__reversed__', '__rmul__', '__setattr__', '__setitem__', '__sizeof__', '__str__', '__subclasshook__', 'append', 'clear', 'copy', 'count', 'extend', 'index', 'insert', 'pop', 'remove', 'reverse', 'sort']\n"
          ]
        }
      ]
    },
    {
      "cell_type": "code",
      "source": [
        "#1.append():- by default it add the single element at the end of the list\n",
        "#q) what is default index position when we use append()?\n",
        "#end of the list\n",
        "#add 'mongo DB' in to above list\n",
        "l4.append('java script')\n",
        "print(l4)"
      ],
      "metadata": {
        "colab": {
          "base_uri": "https://localhost:8080/"
        },
        "id": "s-t7-2IKXpoI",
        "outputId": "206774ec-26f1-488c-9a7c-497b854dbac6"
      },
      "execution_count": null,
      "outputs": [
        {
          "output_type": "stream",
          "name": "stdout",
          "text": [
            "['java', '.ner', 'seasharp', 'SQL', 'nodejs', 'Python', 'c', 'c++', 'Mongo DB', 'Mongo DB', 1, 2, 3, 4, 5, 'Mongo DB', 'Mongo DB', 'java script']\n"
          ]
        }
      ]
    },
    {
      "cell_type": "code",
      "source": [
        "#2. insert(index,item):- is used add the item at specific index position\n",
        "l4.insert(3,\"SQL\")\n",
        "print(l4)"
      ],
      "metadata": {
        "colab": {
          "base_uri": "https://localhost:8080/"
        },
        "id": "KQYw2ecSYhLh",
        "outputId": "71e45bee-72ce-44af-d9b8-8e0eddb4374d"
      },
      "execution_count": null,
      "outputs": [
        {
          "output_type": "stream",
          "name": "stdout",
          "text": [
            "['java', '.ner', 'seasharp', 'SQL', 'nodejs', 'Python', 'c', 'c++', 'Mongo DB', 'Mongo DB']\n"
          ]
        }
      ]
    },
    {
      "cell_type": "code",
      "source": [
        "#3.extend(collection_name):- adds the multiple items in to list\n",
        "l5 = [1,2,3,4,5]\n",
        "#add the l5 into l4\n",
        "l4. extend(l5)\n",
        "print(l4)"
      ],
      "metadata": {
        "colab": {
          "base_uri": "https://localhost:8080/"
        },
        "id": "UNzQ78BWZG6T",
        "outputId": "b14c83a0-ec95-472f-ea2e-8b5217e2ae9c"
      },
      "execution_count": null,
      "outputs": [
        {
          "output_type": "stream",
          "name": "stdout",
          "text": [
            "['java', '.ner', 'seasharp', 'SQL', 'nodejs', 'Python', 'c', 'c++', 'Mongo DB', 'Mongo DB', 1, 2, 3, 4, 5]\n"
          ]
        }
      ]
    },
    {
      "cell_type": "markdown",
      "source": [
        "Remove the items from list\n"
      ],
      "metadata": {
        "id": "En5k80BkZyG-"
      }
    },
    {
      "cell_type": "code",
      "source": [
        "l6 =['java', '.ner', 'seasharp', 'SQL', 'nodejs', 'Python', 'c', 'c++', 'Mongo DB', 1,2,3,4,5]\n",
        "print(l6.pop())"
      ],
      "metadata": {
        "id": "A2rTbmhKZ2fb",
        "colab": {
          "base_uri": "https://localhost:8080/"
        },
        "outputId": "fbfe77f6-cd78-4c55-ade9-635767cc98da"
      },
      "execution_count": null,
      "outputs": [
        {
          "output_type": "stream",
          "name": "stdout",
          "text": [
            "5\n"
          ]
        }
      ]
    },
    {
      "cell_type": "code",
      "source": [
        "print(l6)"
      ],
      "metadata": {
        "colab": {
          "base_uri": "https://localhost:8080/"
        },
        "id": "LR_QjprObTmZ",
        "outputId": "528a3511-b1e6-4621-f6a0-1971e36b96af"
      },
      "execution_count": null,
      "outputs": [
        {
          "output_type": "stream",
          "name": "stdout",
          "text": [
            "['java', '.ner', 'seasharp', 'SQL', 'nodejs', 'Python', 'c', 'c++', 'Mongo DB', 1, 2, 3, 4]\n"
          ]
        }
      ]
    },
    {
      "cell_type": "code",
      "source": [
        "print(l6.pop(-1))"
      ],
      "metadata": {
        "colab": {
          "base_uri": "https://localhost:8080/"
        },
        "id": "ASoFbQOgbYhs",
        "outputId": "554a00d1-6f33-4d20-9858-a350ca002e9d"
      },
      "execution_count": null,
      "outputs": [
        {
          "output_type": "stream",
          "name": "stdout",
          "text": [
            "4\n"
          ]
        }
      ]
    },
    {
      "cell_type": "code",
      "source": [
        "#remove(item_name):-by using name or idrntity of element it removes the item from list\n",
        "l6.remove('Mongo DB')\n",
        "print(l6)\n",
        "# can i remove the multiple items by using the remove()--> ans : No"
      ],
      "metadata": {
        "colab": {
          "base_uri": "https://localhost:8080/"
        },
        "id": "ysmpJy71bg_h",
        "outputId": "fdce05e9-e213-4d6c-ff56-258f0587e4ed"
      },
      "execution_count": null,
      "outputs": [
        {
          "output_type": "stream",
          "name": "stdout",
          "text": [
            "['java', '.ner', 'seasharp', 'SQL', 'nodejs', 'Python', 'c', 'c++', 1, 2, 3]\n"
          ]
        }
      ]
    },
    {
      "cell_type": "code",
      "source": [
        "#how can i remove the multiple items from list l6--> c++', 1, 2, 3\n",
        "del l6[6 :]\n",
        "print(l6)"
      ],
      "metadata": {
        "colab": {
          "base_uri": "https://localhost:8080/"
        },
        "id": "5H78NNRNcgsm",
        "outputId": "9520506e-56e6-44d0-b162-18a7263c4c8d"
      },
      "execution_count": null,
      "outputs": [
        {
          "output_type": "stream",
          "name": "stdout",
          "text": [
            "['java', '.ner', 'seasharp', 'SQL', 'nodejs', 'Python']\n"
          ]
        }
      ]
    },
    {
      "cell_type": "code",
      "source": [
        "l6.index(\"seasharp\")"
      ],
      "metadata": {
        "colab": {
          "base_uri": "https://localhost:8080/"
        },
        "id": "SpnVIKXUc3Ag",
        "outputId": "6e26617b-c319-46d6-a412-2aa5e22c6881"
      },
      "execution_count": null,
      "outputs": [
        {
          "output_type": "execute_result",
          "data": {
            "text/plain": [
              "2"
            ]
          },
          "metadata": {},
          "execution_count": 16
        }
      ]
    },
    {
      "cell_type": "code",
      "source": [
        "# remove all the items from above list and return empty list\n",
        "l6. clear()\n",
        "print(l6)"
      ],
      "metadata": {
        "colab": {
          "base_uri": "https://localhost:8080/"
        },
        "id": "Y_qkkRW1dFfw",
        "outputId": "a1974925-48ac-4acf-d913-07bab719ab2d"
      },
      "execution_count": null,
      "outputs": [
        {
          "output_type": "stream",
          "name": "stdout",
          "text": [
            "[]\n"
          ]
        }
      ]
    },
    {
      "cell_type": "code",
      "source": [
        "# delete the list\n",
        "del l6"
      ],
      "metadata": {
        "id": "OGe9qbSgdUhb"
      },
      "execution_count": null,
      "outputs": []
    },
    {
      "cell_type": "markdown",
      "source": [
        "Sorting of list"
      ],
      "metadata": {
        "id": "rFw4THgsdamo"
      }
    },
    {
      "cell_type": "code",
      "source": [
        "A =['apple','banana','Apple','Banana','Orange','kiwi','mango','pineapple','Watermelon','Chiku']\n",
        "# sort the above list in ascending orderd\n",
        "A.sort()\n",
        "print(A)\n",
        "# how this sorting can be donr?\n",
        "#sorting can be done based ASCII"
      ],
      "metadata": {
        "colab": {
          "base_uri": "https://localhost:8080/"
        },
        "id": "qboqQgzuddQI",
        "outputId": "2d8d8fe4-56a7-4cff-f7b1-7b4ede44b138"
      },
      "execution_count": null,
      "outputs": [
        {
          "output_type": "stream",
          "name": "stdout",
          "text": [
            "['Apple', 'Banana', 'Chiku', 'Orange', 'Watermelon', 'apple', 'banana', 'kiwi', 'mango', 'pineapple']\n"
          ]
        }
      ]
    },
    {
      "cell_type": "code",
      "source": [
        "# print in descending order?\n",
        "l =['apple','banana','Apple','Banana','Orange','kiwi','mango','pineapple','Watermelon','Chiku']\n",
        "l.sort(reverse= True)\n",
        "print(l)"
      ],
      "metadata": {
        "colab": {
          "base_uri": "https://localhost:8080/"
        },
        "id": "mdY2_IKIe2je",
        "outputId": "812f3ec4-da70-4329-e88a-fd555587521b"
      },
      "execution_count": null,
      "outputs": [
        {
          "output_type": "stream",
          "name": "stdout",
          "text": [
            "['pineapple', 'mango', 'kiwi', 'banana', 'apple', 'Watermelon', 'Orange', 'Chiku', 'Banana', 'Apple']\n"
          ]
        }
      ]
    },
    {
      "cell_type": "code",
      "source": [
        "l =[32,234,543,656,766,888,34,357,98765]\n",
        "l.sort(reverse= True)\n",
        "print(l)"
      ],
      "metadata": {
        "colab": {
          "base_uri": "https://localhost:8080/"
        },
        "id": "HvYijEVbeXUD",
        "outputId": "e990796f-6b9a-40ae-987d-f7c17db5a1a2"
      },
      "execution_count": null,
      "outputs": [
        {
          "output_type": "stream",
          "name": "stdout",
          "text": [
            "[98765, 888, 766, 656, 543, 357, 234, 34, 32]\n"
          ]
        }
      ]
    },
    {
      "cell_type": "code",
      "source": [
        "l =[32,234,543,656,766,888,34,357,98765]\n",
        "l.sort()\n",
        "print(l)"
      ],
      "metadata": {
        "colab": {
          "base_uri": "https://localhost:8080/"
        },
        "id": "tatjoiAveoIi",
        "outputId": "134be6ee-0994-48e0-f764-380c15c91374"
      },
      "execution_count": null,
      "outputs": [
        {
          "output_type": "stream",
          "name": "stdout",
          "text": [
            "[32, 34, 234, 357, 543, 656, 766, 888, 98765]\n"
          ]
        }
      ]
    },
    {
      "cell_type": "markdown",
      "source": [
        "15-05-2025"
      ],
      "metadata": {
        "id": "TcWFO4tE9Y_F"
      }
    },
    {
      "cell_type": "code",
      "source": [
        "# what is tuple? define tuple or how can you declare tuple\n",
        "# tuple is defined as\n",
        "# tuple is defined as orderd, imutuablb and it allows duplicate data\n"
      ],
      "metadata": {
        "id": "cwNC80bj9gfg"
      },
      "execution_count": null,
      "outputs": []
    },
    {
      "cell_type": "markdown",
      "source": [
        "Tuple allows the duplicate data"
      ],
      "metadata": {
        "id": "orjZPzTj-HUm"
      }
    },
    {
      "cell_type": "code",
      "source": [
        "t1 = (1,2,3,4,5,6,7,8,9,0,20,45)\n",
        "print(len(t1))\n",
        "print(type(t1))\n",
        "print(t1)\n",
        "\n"
      ],
      "metadata": {
        "colab": {
          "base_uri": "https://localhost:8080/"
        },
        "id": "2dIbwPk4-L4s",
        "outputId": "c9e05daf-e374-4151-eed0-01a1d480944f"
      },
      "execution_count": null,
      "outputs": [
        {
          "output_type": "stream",
          "name": "stdout",
          "text": [
            "12\n",
            "<class 'tuple'>\n",
            "(1, 2, 3, 4, 5, 6, 7, 8, 9, 0, 20, 45)\n"
          ]
        }
      ]
    },
    {
      "cell_type": "markdown",
      "source": [
        "tuple is ordered"
      ],
      "metadata": {
        "id": "aAP_BiUZ-kUa"
      }
    },
    {
      "cell_type": "code",
      "source": [
        "t2 = ('applr','banana','mango', 'Orange','kiwi','mango','pineapple','Watermelon','Chiku')\n"
      ],
      "metadata": {
        "id": "lCoGDEP9-pGi"
      },
      "execution_count": null,
      "outputs": []
    }
  ],
  "metadata": {
    "colab": {
      "provenance": [],
      "authorship_tag": "ABX9TyP9dZSCiPtoeFS9H3VnjO+6",
      "include_colab_link": true
    },
    "kernelspec": {
      "display_name": "Python 3",
      "name": "python3"
    },
    "language_info": {
      "name": "python"
    }
  },
  "nbformat": 4,
  "nbformat_minor": 0
}