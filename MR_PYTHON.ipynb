{
  "nbformat": 4,
  "nbformat_minor": 0,
  "metadata": {
    "colab": {
      "provenance": [],
      "authorship_tag": "ABX9TyPn5mweEC7K++hcLcOynDgW",
      "include_colab_link": true
    },
    "kernelspec": {
      "name": "python3",
      "display_name": "Python 3"
    },
    "language_info": {
      "name": "python"
    }
  },
  "cells": [
    {
      "cell_type": "markdown",
      "metadata": {
        "id": "view-in-github",
        "colab_type": "text"
      },
      "source": [
        "<a href=\"https://colab.research.google.com/github/Rashed-2004/My_Python-Note-book/blob/main/MR_PYTHON.ipynb\" target=\"_parent\"><img src=\"https://colab.research.google.com/assets/colab-badge.svg\" alt=\"Open In Colab\"/></a>"
      ]
    },
    {
      "cell_type": "markdown",
      "source": [
        "#Module1_PYTHON-29/04/2005\n"
      ],
      "metadata": {
        "id": "SfVAERX4lfc6"
      }
    },
    {
      "cell_type": "code",
      "execution_count": null,
      "metadata": {
        "id": "dQe3mONjkS8i"
      },
      "outputs": [],
      "source": [
        "# what is pyhton ?\n",
        "\"\"\"1.Python is most emerging,general purposing programming language\n",
        "   2. Python is high level programming language\n",
        "   3.Python is a dynamcally typed programming language\n",
        "   4.Python is object oriented programming language\n",
        "   5.Python is interpreted programming language \"\"\"\n",
        "#what is comment?\n",
        "#for better understanding of the code we use comments\n",
        "#comments are 2 types\n",
        "#1.Single line comment\n",
        "#2.multiline comment-->double triple quotes(\"\"\" \"\"\")"
      ]
    },
    {
      "cell_type": "code",
      "source": [
        "# print \"Hello world\" in python?\n",
        "print(\"Hello world\")\n",
        "#print()--> it is ainbuilt function used to execute and display the result"
      ],
      "metadata": {
        "colab": {
          "base_uri": "https://localhost:8080/"
        },
        "id": "iYycTpnhm8hk",
        "outputId": "e50920c5-a7dc-4359-da25-45b3c979db4a"
      },
      "execution_count": null,
      "outputs": [
        {
          "output_type": "stream",
          "name": "stdout",
          "text": [
            "Hello world\n"
          ]
        }
      ]
    },
    {
      "cell_type": "markdown",
      "source": [
        "Numerical Data type\n"
      ],
      "metadata": {
        "id": "0vRjQUNNoD4n"
      }
    },
    {
      "cell_type": "code",
      "source": [
        "#How many types of Numerical data types/\n",
        "#there are 3 types\n",
        "#1.Integer--->int-->a whole number eithe +ve or -ve without decimal point is known as integer\n",
        "print(20)\n",
        "print(5)\n",
        "#find the type for above elements\n",
        "#type()--- is an inbuilt function used to print the data type of the object\n",
        "print(type(10))\n",
        "print(type(5))"
      ],
      "metadata": {
        "colab": {
          "base_uri": "https://localhost:8080/"
        },
        "id": "NK_1ClZ7sLlQ",
        "outputId": "f4db4812-7062-4dac-8c9e-8783aedd960d"
      },
      "execution_count": null,
      "outputs": [
        {
          "output_type": "stream",
          "name": "stdout",
          "text": [
            "20\n",
            "5\n",
            "<class 'int'>\n",
            "<class 'int'>\n"
          ]
        }
      ]
    },
    {
      "cell_type": "code",
      "source": [
        "#float----> #float---> A whole number either +ve or -ve with decimal point is known as float\n",
        "print(10.5)\n",
        "print(-5.5)\n",
        "#find the type for above elements\n",
        "print(type(10.5))\n",
        "print(type(-5.5))"
      ],
      "metadata": {
        "id": "HiHdZslYsdaM",
        "colab": {
          "base_uri": "https://localhost:8080/"
        },
        "outputId": "a8550c09-67e6-46bc-a32e-b4f5673c678f"
      },
      "execution_count": null,
      "outputs": [
        {
          "output_type": "stream",
          "name": "stdout",
          "text": [
            "10.5\n",
            "-5.5\n",
            "<class 'float'>\n",
            "<class 'float'>\n"
          ]
        }
      ]
    },
    {
      "cell_type": "code",
      "source": [
        "#3.Complex numbers----->complex----> A REAL NUMBER withits imaginary part is known as complex number\n",
        "#imaginary is denoted with letter 'i'---->is known as iota\n",
        "print(2+5j)\n",
        "print(6j+3)\n",
        "print(type(2+5j))\n",
        "print(type(6j+3))"
      ],
      "metadata": {
        "id": "RoABSCUAsj4w",
        "colab": {
          "base_uri": "https://localhost:8080/"
        },
        "outputId": "d297f0ab-1f6f-4363-cd30-8dff0f443ba0"
      },
      "execution_count": null,
      "outputs": [
        {
          "output_type": "stream",
          "name": "stdout",
          "text": [
            "(2+5j)\n",
            "(3+6j)\n",
            "<class 'complex'>\n",
            "<class 'complex'>\n"
          ]
        }
      ]
    },
    {
      "cell_type": "markdown",
      "source": [
        "Arthemetic Operators"
      ],
      "metadata": {
        "id": "y_BlbsovstT3"
      }
    },
    {
      "cell_type": "code",
      "source": [
        "#How many types of arthimetic operators do we have in Python?\n",
        "#There are 7 types of arithemetic operators\n",
        "#1.Addition----->\n",
        "print(10+5)\n",
        "print(type(10+5))"
      ],
      "metadata": {
        "id": "QsaIHRxssyYv",
        "colab": {
          "base_uri": "https://localhost:8080/"
        },
        "outputId": "f13cb4b9-296f-434c-9f1b-58c9088c03c6"
      },
      "execution_count": null,
      "outputs": [
        {
          "output_type": "stream",
          "name": "stdout",
          "text": [
            "15\n",
            "<class 'int'>\n"
          ]
        }
      ]
    },
    {
      "cell_type": "code",
      "source": [
        "#2.Substraction------>\n",
        "print(10-5)\n",
        "print(type(10-5))"
      ],
      "metadata": {
        "id": "rsnP3cc9tEVx",
        "colab": {
          "base_uri": "https://localhost:8080/"
        },
        "outputId": "bad8305c-85d8-4cd6-b7c6-e831a8041bc5"
      },
      "execution_count": null,
      "outputs": [
        {
          "output_type": "stream",
          "name": "stdout",
          "text": [
            "5\n",
            "<class 'int'>\n"
          ]
        }
      ]
    },
    {
      "cell_type": "code",
      "source": [
        "#3.Multiplication ------>\n",
        "print(2*3)\n",
        "print(type(2*3))"
      ],
      "metadata": {
        "id": "4lP989IVtGZl",
        "colab": {
          "base_uri": "https://localhost:8080/"
        },
        "outputId": "4489a263-b222-4f55-db9e-f528eb452013"
      },
      "execution_count": null,
      "outputs": [
        {
          "output_type": "stream",
          "name": "stdout",
          "text": [
            "6\n",
            "<class 'int'>\n"
          ]
        }
      ]
    },
    {
      "cell_type": "code",
      "source": [
        "#4.Division------>\n",
        "print(10/5)\n",
        "print(type(10/5))\n",
        "#what is default data type for the division--->why\n",
        "#some times in divison we may get decimal number in quotient or integers also.So the founder\n",
        "#(Gudeo Van Rossum) to get the proper quotient data type for division is float"
      ],
      "metadata": {
        "id": "i2lEg7IetGWI",
        "colab": {
          "base_uri": "https://localhost:8080/"
        },
        "outputId": "c805a672-5b1e-4b6a-e533-522887d49698"
      },
      "execution_count": null,
      "outputs": [
        {
          "output_type": "stream",
          "name": "stdout",
          "text": [
            "2.0\n",
            "<class 'float'>\n"
          ]
        }
      ]
    },
    {
      "cell_type": "code",
      "source": [
        "#5.Modulus--->%----> remainder of the division\n",
        "print(10%5)\n",
        "print(type(10%5))"
      ],
      "metadata": {
        "id": "vxkvhSU0tGRg",
        "colab": {
          "base_uri": "https://localhost:8080/"
        },
        "outputId": "50143b8e-1646-4eeb-ee65-440890e85a68"
      },
      "execution_count": null,
      "outputs": [
        {
          "output_type": "stream",
          "name": "stdout",
          "text": [
            "0\n",
            "<class 'int'>\n"
          ]
        }
      ]
    },
    {
      "cell_type": "code",
      "source": [
        "#6.Exponential---->**---> to the power off\n",
        "print(2**3)\n",
        "print(type(2**3))"
      ],
      "metadata": {
        "id": "qE4sstUJtaLU",
        "colab": {
          "base_uri": "https://localhost:8080/"
        },
        "outputId": "5596a4cc-598c-4aef-d349-716fd6a457aa"
      },
      "execution_count": null,
      "outputs": [
        {
          "output_type": "stream",
          "name": "stdout",
          "text": [
            "8\n",
            "<class 'int'>\n"
          ]
        }
      ]
    },
    {
      "cell_type": "code",
      "source": [
        "#7.Floor Division---->//---->also known as integer division\n",
        "#it ignores the values after the decimal point for a quotient\n",
        "print(10/3)\n",
        "print(10//3)"
      ],
      "metadata": {
        "id": "ImGHyxwBtZ_n",
        "colab": {
          "base_uri": "https://localhost:8080/"
        },
        "outputId": "06ac3942-ba95-4fa1-f161-86fddaad83e5"
      },
      "execution_count": null,
      "outputs": [
        {
          "output_type": "stream",
          "name": "stdout",
          "text": [
            "3.3333333333333335\n",
            "3\n"
          ]
        }
      ]
    },
    {
      "cell_type": "code",
      "source": [
        "#what is floor value?\n",
        "#The values before the decimal point is known as floor value\n",
        "#what is ceil value?\n",
        "#the next upcoming value for a decimal number where the decimal point is more than 0.5"
      ],
      "metadata": {
        "id": "Qv1HOXCxtrLu"
      },
      "execution_count": null,
      "outputs": []
    },
    {
      "cell_type": "markdown",
      "source": [
        "round()\n"
      ],
      "metadata": {
        "id": "YK5APADXuAgn"
      }
    },
    {
      "cell_type": "code",
      "source": [
        "#1.round() works only for the decimal numbers\n",
        "#2.if the decimal point more than 0.5 round() print the next upcoming value--->ceil value\n",
        "#3.if the decimal point less than 0.5 round() print the floor value\n",
        "print(round(9))\n",
        "print(round(5.5))\n",
        "print(round(5.48))\n",
        "print(round(1234.46789))\n",
        "print(round(567.987))\n",
        "#round() is used print number with specific ndigits\n",
        "#round(number,ndigits)"
      ],
      "metadata": {
        "colab": {
          "base_uri": "https://localhost:8080/"
        },
        "id": "FgcMoC6hB5rt",
        "outputId": "caf35f2e-5900-4714-80e7-fb284bad2825"
      },
      "execution_count": null,
      "outputs": [
        {
          "output_type": "stream",
          "name": "stdout",
          "text": [
            "9\n",
            "6\n",
            "5\n",
            "1234\n",
            "568\n"
          ]
        }
      ]
    },
    {
      "cell_type": "code",
      "source": [
        "print(round(231537.8378844540))\n",
        "print(round(426.3284747,3))"
      ],
      "metadata": {
        "colab": {
          "base_uri": "https://localhost:8080/"
        },
        "id": "8g-hAVOsx8kz",
        "outputId": "e30b2cd0-a7c6-4903-9ec2-8888447a47f7"
      },
      "execution_count": null,
      "outputs": [
        {
          "output_type": "stream",
          "name": "stdout",
          "text": [
            "231538\n",
            "426.328\n"
          ]
        }
      ]
    },
    {
      "cell_type": "code",
      "source": [
        "print(round(785.42563,0))\n",
        "print(round(6589.32947890,5))\n",
        "print(round(12.59426,4))"
      ],
      "metadata": {
        "colab": {
          "base_uri": "https://localhost:8080/"
        },
        "id": "HuZHK6fLCwbN",
        "outputId": "8a3f6b52-dd59-4ca2-c210-7558034a35d7"
      },
      "execution_count": null,
      "outputs": [
        {
          "output_type": "stream",
          "name": "stdout",
          "text": [
            "785.0\n",
            "6589.32948\n",
            "12.5943\n"
          ]
        }
      ]
    },
    {
      "cell_type": "code",
      "source": [
        "#round(-ve digit)\n",
        "#variables\n",
        "#types of errors\n",
        "#industrial rules to create the variables\n",
        "#what is dynamically typed programming language\n",
        "#why python is interpreted programming\n",
        "#prove python is a case sensitive programming language\n",
        "#smart ways of writing variables\n",
        "#input()"
      ],
      "metadata": {
        "id": "uDtsTipmDhaM"
      },
      "execution_count": null,
      "outputs": []
    },
    {
      "cell_type": "markdown",
      "source": [
        "30-04-2025\n"
      ],
      "metadata": {
        "id": "yMmxPZONuEXe"
      }
    },
    {
      "cell_type": "code",
      "source": [
        "print(3754.2366325)\n",
        "print(round(3754.2366325,2))\n"
      ],
      "metadata": {
        "colab": {
          "base_uri": "https://localhost:8080/"
        },
        "id": "MxUNvhMmubQh",
        "outputId": "2ecbda65-3a09-45b0-f40f-5ebaac06cb08"
      },
      "execution_count": null,
      "outputs": [
        {
          "output_type": "stream",
          "name": "stdout",
          "text": [
            "3754.2366325\n",
            "3754.24\n"
          ]
        }
      ]
    },
    {
      "cell_type": "code",
      "source": [
        "print(3754.2366325)\n",
        "print(round(3754.2366325,-2))\n",
        "#after decimal point the number become zero"
      ],
      "metadata": {
        "colab": {
          "base_uri": "https://localhost:8080/"
        },
        "id": "W5_PTId2vH6t",
        "outputId": "9ede50ff-0e2f-40f4-ded1-d44be96fd3c4"
      },
      "execution_count": null,
      "outputs": [
        {
          "output_type": "stream",
          "name": "stdout",
          "text": [
            "3754.2366325\n",
            "3800.0\n"
          ]
        }
      ]
    },
    {
      "cell_type": "code",
      "source": [
        "print(3754.2366325)\n",
        "print(round(3754.2366325,-3))"
      ],
      "metadata": {
        "colab": {
          "base_uri": "https://localhost:8080/"
        },
        "id": "UTgJFJa7vaCE",
        "outputId": "31874ffa-cee1-4e08-b3e3-7a8e11cdb940"
      },
      "execution_count": null,
      "outputs": [
        {
          "output_type": "stream",
          "name": "stdout",
          "text": [
            "3754.2366325\n",
            "4000.0\n"
          ]
        }
      ]
    },
    {
      "cell_type": "code",
      "source": [
        "print(3754.2366325)\n",
        "print(round(3754.2366325,-4))"
      ],
      "metadata": {
        "colab": {
          "base_uri": "https://localhost:8080/"
        },
        "id": "rpgX-zjVDn2E",
        "outputId": "694a532e-776a-4234-dd2b-c4f3ac765d88"
      },
      "execution_count": null,
      "outputs": [
        {
          "output_type": "stream",
          "name": "stdout",
          "text": [
            "3754.2366325\n",
            "0.0\n"
          ]
        }
      ]
    },
    {
      "cell_type": "code",
      "source": [
        "print(round(827256.723456,-3))"
      ],
      "metadata": {
        "colab": {
          "base_uri": "https://localhost:8080/"
        },
        "id": "aSsgReKCDnu0",
        "outputId": "7de6b4d2-7d1a-4487-9986-086a8748f87e"
      },
      "execution_count": null,
      "outputs": [
        {
          "output_type": "stream",
          "name": "stdout",
          "text": [
            "827000.0\n"
          ]
        }
      ]
    },
    {
      "cell_type": "code",
      "source": [
        "print(round(827256.723456,-4))"
      ],
      "metadata": {
        "colab": {
          "base_uri": "https://localhost:8080/"
        },
        "id": "7SZYR0bXDnk0",
        "outputId": "974c6b58-8b1a-4e3e-9ce5-386d640d81d6"
      },
      "execution_count": null,
      "outputs": [
        {
          "output_type": "stream",
          "name": "stdout",
          "text": [
            "830000.0\n"
          ]
        }
      ]
    },
    {
      "cell_type": "code",
      "source": [
        "print(round(-12345.4567,-3))"
      ],
      "metadata": {
        "colab": {
          "base_uri": "https://localhost:8080/"
        },
        "id": "8aIawWV6ErTE",
        "outputId": "1ec410f2-f9c1-4394-f4d8-29bf85e5ed4b"
      },
      "execution_count": null,
      "outputs": [
        {
          "output_type": "stream",
          "name": "stdout",
          "text": [
            "-12000.0\n"
          ]
        }
      ]
    },
    {
      "cell_type": "code",
      "source": [
        "print(round(73424.3452,-5))"
      ],
      "metadata": {
        "colab": {
          "base_uri": "https://localhost:8080/"
        },
        "id": "RX4H_WG7E3A1",
        "outputId": "223def5c-b532-42fb-fff9-5643d8c4baf7"
      },
      "execution_count": null,
      "outputs": [
        {
          "output_type": "stream",
          "name": "stdout",
          "text": [
            "100000.0\n"
          ]
        }
      ]
    },
    {
      "cell_type": "code",
      "source": [
        "print(round(73424.3452,-5))"
      ],
      "metadata": {
        "colab": {
          "base_uri": "https://localhost:8080/"
        },
        "id": "kKMC_yqxE62F",
        "outputId": "a6d457ac-3383-4a4a-b394-0a855f09bce1"
      },
      "execution_count": null,
      "outputs": [
        {
          "output_type": "stream",
          "name": "stdout",
          "text": [
            "100000.0\n"
          ]
        }
      ]
    },
    {
      "cell_type": "code",
      "source": [
        "print(round(2.4999,0))"
      ],
      "metadata": {
        "colab": {
          "base_uri": "https://localhost:8080/"
        },
        "id": "PltsiaUlmXlx",
        "outputId": "864d94f5-9af0-4634-9df9-43f7a4cf7ac9"
      },
      "execution_count": null,
      "outputs": [
        {
          "output_type": "stream",
          "name": "stdout",
          "text": [
            "2.0\n"
          ]
        }
      ]
    },
    {
      "cell_type": "markdown",
      "source": [
        "Variables\n"
      ],
      "metadata": {
        "id": "UmNN_4SvFLeU"
      }
    },
    {
      "cell_type": "code",
      "source": [
        "#what is a variable?\n",
        "#variables are containers where we can store our valuable information/data to reuse it\n",
        "#How can we create a variable and how can we access the data from variables?\n",
        "a = \"Hello world!\"\n",
        "print(a)\n",
        "print(type(a))"
      ],
      "metadata": {
        "colab": {
          "base_uri": "https://localhost:8080/"
        },
        "id": "om0HwmySFYAs",
        "outputId": "7837893d-aaaf-48a4-c8a4-d4efec13a7b7"
      },
      "execution_count": null,
      "outputs": [
        {
          "output_type": "stream",
          "name": "stdout",
          "text": [
            "Hello world!\n",
            "<class 'str'>\n"
          ]
        }
      ]
    },
    {
      "cell_type": "code",
      "source": [
        "#what is a variable?\n",
        "#variables are containers where we can store our valuable information/data to reuse it\n",
        "#How can we create a variable and how can we access the data from variables?\n",
        "a = \"Hello world!\"\n",
        "print(a)\n",
        "print(type(a))"
      ],
      "metadata": {
        "colab": {
          "base_uri": "https://localhost:8080/"
        },
        "id": "Kw6O3WI9FdMV",
        "outputId": "1d727d51-e183-4855-ff56-a1c7baad0b3a"
      },
      "execution_count": null,
      "outputs": [
        {
          "output_type": "stream",
          "name": "stdout",
          "text": [
            "Hello world!\n",
            "<class 'str'>\n"
          ]
        }
      ]
    },
    {
      "cell_type": "markdown",
      "source": [
        "Types of errors"
      ],
      "metadata": {
        "id": "pU-1ysS3F_11"
      }
    },
    {
      "cell_type": "code",
      "source": [
        "#How many types of errors do we have in Python?\n",
        "#there are 2 types of errors\n",
        "#1.Syntax Error:-when you break rules of a programming language it can rise syntax error\n",
        "'''hello I am using\n",
        "multiline comment when we use single triple quotes\n",
        "we need to enclose with single quotes\"\"\"\n",
        "#2.logical Error:-except syntax error all the errors comes under logical errors\n",
        "print(10* *5)\n",
        "#ex:- indentation errors,Name error, Type error, attribute error, recurssive error....etc\n"
      ],
      "metadata": {
        "id": "4fuu6n1Az5pP"
      },
      "execution_count": null,
      "outputs": []
    },
    {
      "cell_type": "markdown",
      "source": [
        "# Rules to create variables"
      ],
      "metadata": {
        "id": "wa-o7J2RGZON"
      }
    },
    {
      "cell_type": "code",
      "source": [
        "#1.start creating the variables by using alphabets\n",
        "son = 20\n",
        "print(son)"
      ],
      "metadata": {
        "colab": {
          "base_uri": "https://localhost:8080/"
        },
        "id": "f4J4Qg8WGnh1",
        "outputId": "c2f94a86-b79c-48ab-e0b3-a0c382d577a6"
      },
      "execution_count": null,
      "outputs": [
        {
          "output_type": "stream",
          "name": "stdout",
          "text": [
            "20\n"
          ]
        }
      ]
    },
    {
      "cell_type": "code",
      "source": [
        "#2.dont start creating the variable by using numbers\n",
        "2 = \"hello\"\n",
        "print(2)"
      ],
      "metadata": {
        "id": "PuE-jc1hG28F"
      },
      "execution_count": null,
      "outputs": []
    },
    {
      "cell_type": "code",
      "source": [
        "#3.If you follow rlue1 and rule 2 start with alphabets in between us numbers\n",
        "son2age = 20\n",
        "print(son2age)"
      ],
      "metadata": {
        "colab": {
          "base_uri": "https://localhost:8080/"
        },
        "id": "naKtwdQIIfKF",
        "outputId": "4ec5de50-4d9d-491a-fbb0-cef9936fd264"
      },
      "execution_count": null,
      "outputs": [
        {
          "output_type": "stream",
          "name": "stdout",
          "text": [
            "20\n"
          ]
        }
      ]
    },
    {
      "cell_type": "code",
      "source": [
        "#4.dont use special characters in the variable name--->!,@,#,$,%,^,&,*,?,white space\n",
        "son@age = 20\n",
        "print(son@age)"
      ],
      "metadata": {
        "id": "Mst2bwBEHLk9"
      },
      "execution_count": null,
      "outputs": []
    },
    {
      "cell_type": "code",
      "source": [
        "#5.start creating the variable by using under score __\n",
        "_ = 10\n",
        "print(_)"
      ],
      "metadata": {
        "colab": {
          "base_uri": "https://localhost:8080/"
        },
        "id": "GGxuCGH0HU5l",
        "outputId": "357763bd-b266-482d-de45-7a1915c9af2a"
      },
      "execution_count": null,
      "outputs": [
        {
          "output_type": "stream",
          "name": "stdout",
          "text": [
            "10\n"
          ]
        }
      ]
    },
    {
      "cell_type": "code",
      "source": [
        "#instead of space use the underscore\n",
        "son_age = 20\n",
        "print(son_age)"
      ],
      "metadata": {
        "colab": {
          "base_uri": "https://localhost:8080/"
        },
        "id": "y7pv-xTNHbN1",
        "outputId": "e92c4cc7-0827-4675-ca80-c540cd50ea33"
      },
      "execution_count": null,
      "outputs": [
        {
          "output_type": "stream",
          "name": "stdout",
          "text": [
            "20\n"
          ]
        }
      ]
    },
    {
      "cell_type": "code",
      "source": [
        "#6.Dont use the inbuilt keywords in the variable name\n",
        "import keyword\n",
        "print(keyword.kwlist)"
      ],
      "metadata": {
        "colab": {
          "base_uri": "https://localhost:8080/"
        },
        "id": "dJDvLxeRHj51",
        "outputId": "a25f8d02-8dd9-47d0-aad3-4791ec2b28e5"
      },
      "execution_count": null,
      "outputs": [
        {
          "output_type": "stream",
          "name": "stdout",
          "text": [
            "['False', 'None', 'True', 'and', 'as', 'assert', 'async', 'await', 'break', 'class', 'continue', 'def', 'del', 'elif', 'else', 'except', 'finally', 'for', 'from', 'global', 'if', 'import', 'in', 'is', 'lambda', 'nonlocal', 'not', 'or', 'pass', 'raise', 'return', 'try', 'while', 'with', 'yield']\n"
          ]
        }
      ]
    },
    {
      "cell_type": "code",
      "source": [
        "#7.we cannot encourage to write a variable name in uppercase letters\n",
        "SONAGE = 30\n",
        "print(SONAGE)"
      ],
      "metadata": {
        "colab": {
          "base_uri": "https://localhost:8080/"
        },
        "id": "pZbx4U9rHx9d",
        "outputId": "bffb3643-2f28-47ff-83a8-87209749d549"
      },
      "execution_count": null,
      "outputs": [
        {
          "output_type": "stream",
          "name": "stdout",
          "text": [
            "30\n"
          ]
        }
      ]
    },
    {
      "cell_type": "code",
      "source": [
        "# object oriented programming means each LOC(LINE OF CODE) having own identity own properties own interaction based on three ways the object is belongs to certain category of class"
      ],
      "metadata": {
        "id": "hKlGbENMBe2w"
      },
      "execution_count": null,
      "outputs": []
    },
    {
      "cell_type": "markdown",
      "source": [
        "Python is a dynamically typed programming language"
      ],
      "metadata": {
        "id": "SiWZ131OLON_"
      }
    },
    {
      "cell_type": "code",
      "source": [
        "#we no need to define the datatypes to the variables in the python\n",
        "#python can read the data automatically by itself\n",
        "a = 10\n",
        "print(type(a))\n",
        "b = \"How\"\n",
        "print(type(b))"
      ],
      "metadata": {
        "colab": {
          "base_uri": "https://localhost:8080/"
        },
        "id": "Py4y3jrxLTPf",
        "outputId": "e3c0068a-c144-4c67-9442-6fd3b0831a97"
      },
      "execution_count": null,
      "outputs": [
        {
          "output_type": "stream",
          "name": "stdout",
          "text": [
            "<class 'int'>\n",
            "<class 'str'>\n"
          ]
        }
      ]
    },
    {
      "cell_type": "markdown",
      "source": [
        "Python is a interpreted programming language"
      ],
      "metadata": {
        "id": "9Pr_qXl9LoF-"
      }
    },
    {
      "cell_type": "code",
      "source": [
        "#python execute the code step by step and last line of values can be taken into consideration\n",
        "a = 20\n",
        "b = 40\n",
        "a = 15\n",
        "b = 20\n",
        "print(a+b)"
      ],
      "metadata": {
        "colab": {
          "base_uri": "https://localhost:8080/"
        },
        "id": "ECGtSTHwLs4G",
        "outputId": "3a25493e-6dc6-43a1-aaa6-70accaa1b2eb"
      },
      "execution_count": null,
      "outputs": [
        {
          "output_type": "stream",
          "name": "stdout",
          "text": [
            "35\n"
          ]
        }
      ]
    },
    {
      "cell_type": "markdown",
      "source": [
        "Python is a case sensitive programming language"
      ],
      "metadata": {
        "id": "XjJhgHF_DNN9"
      }
    },
    {
      "cell_type": "code",
      "source": [
        "c = 10\n",
        "print(C)"
      ],
      "metadata": {
        "id": "IALuy_3xMq-u"
      },
      "execution_count": null,
      "outputs": []
    },
    {
      "cell_type": "markdown",
      "source": [
        "Smart ways of writing variables"
      ],
      "metadata": {
        "id": "jMW9kE17M9mG"
      }
    },
    {
      "cell_type": "code",
      "source": [
        "#1.assign multiple value to multiple variables and printing separate line?\n",
        "# hint:take three variables and assign values\n",
        "a = 10\n",
        "b = 20\n",
        "c = 30\n",
        "print(a,b,c)"
      ],
      "metadata": {
        "colab": {
          "base_uri": "https://localhost:8080/"
        },
        "id": "JXrbtJoSNELm",
        "outputId": "0c1d0a5b-a2b4-4f9f-e51d-1808f7a7dde2"
      },
      "execution_count": null,
      "outputs": [
        {
          "output_type": "stream",
          "name": "stdout",
          "text": [
            "10 20 30\n"
          ]
        }
      ]
    },
    {
      "cell_type": "code",
      "source": [
        "a,b,c = 10,20,30\n",
        "print(a,b,c, sep='\\n') # if you to print separate line use sep='\\n' operater"
      ],
      "metadata": {
        "colab": {
          "base_uri": "https://localhost:8080/"
        },
        "id": "4wvtKmRIPC-Y",
        "outputId": "cece5274-b583-4c13-c4f3-4b00f08258c5"
      },
      "execution_count": null,
      "outputs": [
        {
          "output_type": "stream",
          "name": "stdout",
          "text": [
            "10\n",
            "20\n",
            "30\n"
          ]
        }
      ]
    },
    {
      "cell_type": "code",
      "source": [
        "#Assign the same value to the variables and print in sep line\n",
        "a = b = c = 10\n",
        "print(a,b,c, sep=',')"
      ],
      "metadata": {
        "colab": {
          "base_uri": "https://localhost:8080/"
        },
        "id": "4aB7FGrBPjuY",
        "outputId": "ace4557f-e0b5-4e4a-8a22-3af93d9247b3"
      },
      "execution_count": null,
      "outputs": [
        {
          "output_type": "stream",
          "name": "stdout",
          "text": [
            "10,10,10\n"
          ]
        }
      ]
    },
    {
      "cell_type": "code",
      "source": [
        "a = b = c = 10\n",
        "print(a,b,c)"
      ],
      "metadata": {
        "colab": {
          "base_uri": "https://localhost:8080/"
        },
        "id": "_VCB3I6nPo13",
        "outputId": "84c45efa-f888-401d-878f-65d9fbc9fbde"
      },
      "execution_count": null,
      "outputs": [
        {
          "output_type": "stream",
          "name": "stdout",
          "text": [
            "10 10 10\n"
          ]
        }
      ]
    },
    {
      "cell_type": "markdown",
      "source": [
        "01-05-2025\n"
      ],
      "metadata": {
        "id": "qHRRvpRK9UeP"
      }
    },
    {
      "cell_type": "markdown",
      "source": [
        "input()\n"
      ],
      "metadata": {
        "id": "A7IkE9NV9dj8"
      }
    },
    {
      "cell_type": "code",
      "source": [
        "#what is input?\n",
        "#input() is a inbuilt function where it can intakes any kind of information or value and store it\n",
        "#How can we create the input()?\n",
        "#by assigning to a variable\n",
        "a = input('Enter your Name: ')\n",
        "#HOow can we access the information from input()?\n",
        "print(a)"
      ],
      "metadata": {
        "id": "p23ylaIK9cjE"
      },
      "execution_count": null,
      "outputs": []
    },
    {
      "cell_type": "code",
      "source": [
        "#take 2 input functions and apply addition on it\n",
        "a = input('enter num1: ')\n",
        "b = input('enter num2: ')\n",
        "print(a+b)\n",
        "#Note:- The default data type for input() is strings\n",
        "#adding of two strings is known as concatenation"
      ],
      "metadata": {
        "colab": {
          "base_uri": "https://localhost:8080/"
        },
        "id": "Dj77WYJ2P5KP",
        "outputId": "a50e0d0a-206a-4717-bb78-10ea34b69be9"
      },
      "execution_count": null,
      "outputs": [
        {
          "output_type": "stream",
          "name": "stdout",
          "text": [
            "enter num1: 245\n",
            "enter num2: 204\n",
            "245204\n"
          ]
        }
      ]
    },
    {
      "cell_type": "code",
      "source": [
        "#How can we deal with numerical data when we use input()?\n",
        "#before the input() we need specify the particular numerical data type, int or float\n",
        "a = int(input('enter num1: '))\n",
        "b = int(input('enter num2: '))\n",
        "print(a+b)"
      ],
      "metadata": {
        "colab": {
          "base_uri": "https://localhost:8080/"
        },
        "id": "R5vW5v8KQG8n",
        "outputId": "0a72fece-086e-4502-9682-f1ff89d7d22d"
      },
      "execution_count": null,
      "outputs": [
        {
          "output_type": "stream",
          "name": "stdout",
          "text": [
            "enter num1: 258\n",
            "enter num2: 96\n",
            "354\n"
          ]
        }
      ]
    },
    {
      "cell_type": "code",
      "source": [
        "a = float(input('enter num1: '))\n",
        "b = float(input('enter num2: '))\n",
        "print(a+b)"
      ],
      "metadata": {
        "colab": {
          "base_uri": "https://localhost:8080/"
        },
        "id": "OnFLmwvQQQOg",
        "outputId": "07a2c842-2ca9-42a0-c30e-20bc7f645d5f"
      },
      "execution_count": null,
      "outputs": [
        {
          "output_type": "stream",
          "name": "stdout",
          "text": [
            "enter num1: 32.1\n",
            "enter num2: 74.2\n",
            "106.30000000000001\n"
          ]
        }
      ]
    },
    {
      "cell_type": "markdown",
      "source": [
        "Strings"
      ],
      "metadata": {
        "id": "iW8XPS48QizJ"
      }
    },
    {
      "cell_type": "code",
      "source": [
        "str1 = e\"\"PYnativ\n",
        "print(str1[1:4], str1[:5], str1[4:], str1[0:-1], str1[:-1])"
      ],
      "metadata": {
        "colab": {
          "base_uri": "https://localhost:8080/"
        },
        "id": "v4hG5XZsYTd6",
        "outputId": "a80cf23d-dde7-4b20-d452-8afe7deb72fe"
      },
      "execution_count": null,
      "outputs": [
        {
          "output_type": "stream",
          "name": "stdout",
          "text": [
            "Yna PYnat tive PYnativ PYnativ\n"
          ]
        }
      ]
    },
    {
      "cell_type": "code",
      "source": [
        "strOne = str(\"pynative\")\n",
        "strTwo = \"pynative\"\n",
        "print(strOne == strTwo)\n",
        "print(strOne is strTwo)"
      ],
      "metadata": {
        "colab": {
          "base_uri": "https://localhost:8080/"
        },
        "id": "xm1LBF3YYqDx",
        "outputId": "a5e7a1bc-2548-4f02-a05e-bcf903e085ab"
      },
      "execution_count": null,
      "outputs": [
        {
          "output_type": "stream",
          "name": "stdout",
          "text": [
            "True\n",
            "True\n"
          ]
        }
      ]
    },
    {
      "cell_type": "code",
      "source": [
        "myString = \"pynative\"\n",
        "stringList = [\"abc\", \"pynative\", \"xyz\"]\n",
        "\n",
        "print(stringList[1] == myString)\n",
        "print(stringList[1] is myString)"
      ],
      "metadata": {
        "id": "eH4PH-EOY1tB",
        "outputId": "c9829a69-0679-420d-9595-dec1b280ec83",
        "colab": {
          "base_uri": "https://localhost:8080/"
        }
      },
      "execution_count": null,
      "outputs": [
        {
          "output_type": "stream",
          "name": "stdout",
          "text": [
            "True\n",
            "True\n"
          ]
        }
      ]
    },
    {
      "cell_type": "code",
      "source": [
        "    #what is Strings?\n",
        "#string is collection of multiple characters where each characters can be accessible\n",
        "#How can we declare string?\n",
        "#a string declared by using(\" \") or (' ')\n",
        "#How many types of strings do we have?\n",
        "#There are 2 types\n",
        "#1.single line string--->\" \" or ' '\n",
        "#2.multiline string---->\"\"\"double triple quotes \"\"\" or '''single triple quotes'''\n"
      ],
      "metadata": {
        "id": "5aCKTCUHQoJ_"
      },
      "execution_count": null,
      "outputs": []
    },
    {
      "cell_type": "code",
      "source": [
        "print(\"Hello world!\")\n",
        "a = \"\"\"Hi\n",
        "       Good day!\n",
        "       Today session is about strings\"\"\"\n",
        "print(a)"
      ],
      "metadata": {
        "colab": {
          "base_uri": "https://localhost:8080/"
        },
        "id": "zhSzy5OKRB4w",
        "outputId": "273bb312-c0ba-469f-9177-0fd392b4be4a"
      },
      "execution_count": null,
      "outputs": [
        {
          "output_type": "stream",
          "name": "stdout",
          "text": [
            "Hello world!\n",
            "Hi\n",
            "       Good day!\n",
            "       Today session is about strings\n"
          ]
        }
      ]
    },
    {
      "cell_type": "code",
      "source": [
        "#How can we access the characters from the string\n",
        "#by using indexing and slicing operator---->[]\n",
        "#what is indexing?\n",
        "#positional number character in the string\n",
        "#the indexing can be starts from zero\n",
        "#The process of accessing a range of characters from string is known as slicing\n",
        "#The range of characters from the main string is known as sub-string"
      ],
      "metadata": {
        "id": "l-j-V9AyRHBA"
      },
      "execution_count": null,
      "outputs": []
    },
    {
      "cell_type": "code",
      "source": [
        "a = \"Hello world!\"\n",
        "#from the above string print letter 'w'\n",
        "#syntax:- [index number]\n",
        "print(a[6])\n",
        "#print letter 'd'\n",
        "print(a[10])"
      ],
      "metadata": {
        "colab": {
          "base_uri": "https://localhost:8080/"
        },
        "id": "ZDbkzy9qRMsg",
        "outputId": "303f2a17-9298-432c-c3e6-1a79543f1f9c"
      },
      "execution_count": null,
      "outputs": [
        {
          "output_type": "stream",
          "name": "stdout",
          "text": [
            "w\n",
            "d\n"
          ]
        }
      ]
    },
    {
      "cell_type": "code",
      "source": [
        "#access the range of characters from above string print only \"hello\"\n",
        "#syntax :- [start:end_index] ----> always give the end_index can be ---->n+1\n",
        "print(a[0:4])\n",
        "#"
      ],
      "metadata": {
        "colab": {
          "base_uri": "https://localhost:8080/"
        },
        "id": "LgPHGVHKRTWX",
        "outputId": "4594f33e-3eca-44d4-ba31-d443b676f1fc"
      },
      "execution_count": null,
      "outputs": [
        {
          "output_type": "stream",
          "name": "stdout",
          "text": [
            "Hell\n"
          ]
        }
      ]
    },
    {
      "cell_type": "code",
      "source": [
        "b = \"Hello world!\"\n",
        "print(b[6:12])"
      ],
      "metadata": {
        "colab": {
          "base_uri": "https://localhost:8080/"
        },
        "id": "eKIxjLeSRa8G",
        "outputId": "5767c7c8-6407-4daa-b25e-54711c552a6c"
      },
      "execution_count": null,
      "outputs": [
        {
          "output_type": "stream",
          "name": "stdout",
          "text": [
            "world!\n"
          ]
        }
      ]
    },
    {
      "cell_type": "code",
      "source": [
        "c = \"hello good evening!\"\n",
        "#print \"good\"\n",
        "print(c[6:10])"
      ],
      "metadata": {
        "colab": {
          "base_uri": "https://localhost:8080/"
        },
        "id": "R__QDe78RuAB",
        "outputId": "02015408-8218-41f7-bdad-945e6b236277"
      },
      "execution_count": null,
      "outputs": [
        {
          "output_type": "stream",
          "name": "stdout",
          "text": [
            "good\n"
          ]
        }
      ]
    },
    {
      "cell_type": "code",
      "source": [
        "d = \"Hello world!\"\n",
        "#from above string print the characters at the even inde position number\n",
        "#syntax---->[start:end:step]\n",
        "print(d[0:12:2])\n",
        "#from above string print the odd index position characters.\n",
        "print(d[1:12:2])\n",
        "#print the last character of the string\n",
        "print(d[11])"
      ],
      "metadata": {
        "colab": {
          "base_uri": "https://localhost:8080/"
        },
        "id": "fO4Y8JC3R1rP",
        "outputId": "d99741ce-9c3a-47c5-8cda-e5ee5582e2fc"
      },
      "execution_count": null,
      "outputs": [
        {
          "output_type": "stream",
          "name": "stdout",
          "text": [
            "Hlowrd\n",
            "el ol!\n",
            "!\n"
          ]
        }
      ]
    },
    {
      "cell_type": "code",
      "source": [
        "#what is negative indexing?\n",
        "#accessing the range of characters in reverse direction by using -ve indexing\n",
        "#negative indexing starts with -1\n",
        "a = \"Hello guys accessing the range of characters in reverse direction\"\n",
        "#syntax:- [-ve_index]\n",
        "print(a[-1])"
      ],
      "metadata": {
        "colab": {
          "base_uri": "https://localhost:8080/"
        },
        "id": "JL8Z3N2VR50_",
        "outputId": "c54dc431-4913-4a1f-b7d6-7d303cfacf9b"
      },
      "execution_count": null,
      "outputs": [
        {
          "output_type": "stream",
          "name": "stdout",
          "text": [
            "n\n"
          ]
        }
      ]
    },
    {
      "cell_type": "code",
      "source": [
        "#access the range of characters in reverse direction--- for ex access 'world!'\n",
        "#expect_output:- !dlrow\n",
        "#syntax:- [start-ve index:end-ve index]\n",
        "a = \"Hello world!\"\n",
        "print(a[-1:-7:-1])\n",
        "print(a[6:12])\n",
        "#Because the default slicing direction is from left to right\n",
        "#if you want to reverse a string we need define the step_index as -1"
      ],
      "metadata": {
        "colab": {
          "base_uri": "https://localhost:8080/"
        },
        "id": "s2E_u5cvR8Ug",
        "outputId": "3cd15035-368e-49d3-b01a-4ca22ed43d3a"
      },
      "execution_count": null,
      "outputs": [
        {
          "output_type": "stream",
          "name": "stdout",
          "text": [
            "!dlrow\n",
            "world!\n"
          ]
        }
      ]
    },
    {
      "cell_type": "code",
      "source": [
        "#find the length of the below string?\n",
        "d = \"Hello world!\"\n",
        "print(len(d))\n",
        "#len starts from 1"
      ],
      "metadata": {
        "colab": {
          "base_uri": "https://localhost:8080/"
        },
        "id": "hF9jmGOVSBXA",
        "outputId": "18fbec4e-3bf1-4deb-8fca-80c6dc99e653"
      },
      "execution_count": null,
      "outputs": [
        {
          "output_type": "stream",
          "name": "stdout",
          "text": [
            "12\n"
          ]
        }
      ]
    },
    {
      "cell_type": "markdown",
      "source": [
        "Default indexing"
      ],
      "metadata": {
        "id": "0FovA73hdiqA"
      }
    },
    {
      "cell_type": "code",
      "source": [
        "a = \"Hello World!\"\n",
        "print(a[:])\n",
        "print(a[0:len(a)])\n",
        "print(a[::2])\n",
        "print(a[1::2])"
      ],
      "metadata": {
        "colab": {
          "base_uri": "https://localhost:8080/"
        },
        "id": "vGZNgJ6xdkDe",
        "outputId": "5a3c9516-0179-4fca-eb31-783ba5ead65d"
      },
      "execution_count": null,
      "outputs": [
        {
          "output_type": "stream",
          "name": "stdout",
          "text": [
            "Hello World!\n",
            "Hello World!\n",
            "HloWrd\n",
            "el ol!\n"
          ]
        }
      ]
    },
    {
      "cell_type": "code",
      "source": [
        "#check the string whether it is palindrome or not\n",
        "b = input(\"enter the string :\")\n",
        "print(b[::-1])"
      ],
      "metadata": {
        "colab": {
          "base_uri": "https://localhost:8080/"
        },
        "id": "68KqYO0vduIl",
        "outputId": "0041d28b-891e-49c1-ad18-cd404261c558"
      },
      "execution_count": null,
      "outputs": [
        {
          "output_type": "stream",
          "name": "stdout",
          "text": [
            "enter the string : mohammed \n",
            " demmahom \n"
          ]
        }
      ]
    },
    {
      "cell_type": "markdown",
      "source": [
        "02-05-2025\n",
        "\n"
      ],
      "metadata": {
        "id": "639PJNN5BRs-"
      }
    },
    {
      "cell_type": "markdown",
      "source": [
        "String Methods"
      ],
      "metadata": {
        "id": "8-kCrz4QDKvh"
      }
    },
    {
      "cell_type": "code",
      "source": [
        "#what is string method/ waht are all methods we can apply on string?\n",
        "# The methods applied on string is known as string methods\n",
        "# if i want to use all methods of a string use -->dir() directory function\n",
        "a = \"Hello world\"\n",
        "print(type(a))\n",
        "print(dir(a))\n",
        "#<class 'str'>\n",
        "'__add__', '__class__', '__contains__', '__delattr__', '__dir__', '__doc__', '__eq__', '__format__', '__ge__', '__getattribute__',\n",
        " '__getitem__', '__getnewargs__', '__getstate__', '__gt__', '__hash__', '__init__', '__init_subclass__', '__iter__', '__le__', '__len__', '__lt__', '__mod__',\n",
        "'__mul__', '__ne__', '__new__', '__reduce__', '__reduce_ex__', '__repr__', '__rmod__', '__rmul__', '__setattr__', '__sizeof__', '__str__', '__subclasshook__',\n",
        "  'capitalize', 'casefold', 'center', 'count', 'encode', 'endswith', 'expandtabs', 'find', 'format', 'format_map', 'index', 'isalnum', 'isalpha', 'isascii', 'isdecimal',\n",
        "   'isdigit', 'isidentifier', 'islower', 'isnumeric', 'isprintable', 'isspace', 'istitle', 'isupper', 'join', 'ljust', 'lower', 'lstrip', 'maketrans', 'partition', 'removeprefix',\n",
        " 'removesuffix', 'replace', 'rfind', 'rindex', 'rjust', 'rpartition', 'rsplit', 'rstrip', 'split', 'splitlines', 'startswith', 'strip', 'swapcase', 'title', 'translate', 'upper', 'zfill'"
      ],
      "metadata": {
        "colab": {
          "base_uri": "https://localhost:8080/"
        },
        "id": "0FotlLedDQaF",
        "outputId": "b1a90766-2dcb-4a3d-fafb-9e38d472146e"
      },
      "execution_count": null,
      "outputs": [
        {
          "output_type": "stream",
          "name": "stdout",
          "text": [
            "<class 'str'>\n",
            "['__add__', '__class__', '__contains__', '__delattr__', '__dir__', '__doc__', '__eq__', '__format__', '__ge__', '__getattribute__', '__getitem__', '__getnewargs__', '__getstate__', '__gt__', '__hash__', '__init__', '__init_subclass__', '__iter__', '__le__', '__len__', '__lt__', '__mod__', '__mul__', '__ne__', '__new__', '__reduce__', '__reduce_ex__', '__repr__', '__rmod__', '__rmul__', '__setattr__', '__sizeof__', '__str__', '__subclasshook__', 'capitalize', 'casefold', 'center', 'count', 'encode', 'endswith', 'expandtabs', 'find', 'format', 'format_map', 'index', 'isalnum', 'isalpha', 'isascii', 'isdecimal', 'isdigit', 'isidentifier', 'islower', 'isnumeric', 'isprintable', 'isspace', 'istitle', 'isupper', 'join', 'ljust', 'lower', 'lstrip', 'maketrans', 'partition', 'removeprefix', 'removesuffix', 'replace', 'rfind', 'rindex', 'rjust', 'rpartition', 'rsplit', 'rstrip', 'split', 'splitlines', 'startswith', 'strip', 'swapcase', 'title', 'translate', 'upper', 'zfill']\n"
          ]
        }
      ]
    },
    {
      "cell_type": "code",
      "source": [
        "# Tell me a 10 improtant string methods ?\n",
        "print()\n",
        "type()\n",
        "int()\n",
        "float()\n",
        "complex()\n",
        "input()\n",
        "dir()"
      ],
      "metadata": {
        "id": "ZKHCdxI6EML_"
      },
      "execution_count": null,
      "outputs": []
    },
    {
      "cell_type": "code",
      "source": [
        "a = \"hello World!\"\n",
        "#capitalize():- it coverts 1st letter capital\n",
        "print(a.capitalize())\n"
      ],
      "metadata": {
        "id": "J-jqJmdYM9Ub",
        "colab": {
          "base_uri": "https://localhost:8080/"
        },
        "outputId": "0d576438-1b21-4e0b-839b-fffad8f3b475"
      },
      "execution_count": null,
      "outputs": [
        {
          "output_type": "stream",
          "name": "stdout",
          "text": [
            "Hello world!\n"
          ]
        }
      ]
    },
    {
      "cell_type": "code",
      "source": [
        "# 2.upper():- convert the whole string in uppercase\n",
        "a =\"Hello World\"\n",
        "print(a.upper())"
      ],
      "metadata": {
        "colab": {
          "base_uri": "https://localhost:8080/"
        },
        "id": "-DwBssqXFYoj",
        "outputId": "7426ba96-6620-4b09-9884-046c4632dc43"
      },
      "execution_count": null,
      "outputs": [
        {
          "output_type": "stream",
          "name": "stdout",
          "text": [
            "HELLO WORLD\n"
          ]
        }
      ]
    },
    {
      "cell_type": "code",
      "source": [
        "#3.lower():- it converts the string into lower case\n",
        "print(a.lower())"
      ],
      "metadata": {
        "id": "xfBkuJyyJ4ng",
        "colab": {
          "base_uri": "https://localhost:8080/"
        },
        "outputId": "b5d5c68b-9c59-4e58-8430-cc00e94d823b"
      },
      "execution_count": null,
      "outputs": [
        {
          "output_type": "stream",
          "name": "stdout",
          "text": [
            "hello world!\n"
          ]
        }
      ]
    },
    {
      "cell_type": "code",
      "source": [
        "#4.title():- converts 1st letter of string into capital letter after every white space\n",
        "print(a.title())"
      ],
      "metadata": {
        "id": "89pV2foKJ4Pf",
        "colab": {
          "base_uri": "https://localhost:8080/"
        },
        "outputId": "1335c787-42d3-4a61-92e6-e2fe035b20fd"
      },
      "execution_count": null,
      "outputs": [
        {
          "output_type": "stream",
          "name": "stdout",
          "text": [
            "Hello World!\n"
          ]
        }
      ]
    },
    {
      "cell_type": "code",
      "source": [
        "#5.replace(old,new):- replace the old string with new string\n",
        "# replace the \"world\" to universe and print \"hello Universe\"\n",
        "b =\"Hello world\"\n",
        "print(b.replace('world','universe!'))"
      ],
      "metadata": {
        "id": "WDGZk5dHJ38U",
        "colab": {
          "base_uri": "https://localhost:8080/"
        },
        "outputId": "44c70d65-b24e-47ae-a33f-326cecb64dca"
      },
      "execution_count": null,
      "outputs": [
        {
          "output_type": "stream",
          "name": "stdout",
          "text": [
            "Hello universe!\n"
          ]
        }
      ]
    },
    {
      "cell_type": "code",
      "source": [
        "#6.strip:-removes the unwanted spaces from leading and trailing side of a string\n",
        "c = \"     Hello World!\"\n",
        "print(c)\n",
        "print(c.strip())"
      ],
      "metadata": {
        "id": "olOjZWL2K1it",
        "colab": {
          "base_uri": "https://localhost:8080/"
        },
        "outputId": "94c0d443-8370-4c87-fe60-b734dae9042c"
      },
      "execution_count": null,
      "outputs": [
        {
          "output_type": "stream",
          "name": "stdout",
          "text": [
            "     Hello World!\n",
            "Hello World!\n"
          ]
        }
      ]
    },
    {
      "cell_type": "code",
      "source": [
        "#7 lstrip():-removes the space from the left side of the string\n",
        "print(c.lstrip())\n",
        "\n",
        "#8.rstrip():-removes the spaces from right side\n",
        "print(c.rstrip())"
      ],
      "metadata": {
        "id": "KvmGZAcJNjb_",
        "colab": {
          "base_uri": "https://localhost:8080/"
        },
        "outputId": "c6c22cd8-cf7a-47e5-f9a0-f65b925f4f96"
      },
      "execution_count": null,
      "outputs": [
        {
          "output_type": "stream",
          "name": "stdout",
          "text": [
            "Hello World!\n",
            "     Hello World!\n"
          ]
        }
      ]
    },
    {
      "cell_type": "code",
      "source": [
        "#9 find():-finds the index number of character in the string\n",
        "d = \"Medha edu-Tech\""
      ],
      "metadata": {
        "id": "gffWzaR8Nj4T"
      },
      "execution_count": null,
      "outputs": []
    },
    {
      "cell_type": "code",
      "source": [
        "#10 .index():- finds the index number of character in the string\n",
        "print(d.index('c'))\n",
        "print(d.find('z'))\n",
        "#Q) what is the difference between index() vs find()?\n",
        "# in find() method if the character is not present means it return -1\n",
        "#where as in index() if the character is not present means it rise an error"
      ],
      "metadata": {
        "id": "DuVbJQBpNmnz",
        "colab": {
          "base_uri": "https://localhost:8080/"
        },
        "outputId": "7d06a099-7bc9-4aa2-fddd-bca15cbc31ae"
      },
      "execution_count": null,
      "outputs": [
        {
          "output_type": "stream",
          "name": "stdout",
          "text": [
            "12\n",
            "-1\n"
          ]
        }
      ]
    },
    {
      "cell_type": "code",
      "source": [
        "a = \"Hello World!\"\n",
        "print(a.find('l'))\n",
        "# how get the index position of all the characters in string"
      ],
      "metadata": {
        "id": "wbXNzy-CQVAx",
        "colab": {
          "base_uri": "https://localhost:8080/"
        },
        "outputId": "f1e06c1f-4867-4d1c-da0c-6a2bb6e44d02"
      },
      "execution_count": null,
      "outputs": [
        {
          "output_type": "stream",
          "name": "stdout",
          "text": [
            "2\n"
          ]
        }
      ]
    },
    {
      "cell_type": "code",
      "source": [
        "#swapcase():- converts the upper into lower and lowerinto upper\n",
        "b = 'Medha Edu-Tech'\n",
        "print(b.swapcase())"
      ],
      "metadata": {
        "id": "IW4MYhaTQwCP",
        "colab": {
          "base_uri": "https://localhost:8080/"
        },
        "outputId": "58836ba7-9255-4ea9-f7a2-e35f2c7526dc"
      },
      "execution_count": null,
      "outputs": [
        {
          "output_type": "stream",
          "name": "stdout",
          "text": [
            "mEDHA eDU-tECH\n"
          ]
        }
      ]
    },
    {
      "cell_type": "code",
      "source": [
        "#11.zfill():- fill the zeroes infront of the string to match the length of argument\n",
        "print(b.zfill(20))"
      ],
      "metadata": {
        "id": "igmqg4HhO2Gn",
        "colab": {
          "base_uri": "https://localhost:8080/"
        },
        "outputId": "ea6e81ad-daff-4ebe-8341-62b9ad34e618"
      },
      "execution_count": null,
      "outputs": [
        {
          "output_type": "stream",
          "name": "stdout",
          "text": [
            "000000Medha Edu-Tech\n"
          ]
        }
      ]
    },
    {
      "cell_type": "markdown",
      "source": [
        "String Format methods"
      ],
      "metadata": {
        "id": "GDjkP49eO5pl"
      }
    },
    {
      "cell_type": "code",
      "source": [
        "#f'string {format} method:-\n",
        "#it takes  an argument and place it over the place holder\n",
        "age = 10\n",
        "text = f'my age is {age} years old'\n",
        "print(text)"
      ],
      "metadata": {
        "id": "Pjv3r5grO7s7",
        "colab": {
          "base_uri": "https://localhost:8080/"
        },
        "outputId": "89b447bc-c6ca-4c05-f26e-4732fcb6c221"
      },
      "execution_count": null,
      "outputs": [
        {
          "output_type": "stream",
          "name": "stdout",
          "text": [
            "my age is 10 years old\n"
          ]
        }
      ]
    },
    {
      "cell_type": "code",
      "source": [
        "item = input(\"Enter your item name: \")\n",
        "quantity = int(input(\"enter quantity: \"))\n",
        "price_each = float(input(\"enter price of each: \"))\n",
        "notify = f\"\"\"Your order for {item} is confirmed with an quantity of {quantity} and Total price is {price_each*quantity}\"\"\"\n",
        "print(notify)"
      ],
      "metadata": {
        "colab": {
          "base_uri": "https://localhost:8080/"
        },
        "id": "VQNW3_0FO8uT",
        "outputId": "5d0ab4d2-63f1-451f-9495-aaeb519e5846"
      },
      "execution_count": null,
      "outputs": [
        {
          "output_type": "stream",
          "name": "stdout",
          "text": [
            "Enter your item name: Mutton Biryani\n",
            "enter quantity: 7\n",
            "enter price of each: 150\n",
            "Your order for Mutton Biryani is confirmed with an quantity of 7 and Total price is 1050.0\n"
          ]
        }
      ]
    },
    {
      "cell_type": "markdown",
      "source": [
        "sub-slicing\n"
      ],
      "metadata": {
        "id": "kECnqiHYebzE"
      }
    },
    {
      "cell_type": "code",
      "source": [
        " print(round(123.456,-1))"
      ],
      "metadata": {
        "colab": {
          "base_uri": "https://localhost:8080/"
        },
        "id": "DZuZIfH3k22x",
        "outputId": "fef578a9-c627-4e26-c08c-65894e4d4698"
      },
      "execution_count": null,
      "outputs": [
        {
          "output_type": "stream",
          "name": "stdout",
          "text": [
            "120.0\n"
          ]
        }
      ]
    },
    {
      "cell_type": "code",
      "source": [
        "s = 'OpenAI'\n",
        "print(s[1:6][-1 ::-2])"
      ],
      "metadata": {
        "colab": {
          "base_uri": "https://localhost:8080/"
        },
        "id": "59gK9Bijliun",
        "outputId": "38073da5-ef2f-4958-aef6-5d6403f4455a"
      },
      "execution_count": null,
      "outputs": [
        {
          "output_type": "stream",
          "name": "stdout",
          "text": [
            "Inp\n"
          ]
        }
      ]
    },
    {
      "cell_type": "markdown",
      "source": [
        "05-05-2025"
      ],
      "metadata": {
        "id": "ZZzOvTvzkPIj"
      }
    },
    {
      "cell_type": "code",
      "source": [
        " # what is condition?\n",
        " # if --> elif-->else\n",
        " # having more than two condition we use elif\n",
        " user_marks = int(input(\"enter your marks \"))\n",
        " if user_marks >=45:\n",
        "  print(\"congratulation\")\n",
        "  print(\"you have pass\")\n",
        " else :\n",
        "    print(\"Better luck next time \")\n"
      ],
      "metadata": {
        "colab": {
          "base_uri": "https://localhost:8080/"
        },
        "id": "F5AyyyyNkSyp",
        "outputId": "4075faf5-8d51-42cf-888e-01e22227884c"
      },
      "execution_count": null,
      "outputs": [
        {
          "output_type": "stream",
          "name": "stdout",
          "text": [
            "enter your marks 80\n",
            "congratulation\n",
            "you have pass\n"
          ]
        }
      ]
    },
    {
      "cell_type": "code",
      "source": [
        "#write a program if the num is >0 print +ve result else print -ve. if the num is equal to zero point neutral\n",
        "#if---elif---else\n",
        "num = int(input(\"Enter number: \"))\n",
        "if num>0:\n",
        "  print(\"Positive +ve \")\n",
        "elif num==0:\n",
        "  print(\"Neutral\")\n",
        "else:\n",
        "  print(\"Negative -ve \")"
      ],
      "metadata": {
        "id": "lGEyZz4RpqmW",
        "colab": {
          "base_uri": "https://localhost:8080/"
        },
        "outputId": "b2ac665d-96aa-481f-a585-123e48bb26ef"
      },
      "execution_count": null,
      "outputs": [
        {
          "output_type": "stream",
          "name": "stdout",
          "text": [
            "Enter number: -252\n",
            "Negative -ve \n"
          ]
        }
      ]
    },
    {
      "cell_type": "code",
      "source": [
        "#how can we check the condition?\n",
        "#comparison operators or relational operators\n",
        "#1.equlal's too---> \"=\"\n",
        "#2.not equal too--->\"!=\"\n",
        "#3.greater than---> >\n",
        "#4. less than ---> <\n",
        "#5. greater than or equal too ---> >=\n",
        "#6. less than or equal too--> <=\n"
      ],
      "metadata": {
        "id": "TwtBKrPO0SoP"
      },
      "execution_count": null,
      "outputs": []
    },
    {
      "cell_type": "code",
      "source": [
        "#logical operators ---> 3 types\n",
        "#And- if all the conditions are true than only execute the program\n",
        "#logical operators ---> 3 types\n",
        "#And- if all the conditions are true than only execute the program\n",
        "#or- if any one condition is true execute program\n",
        "#not: it reverse your actual output\n",
        "print(10==10)\n",
        "print(10==25)\n",
        "print('H'=='h')\n",
        "print(not(10==10))\n"
      ],
      "metadata": {
        "colab": {
          "base_uri": "https://localhost:8080/"
        },
        "id": "9voq7Nfr0SdH",
        "outputId": "35b8f825-0f98-4e5d-9ec2-4f764e1ba59c"
      },
      "execution_count": null,
      "outputs": [
        {
          "output_type": "stream",
          "name": "stdout",
          "text": [
            "True\n",
            "False\n",
            "False\n",
            "False\n"
          ]
        }
      ]
    },
    {
      "cell_type": "code",
      "source": [
        "a = 25\n",
        "b = 10\n",
        "c = 15\n",
        "d = 60\n",
        "#check a>c and d>b and c<b\n",
        "if a>c or d>b or c>b:\n",
        "  print(\"all the statements are true\")\n",
        "else:\n",
        "  print(\"any one statement is wrong\")"
      ],
      "metadata": {
        "id": "3dEaKyaF0eP3",
        "outputId": "bb0fd972-261e-437f-a362-38ab851b280f",
        "colab": {
          "base_uri": "https://localhost:8080/"
        }
      },
      "execution_count": null,
      "outputs": [
        {
          "output_type": "stream",
          "name": "stdout",
          "text": [
            "all the statements are true\n"
          ]
        }
      ]
    },
    {
      "cell_type": "markdown",
      "source": [
        "08-05-2025"
      ],
      "metadata": {
        "id": "loBAONKjKYAI"
      }
    },
    {
      "cell_type": "markdown",
      "source": [
        "Conditional statements"
      ],
      "metadata": {
        "id": "zJvdJqS8KnYH"
      }
    },
    {
      "cell_type": "code",
      "source": [
        "#conditional statements: is used to check specific condition is ssatisfied or not"
      ],
      "metadata": {
        "id": "wxSctKMUKo7x"
      },
      "execution_count": null,
      "outputs": []
    },
    {
      "cell_type": "code",
      "source": [
        "#To build decision making codes  we use conditional statements\n",
        "#How can we check a condition?\n",
        "#to check the condition we need to use comparison operators\n",
        "#There are 6 comparison operators\n",
        "#1.equlal's too---> ==\n",
        "#2.not equal too---> !=\n",
        "#3.greater than---> >\n",
        "#4. less than ---> <\n",
        "#5. greater than or equal too ---> >=\n",
        "#6. less than or equal too--> <=\n"
      ],
      "metadata": {
        "id": "zoh_q-PHKs8X"
      },
      "execution_count": null,
      "outputs": []
    },
    {
      "cell_type": "code",
      "source": [
        "#How many conditional statements do we have?\n",
        "#3 conditional statement\n",
        "#if--->elif---->else\n",
        "#what is if?\n",
        "#if i want to check a single true condition will use 'if'\n",
        "#what is else?\n",
        "#other than if condition or if the"
      ],
      "metadata": {
        "id": "zoUF6qe7Kxmw"
      },
      "execution_count": null,
      "outputs": []
    },
    {
      "cell_type": "code",
      "source": [
        "#check the 10 is greater than 5 or not\n",
        "a = 10\n",
        "if a>5:\n",
        "  print(\"True\")\n",
        "else:\n",
        "  print(\"False\")"
      ],
      "metadata": {
        "colab": {
          "base_uri": "https://localhost:8080/"
        },
        "id": "KdwpNs2DK3e3",
        "outputId": "a7196565-b647-41e2-a5b5-9bac4bf7e4c3"
      },
      "execution_count": null,
      "outputs": [
        {
          "output_type": "stream",
          "name": "stdout",
          "text": [
            "True\n"
          ]
        }
      ]
    },
    {
      "cell_type": "code",
      "source": [
        "#check a string is palindrome or not irrespective of letter case\n",
        "print('hello' == 'hello')\n",
        "print('Hello' == 'hello')"
      ],
      "metadata": {
        "colab": {
          "base_uri": "https://localhost:8080/"
        },
        "id": "CHYlTtz-LFP_",
        "outputId": "a6131c41-bb42-44b3-fa19-2c7c61663a0e"
      },
      "execution_count": null,
      "outputs": [
        {
          "output_type": "stream",
          "name": "stdout",
          "text": [
            "True\n",
            "False\n"
          ]
        }
      ]
    },
    {
      "cell_type": "markdown",
      "source": [
        "Nested conditions"
      ],
      "metadata": {
        "id": "1OmV8dd2LQOY"
      }
    },
    {
      "cell_type": "code",
      "source": [
        "#1.why we require nested condition? or what is the purpose of nested condition?\n",
        "#A Block of code can be executed if the previous condition is true\n",
        "#nested conditions give the series of output\n",
        "# writting a condition inside the another condition is knowns as nested condition\n",
        "# if we want a series of output we use nested condition"
      ],
      "metadata": {
        "id": "P0TXHTOdLROX"
      },
      "execution_count": null,
      "outputs": []
    },
    {
      "cell_type": "code",
      "source": [
        "a = 35\n",
        "#check this num is greater than 10,20,30,40 and 50\n",
        "#iff the a>10---> 35 is greater than 10\n",
        "#iff the a>20---> 35 is greater than 20\n",
        "#iff the a>30---> 35 is greater than 30\n",
        "#iff the a>40---> 35 is greater than 40\n",
        "#iff the a>50---> 35 is greater than 50\n",
        "if a>10:\n",
        "  print('a is greater than 10')\n",
        "  if a>20:\n",
        "    print('a is greater than 20')\n",
        "    if a>30:\n",
        "      print('a is greater than 30')\n",
        "      if a>40:\n",
        "        print('a is greater than 40')\n",
        "        if a>50: #removed extra indentation here\n",
        "          print('a is greater than 50')\n",
        "        else:\n",
        "          print('a is less than 50')\n",
        "      else:\n",
        "        print('a is less than 40')\n",
        "    else:\n",
        "      print('a is greater than 30') #this line also has logic error and should be 'a is less than 30'\n",
        "  else:\n",
        "    print('a is less than 20')\n",
        "else:\n",
        "  print('a is less than 10')"
      ],
      "metadata": {
        "colab": {
          "base_uri": "https://localhost:8080/"
        },
        "id": "gyYBWrEDLX_X",
        "outputId": "1f2f3339-2eb8-407d-ed5e-0f9344c70e75"
      },
      "execution_count": null,
      "outputs": [
        {
          "output_type": "stream",
          "name": "stdout",
          "text": [
            "a is greater than 10\n",
            "a is less than 20\n"
          ]
        }
      ]
    },
    {
      "cell_type": "code",
      "source": [
        "#conditional statements ---> if-->elif--->else\n",
        "#comparison operators is also known as relational operators--->6 types, ==,!=.>,<,>=,<=\n"
      ],
      "metadata": {
        "id": "tpmWXhETLtqo"
      },
      "execution_count": null,
      "outputs": []
    },
    {
      "cell_type": "markdown",
      "source": [
        "Ternary Operator"
      ],
      "metadata": {
        "id": "7BgweXsrLwxx"
      }
    },
    {
      "cell_type": "code",
      "source": [
        "x = 5\n",
        "result = \"even\" if x%2==0 else \"odd\"\n",
        "print(result)"
      ],
      "metadata": {
        "colab": {
          "base_uri": "https://localhost:8080/"
        },
        "id": "jtzt-Z7sLtII",
        "outputId": "c8204e67-2bff-4a04-89f0-53cb070bcef4"
      },
      "execution_count": null,
      "outputs": [
        {
          "output_type": "stream",
          "name": "stdout",
          "text": [
            "odd\n"
          ]
        }
      ]
    },
    {
      "cell_type": "code",
      "source": [
        "a = \"Hello good morning\"\n",
        "#check \"good\" is present in above string\n",
        "if \"good\""
      ],
      "metadata": {
        "id": "fF7GEwoXMCBB"
      },
      "execution_count": null,
      "outputs": []
    },
    {
      "cell_type": "code",
      "source": [
        "#write a program to check eligible for vote or not\n",
        "#greater than or equal to 18years"
      ],
      "metadata": {
        "id": "_1F_RfLrMMIP"
      },
      "execution_count": null,
      "outputs": []
    },
    {
      "cell_type": "code",
      "source": [
        "#write a program to check the grades of the students based on the received marks\n",
        "#if the student is having marks from 40 to 60---> print \"D\" grade along with marks\n",
        "#if the student is having marks from 61 to 70---> print \"c\" grade along with marks\n",
        "#if the student is having marks from 71 to 80---> print \"B\" grade along with marks\n",
        "#if the student is having marks from 81 to 90---> print \"A\" grade along with marks\n",
        "#if the student is having marks from 91 to 100---> print \"A+\" grade along with marks\n",
        "#if the sudent is having marks than 100 print \"Dont be smart\"\n",
        "#if the student is having marks less than 40 print \"Better luck next time\"\n",
        "#Use tha nested if condition along with elif."
      ],
      "metadata": {
        "id": "PzqmurutMhs_"
      },
      "execution_count": null,
      "outputs": []
    },
    {
      "cell_type": "code",
      "source": [
        "a= 2**(3**2)\n",
        "print(a)"
      ],
      "metadata": {
        "colab": {
          "base_uri": "https://localhost:8080/"
        },
        "id": "FYPGflssKsiq",
        "outputId": "4d1d730a-8381-42cf-f69d-c70e9eda505b"
      },
      "execution_count": 1,
      "outputs": [
        {
          "output_type": "stream",
          "name": "stdout",
          "text": [
            "512\n"
          ]
        }
      ]
    },
    {
      "cell_type": "code",
      "source": [
        "a= 2**3**2\n",
        "print(a)"
      ],
      "metadata": {
        "colab": {
          "base_uri": "https://localhost:8080/"
        },
        "id": "Y2zSuoibLaJg",
        "outputId": "c34828ef-4158-482c-e7ab-4fee76cbd33c"
      },
      "execution_count": 2,
      "outputs": [
        {
          "output_type": "stream",
          "name": "stdout",
          "text": [
            "512\n"
          ]
        }
      ]
    },
    {
      "cell_type": "code",
      "source": [
        "a= (2**3)**2\n",
        "\n",
        "print(a)"
      ],
      "metadata": {
        "colab": {
          "base_uri": "https://localhost:8080/"
        },
        "id": "fRi264L6MNZS",
        "outputId": "d9a73def-e9f7-47ab-9104-45bfb1edc77d"
      },
      "execution_count": 3,
      "outputs": [
        {
          "output_type": "stream",
          "name": "stdout",
          "text": [
            "64\n"
          ]
        }
      ]
    }
  ]
}