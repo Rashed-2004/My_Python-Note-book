{
  "nbformat": 4,
  "nbformat_minor": 0,
  "metadata": {
    "colab": {
      "provenance": [],
      "authorship_tag": "ABX9TyMxVzh1f32PM2lpKOqUkP74",
      "include_colab_link": true
    },
    "kernelspec": {
      "name": "python3",
      "display_name": "Python 3"
    },
    "language_info": {
      "name": "python"
    }
  },
  "cells": [
    {
      "cell_type": "markdown",
      "metadata": {
        "id": "view-in-github",
        "colab_type": "text"
      },
      "source": [
        "<a href=\"https://colab.research.google.com/github/Rashed-2004/My_Python-Note-book/blob/main/Numpy_practice.ipynb\" target=\"_parent\"><img src=\"https://colab.research.google.com/assets/colab-badge.svg\" alt=\"Open In Colab\"/></a>"
      ]
    },
    {
      "cell_type": "markdown",
      "source": [
        "**30**-**07**-***2025***"
      ],
      "metadata": {
        "id": "gFYC1DylGjEr"
      }
    },
    {
      "cell_type": "code",
      "execution_count": null,
      "metadata": {
        "id": "WkYYMq-rDcjh"
      },
      "outputs": [],
      "source": [
        "#what is numpy ?\n",
        "# numpy is core library for scientific computing in python\n",
        "# what is the central object in numpy?\n",
        "# numpy - Array's\n",
        "# what is Numpy A?\n",
        "# Arrays are high performence multile dimensional object which is design specially for mathmetical opreations\n",
        "# Array's are order , immutable and allows duplicate data\n"
      ]
    },
    {
      "cell_type": "code",
      "source": [
        "# How many type of data structures do we have in Numpy?\n",
        "# There are three type\n",
        "#1d --Array's --> Array's with zero columns and  specific rows(axis 0)\n",
        "#2D--Array's --> Array's with both rows (axis 0) and columns (axis 1)\n",
        "#3D --> also known as MultiDimensional"
      ],
      "metadata": {
        "id": "QjYf0HDmF6Tb"
      },
      "execution_count": null,
      "outputs": []
    },
    {
      "cell_type": "code",
      "source": [
        "# what are all use cases and mathematical operations acheived by using numpy?\n",
        "\"\"\"1. Dot product /Inner product\n",
        "   2. Matrix multiplication\n",
        "   3. Element wise matrix multiplication\n",
        "   4. solving the linear system\n",
        "   5. inverse\n",
        "   6. deteriment\n",
        "   7. choose the random number\n",
        "   8. statistics\n",
        "   9. broadcasting method \"\"\"\n"
      ],
      "metadata": {
        "id": "Z5Aa5p-NGCxR"
      },
      "execution_count": null,
      "outputs": []
    },
    {
      "cell_type": "markdown",
      "source": [
        "# Installation of Numpy"
      ],
      "metadata": {
        "id": "dTm0i9-oHUv4"
      }
    },
    {
      "cell_type": "code",
      "source": [
        "! pip install numpy"
      ],
      "metadata": {
        "colab": {
          "base_uri": "https://localhost:8080/"
        },
        "id": "ehycd6AdG1UP",
        "outputId": "641cfc7d-4cdc-4ad5-dec4-378e7684b5d8"
      },
      "execution_count": null,
      "outputs": [
        {
          "output_type": "stream",
          "name": "stdout",
          "text": [
            "Requirement already satisfied: numpy in /usr/local/lib/python3.11/dist-packages (2.0.2)\n"
          ]
        }
      ]
    },
    {
      "cell_type": "code",
      "source": [
        "import numpy as np"
      ],
      "metadata": {
        "id": "cc-ZLSxlHJea"
      },
      "execution_count": null,
      "outputs": []
    },
    {
      "cell_type": "code",
      "source": [
        "# check the vesrion of the numpy\n",
        "np.__version__"
      ],
      "metadata": {
        "colab": {
          "base_uri": "https://localhost:8080/",
          "height": 36
        },
        "id": "j4pD5wj_HmRn",
        "outputId": "3af4d479-1b3f-4558-ac06-4a15df3cd952"
      },
      "execution_count": null,
      "outputs": [
        {
          "output_type": "execute_result",
          "data": {
            "text/plain": [
              "'2.0.2'"
            ],
            "application/vnd.google.colaboratory.intrinsic+json": {
              "type": "string"
            }
          },
          "metadata": {},
          "execution_count": 6
        }
      ]
    },
    {
      "cell_type": "markdown",
      "source": [
        "# **Central object in numpy in Array's**"
      ],
      "metadata": {
        "id": "BGql0iLCHzU7"
      }
    },
    {
      "cell_type": "code",
      "source": [
        "# How can we create an array?\n",
        "# Array's can be create from existing data\n",
        "#1D--array's\n",
        "a = np.array([1,2,3,4,5])\n",
        "print(a)\n",
        "# check the shape of the above array \"a\"\n",
        "a.shape\n",
        "# find the dimension of the array \"a\"\n",
        "a.ndim\n",
        "# find the number of the elements of the array \"a\"\n",
        "a.size\n",
        "# find the size in bytes occupied by each elemnet in above array's \"a\"\n",
        "a.itemsize\n",
        "# find the data type of the elemnts in above array\n",
        "a.dtype"
      ],
      "metadata": {
        "colab": {
          "base_uri": "https://localhost:8080/"
        },
        "id": "LnJrwlh6HoH2",
        "outputId": "c2c79f5a-c7df-4a3b-cc1b-19bd8f28451d"
      },
      "execution_count": null,
      "outputs": [
        {
          "output_type": "stream",
          "name": "stdout",
          "text": [
            "[1 2 3 4 5]\n"
          ]
        },
        {
          "output_type": "execute_result",
          "data": {
            "text/plain": [
              "dtype('int64')"
            ]
          },
          "metadata": {},
          "execution_count": 17
        }
      ]
    },
    {
      "cell_type": "markdown",
      "source": [
        "# Essential method in Numpy"
      ],
      "metadata": {
        "id": "zGuZ6mRtJb_b"
      }
    },
    {
      "cell_type": "code",
      "source": [
        "# access the element in the array\n",
        "b = np.array([1,2,3])\n",
        "# print the 2  from above array\n",
        "print(b[1])\n",
        "#reverse the entire array\n",
        "print(b[ :: -1])\n"
      ],
      "metadata": {
        "colab": {
          "base_uri": "https://localhost:8080/"
        },
        "id": "gMSn5m4-JiOB",
        "outputId": "0a3d2944-38bf-437e-e183-3216fb3a68bb"
      },
      "execution_count": null,
      "outputs": [
        {
          "output_type": "stream",
          "name": "stdout",
          "text": [
            "2\n",
            "[3 2 1]\n"
          ]
        }
      ]
    },
    {
      "cell_type": "code",
      "source": [
        "# above array replace the \"3\" with \"5\"\n",
        "b[2] = 5\n",
        "print(b)"
      ],
      "metadata": {
        "colab": {
          "base_uri": "https://localhost:8080/"
        },
        "id": "rNWRsTlYKDD5",
        "outputId": "88b3ed1b-e6be-42f5-dace-0a1ca658aae6"
      },
      "execution_count": null,
      "outputs": [
        {
          "output_type": "stream",
          "name": "stdout",
          "text": [
            "[1 2 5]\n"
          ]
        }
      ]
    },
    {
      "cell_type": "code",
      "source": [
        "#ARRAY --> ORDERD, IMMUTABLE AND ALLOWS THE DUPLICATES"
      ],
      "metadata": {
        "id": "aFX_DYoMKu7U"
      },
      "execution_count": null,
      "outputs": []
    },
    {
      "cell_type": "markdown",
      "source": [
        "*Element wise maths operation*"
      ],
      "metadata": {
        "id": "Y3SSKtkyKo-l"
      }
    },
    {
      "cell_type": "code",
      "source": [
        "c = np.array([2,0,3])\n",
        "print(b+c)\n",
        "# Note :- when we applying the arthematic operation on two array's the array's has to be in same length\n",
        "# what is vector addition?\n",
        "# when we apply addition on array of same length and dimenssions --> is known as Vector additions"
      ],
      "metadata": {
        "colab": {
          "base_uri": "https://localhost:8080/"
        },
        "id": "cg80YFqFKoMF",
        "outputId": "7e5f10d1-da95-4228-be19-c44c42669f37"
      },
      "execution_count": null,
      "outputs": [
        {
          "output_type": "stream",
          "name": "stdout",
          "text": [
            "[3 2 8]\n"
          ]
        }
      ]
    },
    {
      "cell_type": "code",
      "source": [
        "d = np.array ([5,6,7])\n",
        "#find the sum of the elements of above array\n",
        "print(d.sum())\n",
        "# find the minimun element from the above array\n",
        "print(d.min())\n",
        "# find the maximum element from the above array\n",
        "print (d.max())"
      ],
      "metadata": {
        "colab": {
          "base_uri": "https://localhost:8080/"
        },
        "id": "rvguebTmLooy",
        "outputId": "e3100d1f-4b1f-448b-ab91-32a4983dc34c"
      },
      "execution_count": null,
      "outputs": [
        {
          "output_type": "stream",
          "name": "stdout",
          "text": [
            "18\n",
            "5\n",
            "7\n"
          ]
        }
      ]
    },
    {
      "cell_type": "code",
      "source": [
        "l = [1,2,3,4,5]\n",
        "#create an array from the list\n",
        "e = np.array(l)\n",
        "print(e)\n",
        "#add the 6 into above list\n",
        "l.append(6)\n",
        "print(l)"
      ],
      "metadata": {
        "colab": {
          "base_uri": "https://localhost:8080/"
        },
        "id": "lqH5Ja8FM2SX",
        "outputId": "7b9dd562-9108-4167-a6ac-6dab08bbcf37"
      },
      "execution_count": null,
      "outputs": [
        {
          "output_type": "stream",
          "name": "stdout",
          "text": [
            "[1 2 3 4 5]\n",
            "[1, 2, 3, 4, 5, 6]\n"
          ]
        }
      ]
    },
    {
      "cell_type": "code",
      "source": [],
      "metadata": {
        "id": "8iY5Uj7UN8IV"
      },
      "execution_count": null,
      "outputs": []
    },
    {
      "cell_type": "code",
      "source": [
        "# how can we add the items into array?\n",
        "# by creating \"New array\"\n",
        "\n",
        "a1 = e + np .array([7])\n",
        "print (a1)\n",
        "\"\"\"when we add to single element array to the existing array with different size,\n",
        "the new array  element is going to add with each element in the exsisting array this is known as boardcasting methods"
      ],
      "metadata": {
        "colab": {
          "base_uri": "https://localhost:8080/"
        },
        "id": "D9vQX_CqNp52",
        "outputId": "9cde8f3b-2138-41a8-e398-6cf90c8edad4"
      },
      "execution_count": null,
      "outputs": [
        {
          "output_type": "stream",
          "name": "stdout",
          "text": [
            "[ 8  9 10 11 12]\n"
          ]
        }
      ]
    },
    {
      "cell_type": "code",
      "source": [
        "arr1 = np.array([1,2,3,4,5])\n",
        "arr2 = np.array ([6,7,8,9,10])\n",
        "arr3 = np.append(arr1,arr2)\n",
        "print(arr3)"
      ],
      "metadata": {
        "colab": {
          "base_uri": "https://localhost:8080/"
        },
        "id": "lJNxYlX-O2yN",
        "outputId": "cd82caa6-df6d-496b-de36-9cfbef74aa4c"
      },
      "execution_count": null,
      "outputs": [
        {
          "output_type": "stream",
          "name": "stdout",
          "text": [
            "[ 1  2  3  4  5  6  7  8  9 10]\n"
          ]
        }
      ]
    },
    {
      "cell_type": "code",
      "source": [
        "# find the sqrt of each element in above arr1\n",
        "print(np.sqrt(arr1))"
      ],
      "metadata": {
        "colab": {
          "base_uri": "https://localhost:8080/"
        },
        "id": "_zP68W3sPQrT",
        "outputId": "6c66c798-7031-42b8-fe76-6c65535e22fe"
      },
      "execution_count": null,
      "outputs": [
        {
          "output_type": "stream",
          "name": "stdout",
          "text": [
            "[1.         1.41421356 1.73205081 2.         2.23606798]\n"
          ]
        }
      ]
    },
    {
      "cell_type": "markdown",
      "source": [
        "# DOT PRODUCT"
      ],
      "metadata": {
        "id": "6AShFzY-QGq3"
      }
    },
    {
      "cell_type": "code",
      "source": [
        "a = np .array ([1,2])\n",
        "b = np .array ([3,4])\n",
        "dot = 0\n",
        "for i in range (len(a)):\n",
        "  dot += a[i] * b[i]\n",
        "print(dot)"
      ],
      "metadata": {
        "colab": {
          "base_uri": "https://localhost:8080/"
        },
        "id": "V3RDZCocQKsV",
        "outputId": "861f475d-eeea-4ed3-92f3-9ff1b9829796"
      },
      "execution_count": null,
      "outputs": [
        {
          "output_type": "stream",
          "name": "stdout",
          "text": [
            "11\n"
          ]
        }
      ]
    },
    {
      "cell_type": "code",
      "source": [
        "# Define Dot product?\n",
        "# vector multiplicstion of the array's and sum of elements of result\n",
        "# multiply each coresponding element and do the sum\n",
        "# Note :- when we applythe dot product the array's"
      ],
      "metadata": {
        "id": "t8Kkie_IQ_jO"
      },
      "execution_count": null,
      "outputs": []
    },
    {
      "cell_type": "code",
      "source": [
        "dot = np.dot(a,b)\n",
        "print(dot)"
      ],
      "metadata": {
        "colab": {
          "base_uri": "https://localhost:8080/"
        },
        "id": "0UCTAfJIR8Ze",
        "outputId": "8dbce4ae-1954-49b2-8a3e-19ba17cc7128"
      },
      "execution_count": null,
      "outputs": [
        {
          "output_type": "stream",
          "name": "stdout",
          "text": [
            "11\n"
          ]
        }
      ]
    },
    {
      "cell_type": "code",
      "source": [
        "#Manual method\n",
        "c =a*b\n",
        "d =np.sum(c)\n",
        "print(d)"
      ],
      "metadata": {
        "colab": {
          "base_uri": "https://localhost:8080/"
        },
        "id": "kLM1vFmPTEAr",
        "outputId": "0171cb39-5a08-4bb2-d121-e05aae7d0fc6"
      },
      "execution_count": null,
      "outputs": [
        {
          "output_type": "stream",
          "name": "stdout",
          "text": [
            "11\n"
          ]
        }
      ]
    },
    {
      "cell_type": "code",
      "source": [
        "#another method\n",
        "e = a.dot(b)\n",
        "print(e)\n"
      ],
      "metadata": {
        "colab": {
          "base_uri": "https://localhost:8080/"
        },
        "id": "eqgWGI60TKst",
        "outputId": "ed203b9b-894f-4439-f3c7-2f6cb9108ef6"
      },
      "execution_count": null,
      "outputs": [
        {
          "output_type": "stream",
          "name": "stdout",
          "text": [
            "11\n"
          ]
        }
      ]
    },
    {
      "cell_type": "markdown",
      "source": [
        "31-07-2025"
      ],
      "metadata": {
        "id": "nJhJLFkpMi-d"
      }
    },
    {
      "cell_type": "code",
      "source": [
        "import numpy as np\n",
        "# create an array from set\n",
        "s1 = {1,2,3,4,5}\n",
        "a = np.array(s1)\n",
        "print (type(a))\n",
        "print(a)"
      ],
      "metadata": {
        "colab": {
          "base_uri": "https://localhost:8080/"
        },
        "id": "ujy56AuDMij6",
        "outputId": "a2edbe54-bb76-476c-8b87-2bd15f0dbaa2"
      },
      "execution_count": null,
      "outputs": [
        {
          "output_type": "stream",
          "name": "stdout",
          "text": [
            "<class 'numpy.ndarray'>\n",
            "{1, 2, 3, 4, 5}\n"
          ]
        }
      ]
    },
    {
      "cell_type": "code",
      "source": [
        "t1 = (1,2,3,4,5)\n",
        "b = np.array(t1)\n",
        "print(b)"
      ],
      "metadata": {
        "colab": {
          "base_uri": "https://localhost:8080/"
        },
        "id": "SQzHW_rYNDq1",
        "outputId": "5b26360a-cae2-461b-8f18-67c3456f9601"
      },
      "execution_count": null,
      "outputs": [
        {
          "output_type": "stream",
          "name": "stdout",
          "text": [
            "[1 2 3 4 5]\n"
          ]
        }
      ]
    },
    {
      "cell_type": "markdown",
      "source": [
        "# 2D Array's"
      ],
      "metadata": {
        "id": "qOSPExZ-NNwq"
      }
    },
    {
      "cell_type": "code",
      "source": [
        "a = np.array ([[1,2,3],[4,5,6]])\n",
        "print(a)\n",
        "#find the no of rows and columns\n",
        "print(a.shape)\n",
        "#find the dimensionality of an array\n",
        "print(a.ndim)\n",
        "#print the total elemnts in the array\n",
        "print(a.size)\n",
        "# print the size of the array\n",
        "print (a.itemsize)\n",
        "# print the data type of the arrays\n",
        "print (a.dtype)"
      ],
      "metadata": {
        "colab": {
          "base_uri": "https://localhost:8080/"
        },
        "id": "sN_sv4XGNRwU",
        "outputId": "b3b58bd1-7984-4393-d3ba-b38b4521957a"
      },
      "execution_count": null,
      "outputs": [
        {
          "output_type": "stream",
          "name": "stdout",
          "text": [
            "[[1 2 3]\n",
            " [4 5 6]]\n",
            "(2, 3)\n",
            "2\n",
            "6\n",
            "8\n",
            "int64\n"
          ]
        }
      ]
    },
    {
      "cell_type": "code",
      "source": [
        "a = np.array([[1,2,3],[4,5,6]])\n",
        "print(a)"
      ],
      "metadata": {
        "colab": {
          "base_uri": "https://localhost:8080/"
        },
        "id": "GjIKrJgkO7lk",
        "outputId": "cc50bb8a-0bd0-4962-a5c8-bb4d871134ac"
      },
      "execution_count": null,
      "outputs": [
        {
          "output_type": "stream",
          "name": "stdout",
          "text": [
            "[[1 2 3]\n",
            " [4 5 6]]\n"
          ]
        }
      ]
    },
    {
      "cell_type": "code",
      "source": [
        "# how can we access the elements from the array\n",
        "# print the entire 1st row\n",
        "#syntax :- array[row_index,col_index]\n",
        "print(a[0])\n",
        "print(a[1])\n",
        "print(a[1,1])\n",
        "print(a[0,2])"
      ],
      "metadata": {
        "colab": {
          "base_uri": "https://localhost:8080/"
        },
        "id": "MztaLAmOPI4Q",
        "outputId": "9c4820ad-81ec-49e9-b6aa-b3db9ec13e48"
      },
      "execution_count": null,
      "outputs": [
        {
          "output_type": "stream",
          "name": "stdout",
          "text": [
            "[1 2 3]\n",
            "[4 5 6]\n",
            "5\n",
            "3\n"
          ]
        }
      ]
    },
    {
      "cell_type": "code",
      "source": [
        "a = np.array([[1,2,3,4] ,[5,6,7,8,],[9,10,11,12]])\n",
        "print(a)"
      ],
      "metadata": {
        "colab": {
          "base_uri": "https://localhost:8080/"
        },
        "id": "-BPZJdwHQEgJ",
        "outputId": "35cceb47-df48-449e-a170-1693b9683e24"
      },
      "execution_count": null,
      "outputs": [
        {
          "output_type": "stream",
          "name": "stdout",
          "text": [
            "[[ 1  2  3  4]\n",
            " [ 5  6  7  8]\n",
            " [ 9 10 11 12]]\n"
          ]
        }
      ]
    },
    {
      "cell_type": "code",
      "source": [
        "#print the values of 1st column in above array\n",
        "print (a[ :,0])\n",
        "# print the 3rd column values\n",
        "print(a[:,2])"
      ],
      "metadata": {
        "colab": {
          "base_uri": "https://localhost:8080/"
        },
        "id": "ovHRSCXxQ7qX",
        "outputId": "5fbc01de-a21c-46c0-a4d7-50debc142430"
      },
      "execution_count": null,
      "outputs": [
        {
          "output_type": "stream",
          "name": "stdout",
          "text": [
            "[1 5 9]\n",
            "[ 3  7 11]\n"
          ]
        }
      ]
    },
    {
      "cell_type": "code",
      "source": [
        "#acess only 10 11 12\n",
        "print(a[2,1:4])\n",
        "#print the only 8 and 12\n",
        "print (a[1:3,3])"
      ],
      "metadata": {
        "colab": {
          "base_uri": "https://localhost:8080/"
        },
        "id": "q7ZRjUINR1PN",
        "outputId": "3c0212f2-7d59-4fa7-eb5d-25b16661eb8d"
      },
      "execution_count": null,
      "outputs": [
        {
          "output_type": "stream",
          "name": "stdout",
          "text": [
            "[10 11 12]\n",
            "[ 8 12]\n"
          ]
        }
      ]
    },
    {
      "cell_type": "code",
      "source": [
        "b = a[:,0]\n",
        "for i in b:\n",
        "  print(i)"
      ],
      "metadata": {
        "colab": {
          "base_uri": "https://localhost:8080/"
        },
        "id": "O_FDnjEvSe2J",
        "outputId": "12758c2b-512d-4235-c48f-b94743311c38"
      },
      "execution_count": null,
      "outputs": [
        {
          "output_type": "stream",
          "name": "stdout",
          "text": [
            "1\n",
            "5\n",
            "9\n"
          ]
        }
      ]
    },
    {
      "cell_type": "markdown",
      "source": [
        "# Transpose"
      ],
      "metadata": {
        "id": "lpFYm7lSSzqD"
      }
    },
    {
      "cell_type": "code",
      "source": [
        "b = np.array([[1,2,3,4] ,[5,6,7,8,],[9,10,11,12]])\n",
        "print(b)\n",
        "print(b.T)"
      ],
      "metadata": {
        "colab": {
          "base_uri": "https://localhost:8080/"
        },
        "id": "65m79x9iS8Zj",
        "outputId": "f0b328cc-66e7-4eee-87a9-ae157730e6de"
      },
      "execution_count": null,
      "outputs": [
        {
          "output_type": "stream",
          "name": "stdout",
          "text": [
            "[[ 1  2  3  4]\n",
            " [ 5  6  7  8]\n",
            " [ 9 10 11 12]]\n",
            "[[ 1  5  9]\n",
            " [ 2  6 10]\n",
            " [ 3  7 11]\n",
            " [ 4  8 12]]\n"
          ]
        }
      ]
    },
    {
      "cell_type": "markdown",
      "source": [
        "# **Matrix Multiplication**"
      ],
      "metadata": {
        "id": "jdBoyA1dTHlF"
      }
    },
    {
      "cell_type": "code",
      "source": [
        "a = np.array([[1,2],[3,4]])\n",
        "b = np.array([[3,4],[5,6]])\n",
        "print(a@b)"
      ],
      "metadata": {
        "colab": {
          "base_uri": "https://localhost:8080/"
        },
        "id": "c7um66ttTHPv",
        "outputId": "5fe277da-365e-41f8-ad33-20a975ff2a3d"
      },
      "execution_count": null,
      "outputs": [
        {
          "output_type": "stream",
          "name": "stdout",
          "text": [
            "[[13 16]\n",
            " [29 36]]\n"
          ]
        }
      ]
    },
    {
      "cell_type": "code",
      "source": [
        "#find the inverse of the array a?\n",
        "d = np.linalg.inv(a)\n",
        "print(d)\n"
      ],
      "metadata": {
        "colab": {
          "base_uri": "https://localhost:8080/"
        },
        "id": "kfIYwKwKUJCK",
        "outputId": "d426fcaa-1f21-44e0-bf4d-ac9d422ac876"
      },
      "execution_count": null,
      "outputs": [
        {
          "output_type": "stream",
          "name": "stdout",
          "text": [
            "[[-2.   1. ]\n",
            " [ 1.5 -0.5]]\n"
          ]
        }
      ]
    },
    {
      "cell_type": "code",
      "source": [
        "# how can i find the diagonal of an array a ?\n",
        "e = np.diag(a)\n",
        "print(e)\n"
      ],
      "metadata": {
        "colab": {
          "base_uri": "https://localhost:8080/"
        },
        "id": "9m3Eg1JkVPcg",
        "outputId": "ba2578ce-e5e8-4b4f-8b6f-c30d07cea6d3"
      },
      "execution_count": null,
      "outputs": [
        {
          "output_type": "stream",
          "name": "stdout",
          "text": [
            "[1 4]\n"
          ]
        }
      ]
    },
    {
      "cell_type": "code",
      "source": [
        "# Note:- Diagonal on vector return a martix\n",
        "c = np.diag([5,5,5])\n",
        "print(c)"
      ],
      "metadata": {
        "colab": {
          "base_uri": "https://localhost:8080/"
        },
        "id": "RCFtBvmIVSFd",
        "outputId": "28ae7719-3249-4d05-d1e1-99c3ae404288"
      },
      "execution_count": null,
      "outputs": [
        {
          "output_type": "stream",
          "name": "stdout",
          "text": [
            "[[5 0 0]\n",
            " [0 5 0]\n",
            " [0 0 5]]\n"
          ]
        }
      ]
    },
    {
      "cell_type": "markdown",
      "source": [
        "# Boolean Indexing"
      ],
      "metadata": {
        "id": "jUiDz4ToV2mJ"
      }
    },
    {
      "cell_type": "code",
      "source": [
        "a = np.array([[1,2],[3,4],[5,6]])\n",
        "print(a)"
      ],
      "metadata": {
        "colab": {
          "base_uri": "https://localhost:8080/"
        },
        "id": "Au3iNdMvV6Fy",
        "outputId": "fed4ada9-f175-4e8b-d3ef-ea2c4ea59e94"
      },
      "execution_count": null,
      "outputs": [
        {
          "output_type": "stream",
          "name": "stdout",
          "text": [
            "[[1 2]\n",
            " [3 4]\n",
            " [5 6]]\n"
          ]
        }
      ]
    },
    {
      "cell_type": "code",
      "source": [
        "#check the number which is more ten 2 and print True if more then 2 else print false\n",
        "print(a>2)\n",
        "#print the numbers\n",
        "print(a[a>2])"
      ],
      "metadata": {
        "colab": {
          "base_uri": "https://localhost:8080/"
        },
        "id": "UluCPmhpWYjx",
        "outputId": "570dabbe-295e-41ff-944f-fdf4a820a92b"
      },
      "execution_count": null,
      "outputs": [
        {
          "output_type": "stream",
          "name": "stdout",
          "text": [
            "[[False False]\n",
            " [ True  True]\n",
            " [ True  True]]\n",
            "[3 4 5 6]\n"
          ]
        }
      ]
    },
    {
      "cell_type": "code",
      "source": [
        "#np.where(logic,True, False)\n",
        "a = np.array([[1,2],[3,4],[5,6]])\n",
        "#print the number greater than 2 and less than number print it as a-1\n",
        "b = np.where (a>2,a,-1)\n",
        "print(b)"
      ],
      "metadata": {
        "colab": {
          "base_uri": "https://localhost:8080/"
        },
        "id": "J3axm48KXoIA",
        "outputId": "f415215b-8b6d-4360-c820-51c756ff15ba"
      },
      "execution_count": null,
      "outputs": [
        {
          "output_type": "stream",
          "name": "stdout",
          "text": [
            "[[-1 -1]\n",
            " [ 3  4]\n",
            " [ 5  6]]\n"
          ]
        }
      ]
    },
    {
      "cell_type": "code",
      "source": [
        "# compute the indexes where the conditio is true\n",
        "c = np.array([10,19,20,30,41,50,61])\n",
        "#get the inde position of the even numbers\n",
        "even = np.argwhere(c%2==0).flatten()\n",
        "print(even)"
      ],
      "metadata": {
        "colab": {
          "base_uri": "https://localhost:8080/"
        },
        "id": "1XPkZZ0sZCwg",
        "outputId": "a0a9b67e-d935-4080-845c-49510b6efa77"
      },
      "execution_count": null,
      "outputs": [
        {
          "output_type": "stream",
          "name": "stdout",
          "text": [
            "[0 2 3 5]\n"
          ]
        }
      ]
    },
    {
      "cell_type": "code",
      "source": [
        "even2 = np.argwhere(a%2==0)\n",
        "print(even2)"
      ],
      "metadata": {
        "colab": {
          "base_uri": "https://localhost:8080/"
        },
        "id": "Qj7b0UXtZrDX",
        "outputId": "6233487b-24e7-43f6-bea5-f2fbb769fa62"
      },
      "execution_count": null,
      "outputs": [
        {
          "output_type": "stream",
          "name": "stdout",
          "text": [
            "[[0 1]\n",
            " [1 1]\n",
            " [2 1]]\n"
          ]
        }
      ]
    },
    {
      "cell_type": "markdown",
      "source": [
        "# 01-08-2025"
      ],
      "metadata": {
        "id": "p5bE65FaVX-Q"
      }
    },
    {
      "cell_type": "markdown",
      "source": [
        "# Reshaping of an array"
      ],
      "metadata": {
        "id": "bAknG0_MVhOV"
      }
    },
    {
      "cell_type": "code",
      "source": [
        "import numpy as np\n"
      ],
      "metadata": {
        "id": "JB_u3nHqVaTL"
      },
      "execution_count": 1,
      "outputs": []
    },
    {
      "cell_type": "code",
      "source": [
        "# create a range of array up to 10\n",
        "a = np.arange(10)\n",
        "print(a)"
      ],
      "metadata": {
        "colab": {
          "base_uri": "https://localhost:8080/"
        },
        "id": "uqo0YDYKVmAR",
        "outputId": "ff9488f0-30ad-467c-e79d-57cfdb65805c"
      },
      "execution_count": 2,
      "outputs": [
        {
          "output_type": "stream",
          "name": "stdout",
          "text": [
            "[0 1 2 3 4 5 6 7 8 9]\n"
          ]
        }
      ]
    },
    {
      "cell_type": "code",
      "source": [
        "# print the range of numbers from 1 to 10\n",
        "b = np.arange(1,11)\n",
        "print(b)"
      ],
      "metadata": {
        "colab": {
          "base_uri": "https://localhost:8080/"
        },
        "id": "mJYn8NgGV2Pe",
        "outputId": "a1b7e33c-6f82-4ab9-89f1-e58dd45b0d01"
      },
      "execution_count": 10,
      "outputs": [
        {
          "output_type": "stream",
          "name": "stdout",
          "text": [
            "[ 1  2  3  4  5  6  7  8  9 10]\n"
          ]
        }
      ]
    },
    {
      "cell_type": "code",
      "source": [
        "# convert the array's \"b\" i  to 2 rows  and 5 colums\n",
        "c = b.reshape(2,5)\n",
        "print(c)"
      ],
      "metadata": {
        "colab": {
          "base_uri": "https://localhost:8080/"
        },
        "id": "O2l-6f2sWFen",
        "outputId": "2218f5ee-c679-452a-95e3-dacff94d8e78"
      },
      "execution_count": 11,
      "outputs": [
        {
          "output_type": "stream",
          "name": "stdout",
          "text": [
            "[[ 1  2  3  4  5]\n",
            " [ 6  7  8  9 10]]\n"
          ]
        }
      ]
    },
    {
      "cell_type": "code",
      "source": [
        "# convert the array b into 5 rows and 2 colums\n",
        "c = b.reshape(5,2)\n",
        "print(c)"
      ],
      "metadata": {
        "colab": {
          "base_uri": "https://localhost:8080/"
        },
        "id": "-n0hVul_WydG",
        "outputId": "118f4185-6f51-4787-fde3-420a776324b4"
      },
      "execution_count": 12,
      "outputs": [
        {
          "output_type": "stream",
          "name": "stdout",
          "text": [
            "[[ 1  2]\n",
            " [ 3  4]\n",
            " [ 5  6]\n",
            " [ 7  8]\n",
            " [ 9 10]]\n"
          ]
        }
      ]
    },
    {
      "cell_type": "code",
      "source": [
        "# create a range of array from 1 to 6 and convert into 2 rows and 3 column\n",
        "e = np.arange(1,7)\n",
        "print(e)\n",
        "f = e.reshape(2,3)\n",
        "print(f)"
      ],
      "metadata": {
        "colab": {
          "base_uri": "https://localhost:8080/"
        },
        "id": "3xgT0bo8W_3U",
        "outputId": "7cac26ca-693d-4f7b-e1a5-983b6a035390"
      },
      "execution_count": 13,
      "outputs": [
        {
          "output_type": "stream",
          "name": "stdout",
          "text": [
            "[1 2 3 4 5 6]\n",
            "[[1 2 3]\n",
            " [4 5 6]]\n"
          ]
        }
      ]
    },
    {
      "cell_type": "code",
      "source": [
        "# what is the shape of e\n",
        "print(e.shape)"
      ],
      "metadata": {
        "colab": {
          "base_uri": "https://localhost:8080/"
        },
        "id": "K7iTNHEYXY4k",
        "outputId": "48df86e1-c288-498a-8f3d-b2a1a1b2e460"
      },
      "execution_count": 14,
      "outputs": [
        {
          "output_type": "stream",
          "name": "stdout",
          "text": [
            "(6,)\n"
          ]
        }
      ]
    },
    {
      "cell_type": "markdown",
      "source": [
        "np.newaxis--> it is used change the data in certain manner"
      ],
      "metadata": {
        "id": "SZLHUyZmXgah"
      }
    },
    {
      "cell_type": "code",
      "source": [
        "g = e[np.newaxis,:]\n",
        "print(g)\n",
        "print(g.shape)"
      ],
      "metadata": {
        "colab": {
          "base_uri": "https://localhost:8080/"
        },
        "id": "0HW0Hs0lXpaw",
        "outputId": "587ba2b8-c012-44d9-c45c-204d87db74ee"
      },
      "execution_count": 15,
      "outputs": [
        {
          "output_type": "stream",
          "name": "stdout",
          "text": [
            "[[1 2 3 4 5 6]]\n",
            "(1, 6)\n"
          ]
        }
      ]
    },
    {
      "cell_type": "code",
      "source": [
        "h = e[:,np.newaxis]\n",
        "print(h)"
      ],
      "metadata": {
        "colab": {
          "base_uri": "https://localhost:8080/"
        },
        "id": "e8_ak4JUX1_m",
        "outputId": "0df57576-f44e-48d0-ff6e-8ad1f0bec65c"
      },
      "execution_count": 16,
      "outputs": [
        {
          "output_type": "stream",
          "name": "stdout",
          "text": [
            "[[1]\n",
            " [2]\n",
            " [3]\n",
            " [4]\n",
            " [5]\n",
            " [6]]\n"
          ]
        }
      ]
    },
    {
      "cell_type": "markdown",
      "source": [
        "# **Concatenation**\n"
      ],
      "metadata": {
        "id": "92tEiqzuZVV7"
      }
    },
    {
      "cell_type": "code",
      "source": [
        "# concatenation--> combine 2 array's or concatenate 2 array's\n",
        "a = np.array([[1,2] ,[3,4]])\n",
        "b = np.array([[5,6] ,[7,8]])\n",
        "c = np.concatenate((a,b))\n",
        "print(c)\n",
        "# Note--1. when we give axis = 0 concatenate wrt rows wise, axis = 1 concatenate wrt columnwise\n",
        "# when we give axis = None concatenate in 1D array format"
      ],
      "metadata": {
        "colab": {
          "base_uri": "https://localhost:8080/"
        },
        "id": "J1F-NKX3ZRdB",
        "outputId": "98bd1569-bce5-4931-a2f8-88aacec5cd67"
      },
      "execution_count": 18,
      "outputs": [
        {
          "output_type": "stream",
          "name": "stdout",
          "text": [
            "[[1 2]\n",
            " [3 4]\n",
            " [5 6]\n",
            " [7 8]]\n"
          ]
        }
      ]
    },
    {
      "cell_type": "code",
      "source": [
        "d = np.concatenate((a,b.T), axis=1)\n",
        "print(d)"
      ],
      "metadata": {
        "colab": {
          "base_uri": "https://localhost:8080/"
        },
        "id": "47YWG6d9aTBp",
        "outputId": "5c405e0c-697c-4f2b-e902-9e55f3f02eb8"
      },
      "execution_count": 19,
      "outputs": [
        {
          "output_type": "stream",
          "name": "stdout",
          "text": [
            "[[1 2 5 7]\n",
            " [3 4 6 8]]\n"
          ]
        }
      ]
    },
    {
      "cell_type": "markdown",
      "source": [
        "# **HSTACk**-->stack array insequence horizontal"
      ],
      "metadata": {
        "id": "kqQ43km8a-Pj"
      }
    },
    {
      "cell_type": "code",
      "source": [
        "#Hsatck:- stack array adding in sequence Horizontally\n",
        "a = np.array([[1,2] ,[3,4]])\n",
        "b = np.array([[5,6] ,[7,8]])\n",
        "h = np.hstack((a,b))\n",
        "print(h)"
      ],
      "metadata": {
        "colab": {
          "base_uri": "https://localhost:8080/"
        },
        "id": "mFNDPUv5a_0X",
        "outputId": "44cac2f8-88e1-4fdf-bd4f-4d44d0469099"
      },
      "execution_count": 20,
      "outputs": [
        {
          "output_type": "stream",
          "name": "stdout",
          "text": [
            "[[1 2 5 6]\n",
            " [3 4 7 8]]\n"
          ]
        }
      ]
    },
    {
      "cell_type": "markdown",
      "source": [
        "# VSTACK--> stack arrays in sequence vertically"
      ],
      "metadata": {
        "id": "hXAibHGgb69w"
      }
    },
    {
      "cell_type": "code",
      "source": [
        "#Vstack:- Stack array adding in sequence vertically"
      ],
      "metadata": {
        "id": "QRuJcWHnb-jb"
      },
      "execution_count": null,
      "outputs": []
    },
    {
      "cell_type": "code",
      "source": [
        "a = np.array([[1,2] ,[3,4]])\n",
        "b = np.array([[5,6] ,[7,8]])\n",
        "v = np.vstack((a,b))\n",
        "print(v)"
      ],
      "metadata": {
        "colab": {
          "base_uri": "https://localhost:8080/"
        },
        "id": "zSk-U2PvbpN_",
        "outputId": "d605546b-7f99-4846-c703-c219eecda2ba"
      },
      "execution_count": 22,
      "outputs": [
        {
          "output_type": "stream",
          "name": "stdout",
          "text": [
            "[[1 2]\n",
            " [3 4]\n",
            " [5 6]\n",
            " [7 8]]\n"
          ]
        }
      ]
    },
    {
      "cell_type": "markdown",
      "source": [
        "#  Broadcasting methods--> broadcasting is a powerful mechanism that allows numpy  to work with different arrays of different shapes when performing the arthamatic operation"
      ],
      "metadata": {
        "id": "9wm6i1qocgzR"
      }
    },
    {
      "cell_type": "code",
      "source": [
        "x = np.array([[1,2,3],[4,5,6],[7,8,9],[10,11,12]])\n",
        "y = np.array([1,0,1])\n",
        "z = x+y\n",
        "print(z)"
      ],
      "metadata": {
        "colab": {
          "base_uri": "https://localhost:8080/"
        },
        "id": "kTBY4m5xdeCT",
        "outputId": "b17cb869-6b4b-4274-823c-e9dd138d1a57"
      },
      "execution_count": 24,
      "outputs": [
        {
          "output_type": "stream",
          "name": "stdout",
          "text": [
            "[[ 2  2  4]\n",
            " [ 5  5  7]\n",
            " [ 8  8 10]\n",
            " [11 11 13]]\n"
          ]
        }
      ]
    },
    {
      "cell_type": "markdown",
      "source": [
        "# Copying of the Array's"
      ],
      "metadata": {
        "id": "CrzhreLjd62D"
      }
    },
    {
      "cell_type": "code",
      "source": [
        "a =np.array([1,2,3])\n",
        "b = a\n",
        "b [0] = 8\n",
        "print(a)"
      ],
      "metadata": {
        "colab": {
          "base_uri": "https://localhost:8080/"
        },
        "id": "EfV4Zp6Dd4aA",
        "outputId": "a67da24c-6780-4a08-a9df-746c6c2a8258"
      },
      "execution_count": 25,
      "outputs": [
        {
          "output_type": "stream",
          "name": "stdout",
          "text": [
            "[8 2 3]\n"
          ]
        }
      ]
    },
    {
      "cell_type": "code",
      "source": [
        "a =np.array([1,2,3])\n",
        "b = a.copy()\n",
        "b [0] = 8\n",
        "print(a)\n",
        "print(b)\n",
        "\n",
        "#Np.copy--> is used when we male any changes in the new array it won't impact on the original array's"
      ],
      "metadata": {
        "colab": {
          "base_uri": "https://localhost:8080/"
        },
        "id": "K1906T3FekDK",
        "outputId": "dbea4e40-4504-4493-e4a6-795b68ce2dcd"
      },
      "execution_count": 29,
      "outputs": [
        {
          "output_type": "stream",
          "name": "stdout",
          "text": [
            "[1 2 3]\n",
            "[8 2 3]\n"
          ]
        }
      ]
    },
    {
      "cell_type": "markdown",
      "source": [
        "# Generating Arrays"
      ],
      "metadata": {
        "id": "QYOYaJs5fUEO"
      }
    },
    {
      "cell_type": "code",
      "source": [
        "# generate an array's of zeros 2rows and 3 columns\n",
        "a = np.zeros((2,3,))\n",
        "print(a)"
      ],
      "metadata": {
        "colab": {
          "base_uri": "https://localhost:8080/"
        },
        "id": "qIlHdnE5fVgn",
        "outputId": "e74911f2-da4a-4e6b-861b-d9cf2c779b63"
      },
      "execution_count": 30,
      "outputs": [
        {
          "output_type": "stream",
          "name": "stdout",
          "text": [
            "[[0. 0. 0.]\n",
            " [0. 0. 0.]]\n"
          ]
        }
      ]
    },
    {
      "cell_type": "code",
      "source": [
        "# generate an array's of zeros 2rows and 3 columns\n",
        "a = np.zeros((2,3,))\n",
        "print(a)"
      ],
      "metadata": {
        "colab": {
          "base_uri": "https://localhost:8080/"
        },
        "id": "tZIFH6EKfoNC",
        "outputId": "0a013620-04af-403f-da1b-12759a41bab2"
      },
      "execution_count": 31,
      "outputs": [
        {
          "output_type": "stream",
          "name": "stdout",
          "text": [
            "[[0. 0. 0.]\n",
            " [0. 0. 0.]]\n"
          ]
        }
      ]
    },
    {
      "cell_type": "code",
      "source": [
        "a=np.zeros(3)\n",
        "print(a)"
      ],
      "metadata": {
        "colab": {
          "base_uri": "https://localhost:8080/"
        },
        "id": "K7TYs6IIgD1o",
        "outputId": "77424765-bfc9-4721-bfa9-165fab50f31e"
      },
      "execution_count": 35,
      "outputs": [
        {
          "output_type": "stream",
          "name": "stdout",
          "text": [
            "[0. 0. 0.]\n"
          ]
        }
      ]
    },
    {
      "cell_type": "code",
      "source": [
        "# generate an array's of zeros 2rows and 3 columns\n",
        "a = np.ones((2,3,))\n",
        "print(a)"
      ],
      "metadata": {
        "colab": {
          "base_uri": "https://localhost:8080/"
        },
        "id": "rsSQDnXEfrSr",
        "outputId": "19cf3c47-e5aa-4096-f4a9-5bc1ee3e8d3a"
      },
      "execution_count": 32,
      "outputs": [
        {
          "output_type": "stream",
          "name": "stdout",
          "text": [
            "[[1. 1. 1.]\n",
            " [1. 1. 1.]]\n"
          ]
        }
      ]
    },
    {
      "cell_type": "code",
      "source": [
        "a=np.ones(3)\n",
        "print(a)"
      ],
      "metadata": {
        "colab": {
          "base_uri": "https://localhost:8080/"
        },
        "id": "78KYXt82gQhb",
        "outputId": "7caa5317-de4b-4dd3-8e51-608c59fe08e3"
      },
      "execution_count": 36,
      "outputs": [
        {
          "output_type": "stream",
          "name": "stdout",
          "text": [
            "[1. 1. 1.]\n"
          ]
        }
      ]
    },
    {
      "cell_type": "code",
      "source": [
        "#generate an array's of specific number with particular rows and columns\n",
        "d = np.full((3,3),2)\n",
        "print(d)"
      ],
      "metadata": {
        "colab": {
          "base_uri": "https://localhost:8080/"
        },
        "id": "srkRdF6TfwKG",
        "outputId": "2950fc56-d27e-4581-bc8f-e5e4923412d5"
      },
      "execution_count": 38,
      "outputs": [
        {
          "output_type": "stream",
          "name": "stdout",
          "text": [
            "[[2 2 2]\n",
            " [2 2 2]\n",
            " [2 2 2]]\n"
          ]
        }
      ]
    },
    {
      "cell_type": "code",
      "source": [
        "#generate an identity matrix\n",
        "e =np.eye(4)\n",
        "print(e)\n",
        "#np.identity\n"
      ],
      "metadata": {
        "colab": {
          "base_uri": "https://localhost:8080/"
        },
        "id": "ANXDxQT1fv8O",
        "outputId": "cc2e6aff-722c-4dea-f909-28c19afa8674"
      },
      "execution_count": 37,
      "outputs": [
        {
          "output_type": "stream",
          "name": "stdout",
          "text": [
            "[[1. 0. 0. 0.]\n",
            " [0. 1. 0. 0.]\n",
            " [0. 0. 1. 0.]\n",
            " [0. 0. 0. 1.]]\n"
          ]
        }
      ]
    },
    {
      "cell_type": "code",
      "source": [
        "e =np.identity(4)\n",
        "print(e)"
      ],
      "metadata": {
        "colab": {
          "base_uri": "https://localhost:8080/"
        },
        "id": "r1RAaxZygjVK",
        "outputId": "aca91d6b-acba-4e7c-ac7d-d6c6466cbd22"
      },
      "execution_count": 39,
      "outputs": [
        {
          "output_type": "stream",
          "name": "stdout",
          "text": [
            "[[1. 0. 0. 0.]\n",
            " [0. 1. 0. 0.]\n",
            " [0. 0. 1. 0.]\n",
            " [0. 0. 0. 1.]]\n"
          ]
        }
      ]
    },
    {
      "cell_type": "code",
      "source": [
        "#linspace:- splits the data into n equal parts\n",
        "j = np.linspace(0,10,6)\n",
        "print(j)\n",
        "\n",
        "#np.linspace(start,end, NO of partitions)"
      ],
      "metadata": {
        "colab": {
          "base_uri": "https://localhost:8080/"
        },
        "id": "vpAiFuycgyzq",
        "outputId": "efafa48a-c355-48e8-fe49-2ef867153901"
      },
      "execution_count": 47,
      "outputs": [
        {
          "output_type": "stream",
          "name": "stdout",
          "text": [
            "[ 0.  2.  4.  6.  8. 10.]\n"
          ]
        }
      ]
    },
    {
      "cell_type": "markdown",
      "source": [
        "# Random Numbers"
      ],
      "metadata": {
        "id": "iRRRFs1lh8jz"
      }
    },
    {
      "cell_type": "code",
      "source": [
        "#generate random numbers those are uniformly distributed from 0-1\n",
        "a = np.random.random((3,2))\n",
        "print(a)"
      ],
      "metadata": {
        "colab": {
          "base_uri": "https://localhost:8080/"
        },
        "id": "eooeXjjohCDi",
        "outputId": "5a98b330-52bf-488f-88be-4cecf8df875b"
      },
      "execution_count": 58,
      "outputs": [
        {
          "output_type": "stream",
          "name": "stdout",
          "text": [
            "[[0.21354509 0.81534787]\n",
            " [0.81699972 0.97572814]\n",
            " [0.05590441 0.89824729]]\n"
          ]
        }
      ]
    },
    {
      "cell_type": "code",
      "source": [
        "#generate an array of random numbers with 1000 and find the mean and varience and std\n",
        "c = np .random.randn(1000)\n",
        "print(c.mean(),c.std(),c.var())\n",
        "# How can we say the data is normally distributed--> when the mean of that is equals to 0 and satndard deviation = 1 the the normally distributed"
      ],
      "metadata": {
        "colab": {
          "base_uri": "https://localhost:8080/"
        },
        "id": "OYYflJ9Ph_mU",
        "outputId": "330f3e36-1735-4485-be9e-ba188f1a202e"
      },
      "execution_count": 62,
      "outputs": [
        {
          "output_type": "stream",
          "name": "stdout",
          "text": [
            "-0.02117161103098961 0.9782014829150585 0.9568781411772195\n"
          ]
        }
      ]
    },
    {
      "cell_type": "code",
      "source": [
        "##generate an array of integers from 3, 10 with 2rows and 3 columns\n",
        "d =np.random.randint(3,10, size=(3,2))\n",
        "print(d)\n"
      ],
      "metadata": {
        "colab": {
          "base_uri": "https://localhost:8080/"
        },
        "id": "I6Y8J4rTjKnO",
        "outputId": "5efce829-cb23-4a75-fd3a-7321863d2d7b"
      },
      "execution_count": 74,
      "outputs": [
        {
          "output_type": "stream",
          "name": "stdout",
          "text": [
            "[[6]\n",
            " [4]\n",
            " [6]]\n"
          ]
        }
      ]
    },
    {
      "cell_type": "code",
      "source": [
        "#generate an array of numbers upto 6 randomly with the size of 10\n",
        "e = np.random.choice(7,size=10)\n",
        "print(e)"
      ],
      "metadata": {
        "colab": {
          "base_uri": "https://localhost:8080/"
        },
        "id": "vuqKRWynjj_w",
        "outputId": "827b9b6f-7bf5-41e8-f03c-9fd608f7ddb5"
      },
      "execution_count": 75,
      "outputs": [
        {
          "output_type": "stream",
          "name": "stdout",
          "text": [
            "[3 1 1 0 2 4 0 4 2 1]\n"
          ]
        }
      ]
    },
    {
      "cell_type": "code",
      "source": [
        "import numpy as np\n",
        "#x1 + x2 = 2200\n",
        "#1.5x1 + 4x2 = 5050\n",
        "#find the value of x1 and x2\n",
        "\n",
        "a = np.array([[1,1],[1.5,4]])\n",
        "b = np.array([2200,5050])\n",
        "x = np.linalg.inv(a).dot(b)# slove(a,b)\n",
        "print(x)\n",
        "#AX =  B"
      ],
      "metadata": {
        "colab": {
          "base_uri": "https://localhost:8080/"
        },
        "id": "SKg-d53CkXud",
        "outputId": "19c6634f-7a16-4c9b-803c-79777d9db506"
      },
      "execution_count": 76,
      "outputs": [
        {
          "output_type": "stream",
          "name": "stdout",
          "text": [
            "[1500.  700.]\n"
          ]
        }
      ]
    },
    {
      "cell_type": "code",
      "source": [
        "\"\"\"\n",
        "np.shape\n",
        "np.size\n",
        "np.ndim\n",
        "np.dtype\n",
        "np.itemsize\n",
        "#what is 1d 2d and 3 d array's\n",
        "# what is the diff b;w list and arrays\n",
        "# How can we reshape an arrays--> np.reshape(row,col)--> 2d data\n",
        "# How can we apply the dot product --> np.dot(ar1,ar2)\n",
        "# How can we generate an array specific number --> np.full(ro,col),num)\n",
        "# how can we copy an array--> np.copy()\n",
        "#unifro distribution --> np.random.random\n",
        "#how can you say a data is randomly distributed--> mean is zero, varience is equal to 1 and std is equal to 1\n",
        "#random_numbers_with specific size--> np.random.choice(range of numbers,size=number)\n",
        "#genrate range of random integers--> np.random.randint(start,end, size=(row,col))"
      ],
      "metadata": {
        "id": "D34JZGHMlLak"
      },
      "execution_count": null,
      "outputs": []
    }
  ]
}